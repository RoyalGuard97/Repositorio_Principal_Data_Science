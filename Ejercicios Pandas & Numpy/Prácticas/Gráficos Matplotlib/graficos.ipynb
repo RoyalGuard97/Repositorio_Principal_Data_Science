{
 "cells": [
  {
   "cell_type": "code",
   "execution_count": 1,
   "metadata": {},
   "outputs": [],
   "source": [
    "import pandas as pd"
   ]
  },
  {
   "cell_type": "code",
   "execution_count": 2,
   "metadata": {},
   "outputs": [],
   "source": [
    "#Skiprows saltea filas que no aportan al dataframe\n",
    "df = pd.read_csv(\"ventasTotales.csv\",skiprows=5,sep=\";\",decimal = \",\") #Sep es el separador"
   ]
  },
  {
   "cell_type": "code",
   "execution_count": 3,
   "metadata": {},
   "outputs": [
    {
     "data": {
      "text/html": [
       "<div>\n",
       "<style scoped>\n",
       "    .dataframe tbody tr th:only-of-type {\n",
       "        vertical-align: middle;\n",
       "    }\n",
       "\n",
       "    .dataframe tbody tr th {\n",
       "        vertical-align: top;\n",
       "    }\n",
       "\n",
       "    .dataframe thead th {\n",
       "        text-align: right;\n",
       "    }\n",
       "</style>\n",
       "<table border=\"1\" class=\"dataframe\">\n",
       "  <thead>\n",
       "    <tr style=\"text-align: right;\">\n",
       "      <th></th>\n",
       "      <th>Fecha</th>\n",
       "      <th>Vendedor</th>\n",
       "      <th>Región</th>\n",
       "      <th>Artículo</th>\n",
       "      <th>Categoría</th>\n",
       "      <th>Unidades</th>\n",
       "      <th>Ganancia</th>\n",
       "    </tr>\n",
       "  </thead>\n",
       "  <tbody>\n",
       "    <tr>\n",
       "      <th>0</th>\n",
       "      <td>1/1/2016</td>\n",
       "      <td>Steve Ashton</td>\n",
       "      <td>Norte</td>\n",
       "      <td>Medias Femeninas</td>\n",
       "      <td>Vestimenta</td>\n",
       "      <td>6</td>\n",
       "      <td>18.00</td>\n",
       "    </tr>\n",
       "    <tr>\n",
       "      <th>1</th>\n",
       "      <td>1/1/2016</td>\n",
       "      <td>Trevor Snodgrass</td>\n",
       "      <td>Oeste</td>\n",
       "      <td>Chocolate</td>\n",
       "      <td>Comestibles</td>\n",
       "      <td>8</td>\n",
       "      <td>3.84</td>\n",
       "    </tr>\n",
       "    <tr>\n",
       "      <th>2</th>\n",
       "      <td>1/1/2016</td>\n",
       "      <td>Sarah Bond</td>\n",
       "      <td>Sur</td>\n",
       "      <td>Gorras</td>\n",
       "      <td>Vestimenta</td>\n",
       "      <td>3</td>\n",
       "      <td>6.30</td>\n",
       "    </tr>\n",
       "    <tr>\n",
       "      <th>3</th>\n",
       "      <td>1/1/2016</td>\n",
       "      <td>Desmond Delaney</td>\n",
       "      <td>Sur</td>\n",
       "      <td>Sánguche de Queso</td>\n",
       "      <td>Comestibles</td>\n",
       "      <td>9</td>\n",
       "      <td>14.40</td>\n",
       "    </tr>\n",
       "    <tr>\n",
       "      <th>4</th>\n",
       "      <td>1/1/2016</td>\n",
       "      <td>Desmond Delaney</td>\n",
       "      <td>Este</td>\n",
       "      <td>Chocolate</td>\n",
       "      <td>Comestibles</td>\n",
       "      <td>14</td>\n",
       "      <td>6.72</td>\n",
       "    </tr>\n",
       "    <tr>\n",
       "      <th>...</th>\n",
       "      <td>...</td>\n",
       "      <td>...</td>\n",
       "      <td>...</td>\n",
       "      <td>...</td>\n",
       "      <td>...</td>\n",
       "      <td>...</td>\n",
       "      <td>...</td>\n",
       "    </tr>\n",
       "    <tr>\n",
       "      <th>455</th>\n",
       "      <td>31/1/2016</td>\n",
       "      <td>Sarah Bond</td>\n",
       "      <td>Sur</td>\n",
       "      <td>Bufanda</td>\n",
       "      <td>Vestimenta</td>\n",
       "      <td>6</td>\n",
       "      <td>16.50</td>\n",
       "    </tr>\n",
       "    <tr>\n",
       "      <th>456</th>\n",
       "      <td>31/1/2016</td>\n",
       "      <td>Dustin Gee</td>\n",
       "      <td>Este</td>\n",
       "      <td>Sandalias</td>\n",
       "      <td>Vestimenta</td>\n",
       "      <td>11</td>\n",
       "      <td>115.50</td>\n",
       "    </tr>\n",
       "    <tr>\n",
       "      <th>457</th>\n",
       "      <td>31/1/2016</td>\n",
       "      <td>Dustin Gee</td>\n",
       "      <td>Este</td>\n",
       "      <td>Sánguche de Queso</td>\n",
       "      <td>Comestibles</td>\n",
       "      <td>4</td>\n",
       "      <td>6.40</td>\n",
       "    </tr>\n",
       "    <tr>\n",
       "      <th>458</th>\n",
       "      <td>31/1/2016</td>\n",
       "      <td>Dustin Gee</td>\n",
       "      <td>Norte</td>\n",
       "      <td>Escobillón</td>\n",
       "      <td>Hogar</td>\n",
       "      <td>8</td>\n",
       "      <td>6.80</td>\n",
       "    </tr>\n",
       "    <tr>\n",
       "      <th>459</th>\n",
       "      <td>31/1/2016</td>\n",
       "      <td>Trevor Snodgrass</td>\n",
       "      <td>Sur</td>\n",
       "      <td>Pepinillo</td>\n",
       "      <td>Comestibles</td>\n",
       "      <td>7</td>\n",
       "      <td>2.10</td>\n",
       "    </tr>\n",
       "  </tbody>\n",
       "</table>\n",
       "<p>460 rows × 7 columns</p>\n",
       "</div>"
      ],
      "text/plain": [
       "         Fecha          Vendedor Región           Artículo    Categoría  \\\n",
       "0     1/1/2016      Steve Ashton  Norte   Medias Femeninas   Vestimenta   \n",
       "1     1/1/2016  Trevor Snodgrass  Oeste          Chocolate  Comestibles   \n",
       "2     1/1/2016        Sarah Bond    Sur             Gorras   Vestimenta   \n",
       "3     1/1/2016   Desmond Delaney    Sur  Sánguche de Queso  Comestibles   \n",
       "4     1/1/2016   Desmond Delaney   Este          Chocolate  Comestibles   \n",
       "..         ...               ...    ...                ...          ...   \n",
       "455  31/1/2016        Sarah Bond    Sur            Bufanda   Vestimenta   \n",
       "456  31/1/2016        Dustin Gee   Este          Sandalias   Vestimenta   \n",
       "457  31/1/2016        Dustin Gee   Este  Sánguche de Queso  Comestibles   \n",
       "458  31/1/2016        Dustin Gee  Norte         Escobillón        Hogar   \n",
       "459  31/1/2016  Trevor Snodgrass    Sur          Pepinillo  Comestibles   \n",
       "\n",
       "     Unidades  Ganancia  \n",
       "0           6     18.00  \n",
       "1           8      3.84  \n",
       "2           3      6.30  \n",
       "3           9     14.40  \n",
       "4          14      6.72  \n",
       "..        ...       ...  \n",
       "455         6     16.50  \n",
       "456        11    115.50  \n",
       "457         4      6.40  \n",
       "458         8      6.80  \n",
       "459         7      2.10  \n",
       "\n",
       "[460 rows x 7 columns]"
      ]
     },
     "execution_count": 3,
     "metadata": {},
     "output_type": "execute_result"
    }
   ],
   "source": [
    "df"
   ]
  },
  {
   "cell_type": "code",
   "execution_count": 4,
   "metadata": {},
   "outputs": [],
   "source": [
    "import matplotlib.pyplot as plt\n",
    "%matplotlib inline"
   ]
  },
  {
   "cell_type": "markdown",
   "metadata": {},
   "source": [
    "¿Qué Gráfico es mejor para Representar mis datos?"
   ]
  },
  {
   "cell_type": "markdown",
   "metadata": {},
   "source": [
    "# Gráficos Lineales"
   ]
  },
  {
   "cell_type": "markdown",
   "metadata": {},
   "source": [
    "* Los Gráficos de Línea son para hacer seguimiento de cambios durante un corto periodo de tiempo\n",
    "* Cuando existen cambios mínimos, los graficos de línea son superiores a uno de barras\n",
    "* También sirven para comparar cambios en un mismo periodo de tiempo para mas de un grupo-"
   ]
  },
  {
   "cell_type": "markdown",
   "metadata": {},
   "source": [
    "# Gráficos en Barra"
   ]
  },
  {
   "cell_type": "markdown",
   "metadata": {},
   "source": [
    "* También sirven para hacer comparaciones entre diferentes grupos y para hacer un seguimiento de los cambios alrededor del tiempo.\n",
    "* Sin embargo si los cambios entre tiempos son considerables los gráficos de barra de nutren de esto. "
   ]
  },
  {
   "cell_type": "markdown",
   "metadata": {},
   "source": [
    "# Gráficos de Barra Horizontales"
   ]
  },
  {
   "cell_type": "markdown",
   "metadata": {},
   "source": [
    "* Indenticos a los gráficos de barra convencionales solo que invertidos. "
   ]
  },
  {
   "cell_type": "markdown",
   "metadata": {},
   "source": [
    "# Gráficos de Pastel"
   ]
  },
  {
   "cell_type": "markdown",
   "metadata": {},
   "source": [
    "* Son usados para querer comparar las proporciones de un todo\n",
    "* No se usan para variaciones en el tiempo"
   ]
  },
  {
   "cell_type": "markdown",
   "metadata": {},
   "source": [
    "# Gráficos Lineales Aplicados"
   ]
  },
  {
   "cell_type": "code",
   "execution_count": 5,
   "metadata": {},
   "outputs": [
    {
     "data": {
      "text/html": [
       "<div>\n",
       "<style scoped>\n",
       "    .dataframe tbody tr th:only-of-type {\n",
       "        vertical-align: middle;\n",
       "    }\n",
       "\n",
       "    .dataframe tbody tr th {\n",
       "        vertical-align: top;\n",
       "    }\n",
       "\n",
       "    .dataframe thead th {\n",
       "        text-align: right;\n",
       "    }\n",
       "</style>\n",
       "<table border=\"1\" class=\"dataframe\">\n",
       "  <thead>\n",
       "    <tr style=\"text-align: right;\">\n",
       "      <th></th>\n",
       "      <th>Fecha</th>\n",
       "      <th>Vendedor</th>\n",
       "      <th>Región</th>\n",
       "      <th>Artículo</th>\n",
       "      <th>Categoría</th>\n",
       "      <th>Unidades</th>\n",
       "      <th>Ganancia</th>\n",
       "    </tr>\n",
       "  </thead>\n",
       "  <tbody>\n",
       "    <tr>\n",
       "      <th>0</th>\n",
       "      <td>1/1/2016</td>\n",
       "      <td>Steve Ashton</td>\n",
       "      <td>Norte</td>\n",
       "      <td>Medias Femeninas</td>\n",
       "      <td>Vestimenta</td>\n",
       "      <td>6</td>\n",
       "      <td>18.00</td>\n",
       "    </tr>\n",
       "    <tr>\n",
       "      <th>1</th>\n",
       "      <td>1/1/2016</td>\n",
       "      <td>Trevor Snodgrass</td>\n",
       "      <td>Oeste</td>\n",
       "      <td>Chocolate</td>\n",
       "      <td>Comestibles</td>\n",
       "      <td>8</td>\n",
       "      <td>3.84</td>\n",
       "    </tr>\n",
       "    <tr>\n",
       "      <th>2</th>\n",
       "      <td>1/1/2016</td>\n",
       "      <td>Sarah Bond</td>\n",
       "      <td>Sur</td>\n",
       "      <td>Gorras</td>\n",
       "      <td>Vestimenta</td>\n",
       "      <td>3</td>\n",
       "      <td>6.30</td>\n",
       "    </tr>\n",
       "    <tr>\n",
       "      <th>3</th>\n",
       "      <td>1/1/2016</td>\n",
       "      <td>Desmond Delaney</td>\n",
       "      <td>Sur</td>\n",
       "      <td>Sánguche de Queso</td>\n",
       "      <td>Comestibles</td>\n",
       "      <td>9</td>\n",
       "      <td>14.40</td>\n",
       "    </tr>\n",
       "    <tr>\n",
       "      <th>4</th>\n",
       "      <td>1/1/2016</td>\n",
       "      <td>Desmond Delaney</td>\n",
       "      <td>Este</td>\n",
       "      <td>Chocolate</td>\n",
       "      <td>Comestibles</td>\n",
       "      <td>14</td>\n",
       "      <td>6.72</td>\n",
       "    </tr>\n",
       "  </tbody>\n",
       "</table>\n",
       "</div>"
      ],
      "text/plain": [
       "      Fecha          Vendedor Región           Artículo    Categoría  \\\n",
       "0  1/1/2016      Steve Ashton  Norte   Medias Femeninas   Vestimenta   \n",
       "1  1/1/2016  Trevor Snodgrass  Oeste          Chocolate  Comestibles   \n",
       "2  1/1/2016        Sarah Bond    Sur             Gorras   Vestimenta   \n",
       "3  1/1/2016   Desmond Delaney    Sur  Sánguche de Queso  Comestibles   \n",
       "4  1/1/2016   Desmond Delaney   Este          Chocolate  Comestibles   \n",
       "\n",
       "   Unidades  Ganancia  \n",
       "0         6     18.00  \n",
       "1         8      3.84  \n",
       "2         3      6.30  \n",
       "3         9     14.40  \n",
       "4        14      6.72  "
      ]
     },
     "execution_count": 5,
     "metadata": {},
     "output_type": "execute_result"
    }
   ],
   "source": [
    "df.head()"
   ]
  },
  {
   "cell_type": "markdown",
   "metadata": {},
   "source": [
    "Problema: Se desea analizar la cantidad de ventas de artículos que pertenecen a la categoría de comestibles"
   ]
  },
  {
   "cell_type": "markdown",
   "metadata": {},
   "source": [
    "* Primero separamos por la categoría \"Comestibles\""
   ]
  },
  {
   "cell_type": "code",
   "execution_count": 6,
   "metadata": {},
   "outputs": [
    {
     "data": {
      "text/html": [
       "<div>\n",
       "<style scoped>\n",
       "    .dataframe tbody tr th:only-of-type {\n",
       "        vertical-align: middle;\n",
       "    }\n",
       "\n",
       "    .dataframe tbody tr th {\n",
       "        vertical-align: top;\n",
       "    }\n",
       "\n",
       "    .dataframe thead th {\n",
       "        text-align: right;\n",
       "    }\n",
       "</style>\n",
       "<table border=\"1\" class=\"dataframe\">\n",
       "  <thead>\n",
       "    <tr style=\"text-align: right;\">\n",
       "      <th></th>\n",
       "      <th>Fecha</th>\n",
       "      <th>Vendedor</th>\n",
       "      <th>Región</th>\n",
       "      <th>Artículo</th>\n",
       "      <th>Categoría</th>\n",
       "      <th>Unidades</th>\n",
       "      <th>Ganancia</th>\n",
       "    </tr>\n",
       "  </thead>\n",
       "  <tbody>\n",
       "    <tr>\n",
       "      <th>1</th>\n",
       "      <td>1/1/2016</td>\n",
       "      <td>Trevor Snodgrass</td>\n",
       "      <td>Oeste</td>\n",
       "      <td>Chocolate</td>\n",
       "      <td>Comestibles</td>\n",
       "      <td>8</td>\n",
       "      <td>3.84</td>\n",
       "    </tr>\n",
       "    <tr>\n",
       "      <th>3</th>\n",
       "      <td>1/1/2016</td>\n",
       "      <td>Desmond Delaney</td>\n",
       "      <td>Sur</td>\n",
       "      <td>Sánguche de Queso</td>\n",
       "      <td>Comestibles</td>\n",
       "      <td>9</td>\n",
       "      <td>14.40</td>\n",
       "    </tr>\n",
       "    <tr>\n",
       "      <th>4</th>\n",
       "      <td>1/1/2016</td>\n",
       "      <td>Desmond Delaney</td>\n",
       "      <td>Este</td>\n",
       "      <td>Chocolate</td>\n",
       "      <td>Comestibles</td>\n",
       "      <td>14</td>\n",
       "      <td>6.72</td>\n",
       "    </tr>\n",
       "    <tr>\n",
       "      <th>5</th>\n",
       "      <td>1/1/2016</td>\n",
       "      <td>Trevor Snodgrass</td>\n",
       "      <td>Este</td>\n",
       "      <td>Cerveza</td>\n",
       "      <td>Comestibles</td>\n",
       "      <td>15</td>\n",
       "      <td>6.00</td>\n",
       "    </tr>\n",
       "    <tr>\n",
       "      <th>6</th>\n",
       "      <td>1/1/2016</td>\n",
       "      <td>Boris Stanford</td>\n",
       "      <td>Norte</td>\n",
       "      <td>Pepinillo</td>\n",
       "      <td>Comestibles</td>\n",
       "      <td>14</td>\n",
       "      <td>4.20</td>\n",
       "    </tr>\n",
       "    <tr>\n",
       "      <th>...</th>\n",
       "      <td>...</td>\n",
       "      <td>...</td>\n",
       "      <td>...</td>\n",
       "      <td>...</td>\n",
       "      <td>...</td>\n",
       "      <td>...</td>\n",
       "      <td>...</td>\n",
       "    </tr>\n",
       "    <tr>\n",
       "      <th>444</th>\n",
       "      <td>31/1/2016</td>\n",
       "      <td>Dustin Gee</td>\n",
       "      <td>Oeste</td>\n",
       "      <td>Sánguche de Queso</td>\n",
       "      <td>Comestibles</td>\n",
       "      <td>12</td>\n",
       "      <td>19.20</td>\n",
       "    </tr>\n",
       "    <tr>\n",
       "      <th>450</th>\n",
       "      <td>31/1/2016</td>\n",
       "      <td>Boris Stanford</td>\n",
       "      <td>Este</td>\n",
       "      <td>Chocolate</td>\n",
       "      <td>Comestibles</td>\n",
       "      <td>3</td>\n",
       "      <td>1.44</td>\n",
       "    </tr>\n",
       "    <tr>\n",
       "      <th>452</th>\n",
       "      <td>31/1/2016</td>\n",
       "      <td>Dustin Gee</td>\n",
       "      <td>Oeste</td>\n",
       "      <td>Caramelos</td>\n",
       "      <td>Comestibles</td>\n",
       "      <td>6</td>\n",
       "      <td>3.60</td>\n",
       "    </tr>\n",
       "    <tr>\n",
       "      <th>457</th>\n",
       "      <td>31/1/2016</td>\n",
       "      <td>Dustin Gee</td>\n",
       "      <td>Este</td>\n",
       "      <td>Sánguche de Queso</td>\n",
       "      <td>Comestibles</td>\n",
       "      <td>4</td>\n",
       "      <td>6.40</td>\n",
       "    </tr>\n",
       "    <tr>\n",
       "      <th>459</th>\n",
       "      <td>31/1/2016</td>\n",
       "      <td>Trevor Snodgrass</td>\n",
       "      <td>Sur</td>\n",
       "      <td>Pepinillo</td>\n",
       "      <td>Comestibles</td>\n",
       "      <td>7</td>\n",
       "      <td>2.10</td>\n",
       "    </tr>\n",
       "  </tbody>\n",
       "</table>\n",
       "<p>153 rows × 7 columns</p>\n",
       "</div>"
      ],
      "text/plain": [
       "         Fecha          Vendedor Región           Artículo    Categoría  \\\n",
       "1     1/1/2016  Trevor Snodgrass  Oeste          Chocolate  Comestibles   \n",
       "3     1/1/2016   Desmond Delaney    Sur  Sánguche de Queso  Comestibles   \n",
       "4     1/1/2016   Desmond Delaney   Este          Chocolate  Comestibles   \n",
       "5     1/1/2016  Trevor Snodgrass   Este            Cerveza  Comestibles   \n",
       "6     1/1/2016    Boris Stanford  Norte          Pepinillo  Comestibles   \n",
       "..         ...               ...    ...                ...          ...   \n",
       "444  31/1/2016        Dustin Gee  Oeste  Sánguche de Queso  Comestibles   \n",
       "450  31/1/2016    Boris Stanford   Este          Chocolate  Comestibles   \n",
       "452  31/1/2016        Dustin Gee  Oeste          Caramelos  Comestibles   \n",
       "457  31/1/2016        Dustin Gee   Este  Sánguche de Queso  Comestibles   \n",
       "459  31/1/2016  Trevor Snodgrass    Sur          Pepinillo  Comestibles   \n",
       "\n",
       "     Unidades  Ganancia  \n",
       "1           8      3.84  \n",
       "3           9     14.40  \n",
       "4          14      6.72  \n",
       "5          15      6.00  \n",
       "6          14      4.20  \n",
       "..        ...       ...  \n",
       "444        12     19.20  \n",
       "450         3      1.44  \n",
       "452         6      3.60  \n",
       "457         4      6.40  \n",
       "459         7      2.10  \n",
       "\n",
       "[153 rows x 7 columns]"
      ]
     },
     "execution_count": 6,
     "metadata": {},
     "output_type": "execute_result"
    }
   ],
   "source": [
    "#Graficos lineales - Deseamos analizar la categoría de comestibles\n",
    "condicion = df[\"Categoría\"] == \"Comestibles\"\n",
    "df[condicion]"
   ]
  },
  {
   "cell_type": "markdown",
   "metadata": {},
   "source": [
    "* Construimos el Dataframe con esa condición\n",
    "* Y analizamos los artículos, contando sus ventas por artículo con un gráfico lineal. "
   ]
  },
  {
   "cell_type": "code",
   "execution_count": 7,
   "metadata": {},
   "outputs": [
    {
     "data": {
      "text/plain": [
       "Pan                  26\n",
       "Chocolate            25\n",
       "Sánguche de Queso    25\n",
       "Pepinillo            24\n",
       "Soda                 19\n",
       "Cerveza              17\n",
       "Caramelos            17\n",
       "Name: Artículo, dtype: int64"
      ]
     },
     "execution_count": 7,
     "metadata": {},
     "output_type": "execute_result"
    }
   ],
   "source": [
    "#Resultados sin gráficos\n",
    "df[condicion][\"Artículo\"].value_counts()"
   ]
  },
  {
   "cell_type": "markdown",
   "metadata": {},
   "source": [
    "* Este gráfico  como se comprueba no es el más adecuado\n",
    "* Ya que no existe una medida en el tiempo que lo requiera"
   ]
  },
  {
   "cell_type": "code",
   "execution_count": 19,
   "metadata": {},
   "outputs": [
    {
     "data": {
      "image/png": "[encoded data removed]",
      "text/plain": [
       "<Figure size 720x360 with 1 Axes>"
      ]
     },
     "metadata": {
      "needs_background": "light"
     },
     "output_type": "display_data"
    }
   ],
   "source": [
    "#Resultado con Gráficos - Tipo Lineal\n",
    "df[condicion][\"Artículo\"].value_counts().plot(kind = \"line\",color = \"black\",figsize=(10,5))\n",
    "plt.show()"
   ]
  },
  {
   "cell_type": "markdown",
   "metadata": {},
   "source": [
    "* El siguiente gráfico es el más adecuado"
   ]
  },
  {
   "cell_type": "code",
   "execution_count": 23,
   "metadata": {},
   "outputs": [
    {
     "data": {
      "image/png": "[encoded data removed]",
      "text/plain": [
       "<Figure size 720x360 with 1 Axes>"
      ]
     },
     "metadata": {
      "needs_background": "light"
     },
     "output_type": "display_data"
    }
   ],
   "source": [
    "#Resultado con Gráficos - Tipo Barra\n",
    "df[condicion][\"Artículo\"].value_counts().plot(kind = \"bar\",figsize =(10,5))\n",
    "plt.show()"
   ]
  },
  {
   "cell_type": "markdown",
   "metadata": {},
   "source": [
    "* Este gráfico también sería una buena opción"
   ]
  },
  {
   "cell_type": "code",
   "execution_count": 11,
   "metadata": {},
   "outputs": [
    {
     "data": {
      "image/png": "[encoded data removed]",
      "text/plain": [
       "<Figure size 432x288 with 1 Axes>"
      ]
     },
     "metadata": {
      "needs_background": "light"
     },
     "output_type": "display_data"
    }
   ],
   "source": [
    "#Resultado con Gráficos - Tipo Barra Horizontales\n",
    "df[condicion][\"Artículo\"].value_counts().plot(kind = \"barh\",color = \"red\")\n",
    "plt.show()"
   ]
  },
  {
   "cell_type": "markdown",
   "metadata": {},
   "source": [
    "* Este gráfico de tipo pastel tampoco sería lo mejor"
   ]
  },
  {
   "cell_type": "code",
   "execution_count": 12,
   "metadata": {},
   "outputs": [
    {
     "data": {
      "image/png": "[encoded data removed]",
      "text/plain": [
       "<Figure size 432x288 with 1 Axes>"
      ]
     },
     "metadata": {},
     "output_type": "display_data"
    }
   ],
   "source": [
    "df[condicion][\"Artículo\"].value_counts().plot(kind = \"pie\")\n",
    "plt.show()"
   ]
  },
  {
   "cell_type": "markdown",
   "metadata": {},
   "source": [
    "# Gráfico de Dispersión"
   ]
  },
  {
   "cell_type": "markdown",
   "metadata": {},
   "source": [
    "* Nos sirve para visualizar como interactúan distintos tipos de series. \n",
    "* Sim embargo solo deben de ser de tipo numérico. "
   ]
  },
  {
   "cell_type": "code",
   "execution_count": 15,
   "metadata": {},
   "outputs": [
    {
     "data": {
      "text/plain": [
       "<AxesSubplot:xlabel='Unidades', ylabel='Ganancia'>"
      ]
     },
     "execution_count": 15,
     "metadata": {},
     "output_type": "execute_result"
    },
    {
     "data": {
      "image/png": "[encoded data removed]",
      "text/plain": [
       "<Figure size 432x288 with 1 Axes>"
      ]
     },
     "metadata": {
      "needs_background": "light"
     },
     "output_type": "display_data"
    }
   ],
   "source": [
    "#Ejemplo: Scatter es Dispersion\n",
    "df.plot(kind=\"scatter\",x=\"Unidades\",y=\"Ganancia\",color =\"red\")"
   ]
  }
 ],
 "metadata": {
  "interpreter": {
   "hash": "afb734500600fd355917ca529030176ea0ca205570884b88f2f6f7d791fd3fbe"
  },
  "kernelspec": {
   "display_name": "Python 3.10.2 64-bit",
   "language": "python",
   "name": "python3"
  },
  "language_info": {
   "codemirror_mode": {
    "name": "ipython",
    "version": 3
   },
   "file_extension": ".py",
   "mimetype": "text/x-python",
   "name": "python",
   "nbconvert_exporter": "python",
   "pygments_lexer": "ipython3",
   "version": "3.10.2"
  },
  "orig_nbformat": 4
 },
 "nbformat": 4,
 "nbformat_minor": 2
}
