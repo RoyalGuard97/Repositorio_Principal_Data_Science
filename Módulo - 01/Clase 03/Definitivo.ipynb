{
 "cells": [
  {
   "cell_type": "markdown",
   "metadata": {},
   "source": [
    "# Ejercicios Numpy"
   ]
  },
  {
   "cell_type": "code",
   "execution_count": 1,
   "metadata": {},
   "outputs": [
    {
     "name": "stdout",
     "output_type": "stream",
     "text": [
      "1.22.3\n"
     ]
    }
   ],
   "source": [
    "import numpy as np\n",
    "#Comprobamos la version de nuestro numpy as np\n",
    "print(np.__version__)\n"
   ]
  },
  {
   "cell_type": "code",
   "execution_count": 4,
   "metadata": {},
   "outputs": [
    {
     "name": "stdout",
     "output_type": "stream",
     "text": [
      "[1 2 3]\n"
     ]
    }
   ],
   "source": [
    "#Crear un Arreglo de una dimensión, osea un vector\n",
    "arreglo = np.array([1,2,3])\n",
    "print(arreglo)\n"
   ]
  },
  {
   "cell_type": "code",
   "execution_count": 8,
   "metadata": {},
   "outputs": [
    {
     "name": "stdout",
     "output_type": "stream",
     "text": [
      "[[ True  True  True]\n",
      " [ True  True  True]\n",
      " [ True  True  True]]\n"
     ]
    }
   ],
   "source": [
    "#Crear un arreglo booleano de 3x3\n",
    "#Parametros de la funcion full → (dimension) (elemento) (tipo dato elemento)\n",
    "arreglo = np.full((3,3),1,dtype=bool)\n",
    "print(arreglo)"
   ]
  },
  {
   "cell_type": "code",
   "execution_count": 11,
   "metadata": {},
   "outputs": [
    {
     "name": "stdout",
     "output_type": "stream",
     "text": [
      "[0 1 2 3 4 5 6 7 8 9]\n",
      "[1 3 5 7 9]\n"
     ]
    }
   ],
   "source": [
    "#Crear un arreglo a partir de otro teniendo como referencia una condición\n",
    "arreglo = np.arange(10)\n",
    "print(arreglo)\n",
    "#Usaremos una mascara, esta contendrá la condición que deseamos\n",
    "mascara = arreglo%2!=0\n",
    "arreglo_resultado = arreglo[mascara]\n",
    "print(arreglo_resultado)"
   ]
  },
  {
   "cell_type": "code",
   "execution_count": 13,
   "metadata": {},
   "outputs": [
    {
     "name": "stdout",
     "output_type": "stream",
     "text": [
      "[ 0 -1  2 -1  4 -1  6 -1  8 -1]\n"
     ]
    }
   ],
   "source": [
    "#Cambiar los elementos de un arreglo según una condición, afecta el arreglo original\n",
    "arreglo = np.arange(10)\n",
    "#Guardamos la condicion, que sería en teoría una mascara\n",
    "condicion = arreglo%2!=0\n",
    "#cambiamos los datos, el arreglo mismo se actualiza\n",
    "arreglo[condicion] = -1\n",
    "print(arreglo)\n"
   ]
  },
  {
   "cell_type": "code",
   "execution_count": 20,
   "metadata": {},
   "outputs": [
    {
     "name": "stdout",
     "output_type": "stream",
     "text": [
      "[0 1 2 3 4 5 6 7 8 9]\n",
      "[ 0 -1  2 -1  4 -1  6 -1  8 -1]\n"
     ]
    }
   ],
   "source": [
    "#Cambiar los elementos de un arreglo según una condición, sin afectarlo como tal\n",
    "arreglo = np.arange(10)\n",
    "#Un nuevo arreglo sera igual a la funcion where\n",
    "#Esta recibe como parametro → nuestra condicion de cambio, elemento por el cual \n",
    "#cambiamos, y finalmente el arreglo principal\n",
    "arreglo_salida = np.where(arreglo%2!=0,-1,arreglo)\n",
    "print(arreglo)\n",
    "print(arreglo_salida)"
   ]
  },
  {
   "cell_type": "code",
   "execution_count": 30,
   "metadata": {},
   "outputs": [
    {
     "name": "stdout",
     "output_type": "stream",
     "text": [
      "[[0 1 2]\n",
      " [3 4 5]\n",
      " [6 7 8]]\n"
     ]
    }
   ],
   "source": [
    "#Redimensionar un arreglo\n",
    "#La Funcion reshape redimensiona un arreglo, podemos pasar de un vector a un 3x3\n",
    "vector = np.arange(9).reshape((3,3))\n",
    "print(vector)\n",
    "#OJO: Para redimensionar basta que sepamos un numero de filas o columnas admitibles\n",
    "#Si el siguiente dato es -1 ya estaría hecho"
   ]
  },
  {
   "cell_type": "code",
   "execution_count": 44,
   "metadata": {},
   "outputs": [
    {
     "name": "stdout",
     "output_type": "stream",
     "text": [
      "[[0 1 2 3 4]\n",
      " [5 6 7 8 9]\n",
      " [0 1 2 3 4]\n",
      " [5 6 7 8 9]\n",
      " [0 1 2 3 4]\n",
      " [5 6 7 8 9]]\n",
      "[[0 1 2 3 4]\n",
      " [5 6 7 8 9]\n",
      " [0 1 2 3 4]\n",
      " [5 6 7 8 9]\n",
      " [0 1 2 3 4]\n",
      " [5 6 7 8 9]]\n",
      "[[0 1 2 3 4]\n",
      " [5 6 7 8 9]\n",
      " [0 1 2 3 4]\n",
      " [5 6 7 8 9]\n",
      " [0 1 2 3 4]\n",
      " [5 6 7 8 9]]\n"
     ]
    }
   ],
   "source": [
    "#Creamos 2 Arreglos para agruparlos verticalmente\n",
    "a = np.arange(10).reshape(2,-1) #Se que tendrá 2 filas, por lo que 5 columnas (-1)\n",
    "b = np.arange(10).reshape(2,-1)\n",
    "c = np.arange(10).reshape(2,-1)\n",
    "#Primera forma de unir verticalmente 2 arrys, axis = 0 significa verticalmente\n",
    "arreglo = np.concatenate((a,b,c), axis=0)\n",
    "print(arreglo) #Doble parentesis\n",
    "\n",
    "#Segunda forma de unir verticalmente 2 array, en este caso debemos insertarlo como\n",
    "#una lista, sin ningun parametro adicional usando el vstack. \n",
    "arreglo = np.vstack([a,b,c])\n",
    "print(arreglo) #Un parentesis, una lista\n",
    "\n",
    "#Tercera Forma de unir verticalmente 2 array, usamos np.r_ junto a nuestra lista de arreglos\n",
    "arreglo = np.r_[a,b,c]\n",
    "print(arreglo) #Solo lista"
   ]
  },
  {
   "cell_type": "code",
   "execution_count": 248,
   "metadata": {},
   "outputs": [
    {
     "name": "stdout",
     "output_type": "stream",
     "text": [
      "[[0 1 2 3 4 0 1 2 3 4 0 1 2 3 4]\n",
      " [5 6 7 8 9 5 6 7 8 9 5 6 7 8 9]]\n",
      "[[0 1 2 3 4 0 1 2 3 4 0 1 2 3 4]\n",
      " [5 6 7 8 9 5 6 7 8 9 5 6 7 8 9]]\n",
      "[[0 1 2 3 4 0 1 2 3 4 0 1 2 3 4]\n",
      " [5 6 7 8 9 5 6 7 8 9 5 6 7 8 9]]\n"
     ]
    }
   ],
   "source": [
    "#Entiende ROW es\n",
    "#Creamos 2 Arreglos para agruparlo horizontalmente\n",
    "a = np.arange(10).reshape(2,-1) \n",
    "b = np.arange(10).reshape(2,-1)\n",
    "c = np.arange(10).reshape(2,-1)\n",
    "\n",
    "arreglo = np.concatenate((a,b,c), axis=1)\n",
    "print(arreglo) \n",
    "\n",
    "arreglo = np.hstack([a,b,c])\n",
    "print(arreglo) \n",
    "\n",
    "\n",
    "arreglo = np.c_[a,b,c]\n",
    "print(arreglo) "
   ]
  },
  {
   "cell_type": "code",
   "execution_count": 56,
   "metadata": {},
   "outputs": [
    {
     "name": "stdout",
     "output_type": "stream",
     "text": [
      "[1 2 3]\n",
      "[1 1 1 2 2 2 3 3 3]\n",
      "[1 2 3 1 2 3 1 2 3]\n",
      "[1 1 1 2 2 2 3 3 3 1 2 3 1 2 3 1 2 3]\n"
     ]
    }
   ],
   "source": [
    "#Crear secuencias especiales a partir de tu arreglo\n",
    "arreglo = np.arange(1,4)\n",
    "print(arreglo)\n",
    "#Con repeat, creamos un arreglo cuyos elementos se repiten n veces del arreglo base\n",
    "a1 = arreglo.repeat(3)\n",
    "print(a1)\n",
    "#Con tile, hacemos un arreglo, que se conforme de nuestro arreglo base repetido n veces\n",
    "a2 = np.tile(arreglo,3)\n",
    "print(a2)\n",
    "\n",
    "arreglo_resultado = np.concatenate((a1,a2),axis = 0)\n",
    "print(arreglo_resultado)"
   ]
  },
  {
   "cell_type": "code",
   "execution_count": 60,
   "metadata": {},
   "outputs": [
    {
     "name": "stdout",
     "output_type": "stream",
     "text": [
      "[2 4]\n",
      "[ 1  2  3  4  5  6  7  8  9 10]\n",
      "[1 3 5 6]\n",
      "[ 1  3  5  6  7  8  9 10]\n"
     ]
    }
   ],
   "source": [
    "#Operaciones de Conjuntos pero en Arreglos\n",
    "a = np.array([1,2,3,2,3,4,3,4,5,6])\n",
    "b = np.array([7,2,10,2,7,4,9,4,9,8])\n",
    "\n",
    "#Operacion Interseccion\n",
    "print(np.intersect1d(a,b))\n",
    "#Operacion Union\n",
    "print(np.union1d(a,b))\n",
    "#Operacion Resta de Conjuntos\n",
    "print(np.setdiff1d(a,b))\n",
    "#Operacion Diferencia Simétrica\n",
    "print(np.setxor1d(a,b))"
   ]
  },
  {
   "cell_type": "code",
   "execution_count": 63,
   "metadata": {},
   "outputs": [
    {
     "name": "stdout",
     "output_type": "stream",
     "text": [
      "[5 9]\n"
     ]
    }
   ],
   "source": [
    "#Crear un arreglo a partir de otro pero eliminar todos los que compartan con otro arreglo\n",
    "\n",
    "a = np.array([1,2,5,7,8,9])\n",
    "b = np.array([1,8])\n",
    "d = np.array([2,7])\n",
    "\n",
    "c = np.setdiff1d(np.setdiff1d(a,b),d)\n",
    "\n",
    "print(c)"
   ]
  },
  {
   "cell_type": "code",
   "execution_count": 80,
   "metadata": {},
   "outputs": [
    {
     "name": "stdout",
     "output_type": "stream",
     "text": [
      "<class 'tuple'>\n",
      "(array([1, 3, 5, 7], dtype=int64),)\n"
     ]
    }
   ],
   "source": [
    "#En que indices estos arreglos están repetidos\n",
    "a = np.array([1,2,3,2,3,4,3,4,5,6])\n",
    "b = np.array([7,2,10,2,7,4,9,4,9,8])\n",
    "\n",
    "#DONDE A es IGUAL a B?\n",
    "arreglo_indices = np.where(a==b)\n",
    "print(type(arreglo_indices)) #Arroja al parecer una tupla\n",
    "print((arreglo_indices)) \n",
    "#Así podemos obtener los elementos repetidos\n",
    "\n",
    "#Ojo un arreglo puede recibir una lista para recorrerse o un arreglo, estos seran los indices, solo que si estan en orden se recorren pues en orden\n",
    "\n",
    "\n"
   ]
  },
  {
   "cell_type": "code",
   "execution_count": 85,
   "metadata": {},
   "outputs": [
    {
     "name": "stdout",
     "output_type": "stream",
     "text": [
      "[ 6  9 10]\n"
     ]
    }
   ],
   "source": [
    "a = np.array([2, 6, 1, 9, 10, 3, 27])\n",
    "#Cuando manejamos dos o más condiciones para extraer un dato en un arreglo\n",
    "#Debemos colocarlos en paréntesis y relacionarlos con & lo mismo con |\n",
    "condicion = (a>=5) & (a<=10)\n",
    "a = a[condicion]\n",
    "print(a)"
   ]
  },
  {
   "cell_type": "code",
   "execution_count": 95,
   "metadata": {},
   "outputs": [
    {
     "data": {
      "text/plain": [
       "array([1, 2, 3, 2, 3, 4, 3, 4, 5, 6])"
      ]
     },
     "execution_count": 95,
     "metadata": {},
     "output_type": "execute_result"
    }
   ],
   "source": [
    "#Vectorizar una funcion, hacer que una funcion de escalar funcione en vectores\n",
    "\n",
    "\n",
    "def min(x,y):\n",
    "    if x<=y:\n",
    "        return x\n",
    "    else:\n",
    "        return y\n",
    "\n",
    "a = np.array([1,2,3,2,3,4,3,4,5,6])\n",
    "b = np.array([7,2,10,2,7,4,9,4,9,8])\n",
    "\n",
    "\n",
    "#Atención en el vectorize, el tipo de dato debe ir entre []\n",
    "nueva_funcion = np.vectorize(min,otypes=[int])\n",
    "\n",
    "nueva_funcion(a,b)\n"
   ]
  },
  {
   "cell_type": "code",
   "execution_count": 115,
   "metadata": {},
   "outputs": [
    {
     "name": "stdout",
     "output_type": "stream",
     "text": [
      "[[0 1 2]\n",
      " [3 4 5]\n",
      " [6 7 8]] \n",
      "\n",
      "[[1 0 2]\n",
      " [4 3 5]\n",
      " [7 6 8]] \n",
      "\n",
      "[[0 1 2]\n",
      " [6 7 8]\n",
      " [3 4 5]]\n"
     ]
    }
   ],
   "source": [
    "#Intercambio o modificación de Columnas en un mismo arreglo\n",
    "arreglo = np.arange(9).reshape((3,3))\n",
    "print(arreglo,\"\\n\")\n",
    "#Con esto cambiamos en si el orden de las columnas\n",
    "print(arreglo[:,[1,0,2]],\"\\n\")\n",
    "#Con esto cambios en si el orden las filas\n",
    "print(arreglo[[0,2,1],:])\n",
    "#De la misma forma podemos obtener los elementos queq queramos con este metodo."
   ]
  },
  {
   "cell_type": "code",
   "execution_count": 123,
   "metadata": {},
   "outputs": [
    {
     "name": "stdout",
     "output_type": "stream",
     "text": [
      "[[ 0  1  2  3  4]\n",
      " [ 5  6  7  8  9]\n",
      " [10 11 12 13 14]\n",
      " [15 16 17 18 19]] \n",
      "\n",
      "[[15 16 17 18 19]\n",
      " [10 11 12 13 14]\n",
      " [ 5  6  7  8  9]\n",
      " [ 0  1  2  3  4]]\n"
     ]
    }
   ],
   "source": [
    "#Como invertir un arreglo 2D?, por filas? , la ultima fila será la primera\n",
    "arreglo = np.arange(20).reshape((4,-1))\n",
    "print(arreglo,\"\\n\")\n",
    "arreglo_inverso = arreglo[::-1]\n",
    "print(arreglo_inverso)"
   ]
  },
  {
   "cell_type": "code",
   "execution_count": 127,
   "metadata": {},
   "outputs": [
    {
     "name": "stdout",
     "output_type": "stream",
     "text": [
      "[[ 0  1  2  3  4]\n",
      " [ 5  6  7  8  9]\n",
      " [10 11 12 13 14]\n",
      " [15 16 17 18 19]] \n",
      "\n",
      "[[ 4  3  2  1  0]\n",
      " [ 9  8  7  6  5]\n",
      " [14 13 12 11 10]\n",
      " [19 18 17 16 15]]\n"
     ]
    }
   ],
   "source": [
    "#Como invertir un arreglo 2D? Por columnas?, la última columna será la primera\n",
    "arreglo = np.arange(20).reshape((4,-1))\n",
    "print(arreglo,\"\\n\")\n",
    "arreglo_inverso = arreglo[:,::-1]\n",
    "print(arreglo_inverso)"
   ]
  },
  {
   "cell_type": "code",
   "execution_count": 146,
   "metadata": {},
   "outputs": [
    {
     "name": "stdout",
     "output_type": "stream",
     "text": [
      "[[0.76182995 0.61597746 0.94994257]\n",
      " [0.98759514 0.99766099 0.44431734]\n",
      " [0.51386445 0.38491039 0.12801327]] \n",
      "\n",
      "[[[0.41129747 0.31408298 0.56278013 0.60694471 0.006047  ]\n",
      "  [0.00844139 0.16164965 0.85996452 0.40875576 0.79215775]\n",
      "  [0.63805243 0.26400069 0.63454378 0.94498483 0.33411003]]\n",
      "\n",
      " [[0.57197507 0.28136096 0.63233448 0.96550888 0.5994503 ]\n",
      "  [0.55170942 0.51312328 0.44065912 0.97236298 0.78817595]\n",
      "  [0.77771274 0.55875253 0.72039979 0.70678789 0.2043364 ]]\n",
      "\n",
      " [[0.01599844 0.01233179 0.48426646 0.51043329 0.02622115]\n",
      "  [0.47157677 0.81042472 0.47401673 0.00717549 0.72910707]\n",
      "  [0.1365828  0.55140881 0.56057276 0.40851079 0.74844488]]]\n"
     ]
    }
   ],
   "source": [
    "#Arreglo de numeros aleatorios de 0 a 1 [n elementos] y redimensionados\n",
    "arreglo = np.random.random(9).reshape((3,-1))\n",
    "print(arreglo,\"\\n\")\n",
    "\n",
    "#Segunda Forma, directamente sin redimensionar\n",
    "arreglo = np.random.random((3,3,5))\n",
    "print(arreglo)\n"
   ]
  },
  {
   "cell_type": "code",
   "execution_count": 180,
   "metadata": {},
   "outputs": [
    {
     "name": "stdout",
     "output_type": "stream",
     "text": [
      "[[7.8728744 9.1154965 9.3333527 5.8952653 5.5243276]\n",
      " [9.1918464 5.2256526 6.8740163 8.0320298 5.1279702]\n",
      " [6.6862568 7.0157363 7.9403806 6.0235911 7.8380123]\n",
      " [6.5183565 5.0522002 9.6726564 8.6884444 9.983075 ]\n",
      " [5.0213718 8.206595  9.2665543 7.8300833 5.0358144]\n",
      " [9.5528358 5.3427928 6.2372136 5.0496513 5.3826454]\n",
      " [6.5730984 6.686232  8.7446226 8.4435381 9.9985584]\n",
      " [9.741328  5.7328636 5.7206122 9.6984649 9.1582605]\n",
      " [6.2994226 8.6364905 5.1065562 8.7162241 6.9947789]\n",
      " [6.2225284 6.7902486 5.1586799 5.149963  7.4504362]]\n"
     ]
    }
   ],
   "source": [
    "#Arreglo de números aleatorios de entre 5 a 10, y redimensionados\n",
    "#En este caso usariamos random.uniform\n",
    "#Recibe de parametros 2 numeros, lim inferior y lim superior, también su dimension en size = (tupla)\n",
    "arreglo_random = np.random.uniform(5,10, size=(10,5))\n",
    "print(arreglo_random)"
   ]
  },
  {
   "cell_type": "code",
   "execution_count": 179,
   "metadata": {},
   "outputs": [
    {
     "data": {
      "text/plain": [
       "array([[0.1284183, 0.1058688, 0.1218222],\n",
       "       [0.9836833, 0.6365011, 0.9667018],\n",
       "       [0.523484 , 0.9113856, 0.2730745],\n",
       "       [0.2090734, 0.9013324, 0.1343404],\n",
       "       [0.4431772, 0.0045443, 0.1209077]])"
      ]
     },
     "execution_count": 179,
     "metadata": {},
     "output_type": "execute_result"
    }
   ],
   "source": [
    "arreglo = np.random.random((5,3))\n",
    "#Con esto seteo la precission de los decimales que necesito\n",
    "np.set_printoptions(precision=7)\n",
    "arreglo"
   ]
  },
  {
   "cell_type": "code",
   "execution_count": 217,
   "metadata": {},
   "outputs": [
    {
     "name": "stdout",
     "output_type": "stream",
     "text": [
      "[[5.434049e-04 2.783694e-04 4.245176e-04]\n",
      " [8.447761e-04 4.718856e-06 1.215691e-04]\n",
      " [6.707491e-04 8.258528e-04 1.367066e-04]] \n",
      "\n",
      "[[0.000543 0.000278 0.000425]\n",
      " [0.000845 0.000005 0.000122]\n",
      " [0.000671 0.000826 0.000137]]\n"
     ]
    }
   ],
   "source": [
    "#Para resetar las opciones de impresion hacemos lo siguiente\n",
    "np.set_printoptions(suppress=False)\n",
    "#Con esto establecemos una semilla para la generacion de datos aleatorios,\n",
    "#de manera que colocamos una con la que podremos operar a continuacion\n",
    "np.random.seed(100)\n",
    "rand_arr = np.random.random([3,3])/1e3 #Estamos dividiendo entre 1000\n",
    "print(rand_arr,\"\\n\")\n",
    "#Ahora nos desharemos del molesto 1e potencia de 10\n",
    "np.set_printoptions(suppress=True,precision=6)\n",
    "print(rand_arr)"
   ]
  },
  {
   "cell_type": "code",
   "execution_count": 228,
   "metadata": {},
   "outputs": [
    {
     "name": "stdout",
     "output_type": "stream",
     "text": [
      "[ 0  1  2  3  4  5  6  7  8  9 10 11 12 13 14 15 16 17 18 19 20 21 22 23\n",
      " 24 25 26 27 28 29 30 31 32 33 34 35 36 37 38 39 40 41 42 43 44 45 46 47\n",
      " 48 49 50 51 52 53 54 55 56 57 58 59 60 61 62 63 64 65 66 67 68 69 70 71\n",
      " 72 73 74 75 76 77 78 79 80 81 82 83 84 85 86 87 88 89 90 91 92 93 94 95\n",
      " 96 97 98 99]\n",
      "[ 0  1  2 ... 97 98 99]\n"
     ]
    }
   ],
   "source": [
    "#Si tenemos un array enorme, como lo limitamos por ejemplo para ver solo\n",
    "#los primeros 3 elementos y los ultimos 3?\n",
    "np.set_printoptions(threshold=np.inf)\n",
    "arreglo = np.arange(100)\n",
    "print(arreglo)\n",
    "\n",
    "#Modificamos las opciones de impresion\n",
    "np.set_printoptions(threshold=6)\n",
    "print(arreglo)"
   ]
  },
  {
   "cell_type": "code",
   "execution_count": 230,
   "metadata": {},
   "outputs": [
    {
     "name": "stdout",
     "output_type": "stream",
     "text": [
      "[ 0  1  2  3  4  5  6  7  8  9 10 11 12 13 14 15 16 17 18 19 20 21 22 23\n",
      " 24 25 26 27 28 29 30 31 32 33 34 35 36 37 38 39 40 41 42 43 44 45 46 47\n",
      " 48 49 50 51 52 53 54 55 56 57 58 59 60 61 62 63 64 65 66 67 68 69 70 71\n",
      " 72 73 74 75 76 77 78 79 80 81 82 83 84 85 86 87 88 89 90 91 92 93 94 95\n",
      " 96 97 98 99]\n"
     ]
    }
   ],
   "source": [
    "#Para que vuelva a la normalidad el metodo de la impresion array\n",
    "np.set_printoptions(threshold=np.inf)\n",
    "print(arreglo)"
   ]
  },
  {
   "cell_type": "code",
   "execution_count": 265,
   "metadata": {},
   "outputs": [
    {
     "name": "stdout",
     "output_type": "stream",
     "text": [
      "sepallength\n"
     ]
    }
   ],
   "source": [
    "#Acceder un dato con una URL\n",
    "url = 'https://archive.ics.uci.edu/ml/machine-learning-databases/iris/iris.data'\n",
    "iris = np.genfromtxt(url, delimiter=',', dtype='object')\n",
    "names = ('sepallength', 'sepalwidth', 'petallength', 'petalwidth', 'species')\n",
    "names = np.array(names)\n",
    "tabla_final = np.vstack([names,iris])\n",
    "\n"
   ]
  },
  {
   "cell_type": "code",
   "execution_count": 272,
   "metadata": {},
   "outputs": [
    {
     "name": "stdout",
     "output_type": "stream",
     "text": [
      "(150,)\n"
     ]
    },
    {
     "name": "stderr",
     "output_type": "stream",
     "text": [
      "C:\\Users\\User\\AppData\\Local\\Temp\\ipykernel_2484\\1935397065.py:2: VisibleDeprecationWarning: Reading unicode strings without specifying the encoding argument is deprecated. Set the encoding, use None for the system default.\n",
      "  iris_1d = np.genfromtxt(url, delimiter=',', dtype=None)\n"
     ]
    },
    {
     "data": {
      "text/plain": [
       "array([b'Iris-setosa', b'Iris-setosa', b'Iris-setosa', b'Iris-setosa',\n",
       "       b'Iris-setosa'], dtype='|S15')"
      ]
     },
     "execution_count": 272,
     "metadata": {},
     "output_type": "execute_result"
    }
   ],
   "source": [
    "url = 'https://archive.ics.uci.edu/ml/machine-learning-databases/iris/iris.data'\n",
    "iris_1d = np.genfromtxt(url, delimiter=',', dtype=None)\n",
    "print(iris_1d.shape)\n",
    "species = np.array([row[4] for row in iris_1d])\n",
    "species[:5]"
   ]
  }
 ],
 "metadata": {
  "interpreter": {
   "hash": "afb734500600fd355917ca529030176ea0ca205570884b88f2f6f7d791fd3fbe"
  },
  "kernelspec": {
   "display_name": "Python 3.10.2 64-bit",
   "language": "python",
   "name": "python3"
  },
  "language_info": {
   "codemirror_mode": {
    "name": "ipython",
    "version": 3
   },
   "file_extension": ".py",
   "mimetype": "text/x-python",
   "name": "python",
   "nbconvert_exporter": "python",
   "pygments_lexer": "ipython3",
   "version": "3.10.2"
  },
  "orig_nbformat": 4
 },
 "nbformat": 4,
 "nbformat_minor": 2
}
