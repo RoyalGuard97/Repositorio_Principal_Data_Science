{
 "cells": [
  {
   "cell_type": "markdown",
   "metadata": {},
   "source": [
    "# Ejemplos Básicos"
   ]
  },
  {
   "cell_type": "markdown",
   "metadata": {},
   "source": [
    "* Obtener la Ruta más rápida\n",
    "* Volumen perfecto para estudiar tu música favorita\n",
    "    * Este problema tiene condiciones\n",
    "* Mas tiempo de sueño... \n",
    "* Más nutrientes de los productos con menor precio..."
   ]
  },
  {
   "cell_type": "markdown",
   "metadata": {},
   "source": [
    "¿Qué es Optimización? \n",
    "* Obtener los máximos o mínimos de una función objetivo.\n",
    "* La Función objetivo es la entidad matemática que vamos a optimizar. Expresadas normalmente en ecuaciones matemáticas\n",
    "* Variable algebraica, las variables que influyen en la función objetivo. \n"
   ]
  },
  {
   "cell_type": "markdown",
   "metadata": {},
   "source": [
    "Máximo y Mínimo"
   ]
  },
  {
   "cell_type": "markdown",
   "metadata": {},
   "source": [
    "* Son limitaciones de dimensión\n",
    "* Conceptos de punto de inflexión."
   ]
  },
  {
   "cell_type": "markdown",
   "metadata": {},
   "source": [
    "# Optimización 01: Gradiente"
   ]
  },
  {
   "cell_type": "markdown",
   "metadata": {},
   "source": [
    "* Precio U = 35A + 208V"
   ]
  },
  {
   "cell_type": "markdown",
   "metadata": {},
   "source": [
    "* Se considera que: A(290-100/V) = 5833.3"
   ]
  },
  {
   "cell_type": "markdown",
   "metadata": {},
   "source": [
    "* V = 50/(T-20)"
   ]
  },
  {
   "cell_type": "markdown",
   "metadata": {},
   "source": [
    "* Debemos crear una función, de Modo que U esté en función de T"
   ]
  },
  {
   "cell_type": "markdown",
   "metadata": {},
   "source": [
    "U = (204165.5/330-2T) + 10400/(T-20)"
   ]
  },
  {
   "cell_type": "markdown",
   "metadata": {},
   "source": [
    "* La temperatura T está limitada al rango [40,90]"
   ]
  },
  {
   "cell_type": "markdown",
   "metadata": {},
   "source": [
    "¿Como plasmar una función en Matplotlib?"
   ]
  },
  {
   "cell_type": "code",
   "execution_count": 2,
   "metadata": {},
   "outputs": [
    {
     "data": {
      "image/png": "[encoded data removed]",
      "text/plain": [
       "<Figure size 576x432 with 1 Axes>"
      ]
     },
     "metadata": {},
     "output_type": "display_data"
    }
   ],
   "source": [
    "#Facilidad de Presentación Matplotlib\n",
    "%matplotlib inline\n",
    "import matplotlib.pyplot as plt\n",
    "import numpy as np\n",
    "#Valores que limitan a T (Temperatura) en un intervalo [40,90] \n",
    "a = 40\n",
    "b = 90 \n",
    "#Defino T como los puntos (variable x que puede tomar.)\n",
    "T = np.linspace(a,b,100) #¿Cuántos puntos? Serán 100 puntos. \n",
    "#Definimos nuestra función objetivo - U (que seria Y la variable dependiente.)\n",
    "U = (204165.5/(330-2*T)) + (10400/(T-20))\n",
    "\n",
    "#Podemos controlar los parámetros de la figura global\n",
    "plt.figure(figsize=(8,6),facecolor=\"Yellow\")\n",
    "#Colocar los Datos que deseamos graficar X vs Y - \"k\" (Negro)\n",
    "plt.plot(T,U,\"k\")\n",
    "#Añadidos de Acompañiamiento\n",
    "plt.xlabel(\"Temperatura - T\")\n",
    "plt.ylabel(\"Costo - U\")\n",
    "#Aparición de Celdas. \n",
    "plt.grid()\n",
    "#Mostrar Gráficos. \n",
    "plt.show()\n"
   ]
  },
  {
   "cell_type": "markdown",
   "metadata": {},
   "source": [
    "* A la derivada de una función objetivo se le llama gradiente"
   ]
  },
  {
   "cell_type": "code",
   "execution_count": 3,
   "metadata": {},
   "outputs": [],
   "source": [
    "#Calculando el Gradiente de la función objetio - Usaremos Python\n",
    "import sympy #Librería matemática de ecuaciones o afines. \n",
    "def calcularGradiente (): #Calcular la \"Derivada\"\n",
    "    T = sympy.Symbol(\"T\") #Convertimos a T en un simbolo\n",
    "    funcion_u = (204165.5/(330-2*T)) + (10400/(T-20)) #Definimos la funcion_u\n",
    "    #Derivada de una funcion\n",
    "    derivada1 = sympy.diff(funcion_u) #Obtenemos su derivada.\n",
    "    return funcion_u,derivada1 #Nos arrojara "
   ]
  },
  {
   "cell_type": "code",
   "execution_count": 4,
   "metadata": {},
   "outputs": [
    {
     "name": "stdout",
     "output_type": "stream",
     "text": [
      "10400/(T - 20) + 204165.5/(330 - 2*T)\n",
      "-10400/(T - 20)**2 + 408331.0/(330 - 2*T)**2\n"
     ]
    }
   ],
   "source": [
    "#Se retornan 2 para tener una facilidad a la hora de copiar la expresión sino..\n",
    "a,b = calcularGradiente()\n",
    "print(a)\n",
    "print(b)"
   ]
  },
  {
   "cell_type": "code",
   "execution_count": 5,
   "metadata": {},
   "outputs": [
    {
     "data": {
      "text/latex": [
       "$\\displaystyle \\frac{10400}{T - 20} + \\frac{204165.5}{330 - 2 T}$"
      ],
      "text/plain": [
       "10400/(T - 20) + 204165.5/(330 - 2*T)"
      ]
     },
     "execution_count": 5,
     "metadata": {},
     "output_type": "execute_result"
    }
   ],
   "source": [
    "#Si no obtendría un aspecto mucho más matemático. \n",
    "calcularGradiente()[0]"
   ]
  },
  {
   "cell_type": "code",
   "execution_count": 6,
   "metadata": {},
   "outputs": [
    {
     "data": {
      "text/latex": [
       "$\\displaystyle - \\frac{10400}{\\left(T - 20\\right)^{2}} + \\frac{408331.0}{\\left(330 - 2 T\\right)^{2}}$"
      ],
      "text/plain": [
       "-10400/(T - 20)**2 + 408331.0/(330 - 2*T)**2"
      ]
     },
     "execution_count": 6,
     "metadata": {},
     "output_type": "execute_result"
    }
   ],
   "source": [
    "#Lo mismo, obtenemos la derivada con mucha facilidad. \n",
    "calcularGradiente()[1]"
   ]
  },
  {
   "cell_type": "code",
   "execution_count": 7,
   "metadata": {},
   "outputs": [
    {
     "data": {
      "text/plain": [
       "1225.1656408350887"
      ]
     },
     "execution_count": 7,
     "metadata": {},
     "output_type": "execute_result"
    }
   ],
   "source": [
    "#Definimos una función que nos permite evaluar un dato específico para la f.objetivo\n",
    "def funcion_u(T):\n",
    "    return 10400/(T - 20) + 204165.5/(330 - 2*T)\n",
    "funcion_u(55.08)"
   ]
  },
  {
   "cell_type": "code",
   "execution_count": 8,
   "metadata": {},
   "outputs": [
    {
     "data": {
      "text/plain": [
       "-0.0022423688924249063"
      ]
     },
     "execution_count": 8,
     "metadata": {},
     "output_type": "execute_result"
    }
   ],
   "source": [
    "#Definimos\n",
    "def derivada_u(T):\n",
    "    return -10400/(T - 20)**2 + 408331.0/(330 - 2*T)**2\n",
    "derivada_u(55.08)"
   ]
  },
  {
   "cell_type": "code",
   "execution_count": 9,
   "metadata": {},
   "outputs": [],
   "source": [
    "#Obtenemos los puntos donde la derivada se anula. \n",
    "def puntos_criticos():\n",
    "    T = sympy.Symbol(\"T\")\n",
    "    return sympy.solve(-10400/(T - 20)**2 + 408331.0/(330 - 2*T)**2)"
   ]
  },
  {
   "cell_type": "code",
   "execution_count": 10,
   "metadata": {},
   "outputs": [
    {
     "data": {
      "text/plain": [
       "[-47.9795750311863, 55.0835286102402]"
      ]
     },
     "execution_count": 10,
     "metadata": {},
     "output_type": "execute_result"
    }
   ],
   "source": [
    "#Hallamos puntos críticos, donde la función no es derivale o cuando esta es 0\n",
    "puntos_criticos()"
   ]
  },
  {
   "cell_type": "markdown",
   "metadata": {},
   "source": [
    "# Conclusión:"
   ]
  },
  {
   "cell_type": "markdown",
   "metadata": {},
   "source": [
    "* El Valor que se ajusta al intervalo es → 55.08 de Temperatura [40,90]"
   ]
  },
  {
   "cell_type": "markdown",
   "metadata": {},
   "source": [
    "# Método de la Bisección"
   ]
  },
  {
   "cell_type": "markdown",
   "metadata": {},
   "source": [
    "# Obtener el Número que Minimiza la Función"
   ]
  },
  {
   "cell_type": "code",
   "execution_count": 11,
   "metadata": {},
   "outputs": [],
   "source": [
    "#Método de bisección\n",
    "def biseccion():\n",
    "    #Los valores del intevalo\n",
    "    a = 40\n",
    "    b = 90\n",
    "    #Epsilon para definir el rompimiento de la funcion\n",
    "    epsilon = 0.001\n",
    "    #Mientras sea Verdadero el Bucle\n",
    "    while(True):\n",
    "        #Alpha es la semisuma de los limites del intervalo\n",
    "        alpha = (a+b)/2\n",
    "        #Primera derivada en a → Usamos la función anterior. \n",
    "        du_a = derivada_u (a) \n",
    "        #Primera derivada en alpha → Usamos la función anterior. \n",
    "        du_alpha = derivada_u(alpha) \n",
    "\n",
    "        #Si el producto de las derivadas evaluadas es menor a 0\n",
    "        if(du_a*du_alpha< 0):\n",
    "            #El limite superior del intervalo toma el valor de alpha\n",
    "            b = alpha\n",
    "        else:\n",
    "            #Caso contrario el limite inferior toma el valor de alpha\n",
    "            a = alpha\n",
    "        \n",
    "        #Condicion de Finalización\n",
    "        #Si la diferencia absoluta de los limites es menor al epsilon, finalizamos.\n",
    "        if(np.abs(a-b) < epsilon):\n",
    "            break\n",
    "    u_a = funcion_u(a)\n",
    "    return a,u_a\n",
    "        \n"
   ]
  },
  {
   "cell_type": "code",
   "execution_count": 12,
   "metadata": {},
   "outputs": [
    {
     "data": {
      "text/plain": [
       "(55.08331298828125, 1225.1656368937722)"
      ]
     },
     "execution_count": 12,
     "metadata": {},
     "output_type": "execute_result"
    }
   ],
   "source": [
    "biseccion()"
   ]
  },
  {
   "cell_type": "markdown",
   "metadata": {},
   "source": [
    "# Analisis de Rendimiento"
   ]
  },
  {
   "cell_type": "code",
   "execution_count": 13,
   "metadata": {},
   "outputs": [],
   "source": [
    "#Método de bisección\n",
    "def biseccion_rendimiento():\n",
    "    #Los valores del intevalo\n",
    "    a = 40\n",
    "    b = 90\n",
    "    #Contador para las respectivas iteraciones. \n",
    "    cont = 0\n",
    "    #Registro donde obtendremos los datos de cada iteración\n",
    "    registro = []\n",
    "    #Epsilon para definir el rompimiento de la funcion\n",
    "    epsilon = 0.001\n",
    "    #Mientras sea Verdadero el Bucle\n",
    "    while(True):\n",
    "        #Alpha es la semisuma de los limites del intervalo\n",
    "        alpha = (a+b)/2\n",
    "        #Primera derivada en a → Usamos la función anterior. \n",
    "        du_a = derivada_u (a) \n",
    "        #Primera derivada en alpha → Usamos la función anterior. \n",
    "        du_alpha = derivada_u(alpha) \n",
    "\n",
    "        #Si el producto de las derivadas evaluadas es menor a 0\n",
    "        if(du_a*du_alpha< 0):\n",
    "            #El limite superior del intervalo toma el valor de alpha\n",
    "            b = alpha\n",
    "        else:\n",
    "            #Caso contrario el limite inferior toma el valor de alpha\n",
    "            a = alpha\n",
    "        u_a = funcion_u(a)\n",
    "        #Condicion de Finalización\n",
    "        #Si la diferencia absoluta de los limites es menor al epsilon, finalizamos.\n",
    "        if(np.abs(a-b) < epsilon):\n",
    "            print(\"-------------------------------------------------------\")\n",
    "            #Se imprime, conteo o iteración, el valor del límite inferior, y el valor de la funcion evaluada en ese punto.\n",
    "            print(\"It:{:02} - TEMP: {:.10f} - Costo{:.10f}\".format(cont,a,u_a))\n",
    "            break\n",
    "        #Un simple contador\n",
    "        cont +=1\n",
    "        #Agregamos esa terna de datos en un registro. \n",
    "        registro.append([cont,a,u_a])\n",
    "        #Replicamos la impresión de cada iteración por el bucle\n",
    "        print(\"It:{:02} - TEMP: {:.10f} - Costo{:.10f}\".format(cont,a,u_a))\n",
    "    #La función retorna el registro. \n",
    "    return registro\n",
    "            \n",
    "   \n"
   ]
  },
  {
   "cell_type": "code",
   "execution_count": 14,
   "metadata": {},
   "outputs": [
    {
     "name": "stdout",
     "output_type": "stream",
     "text": [
      "It:01 - TEMP: 40.0000000000 - Costo1336.6620000000\n",
      "It:02 - TEMP: 52.5000000000 - Costo1227.4022222222\n",
      "It:03 - TEMP: 52.5000000000 - Costo1227.4022222222\n",
      "It:04 - TEMP: 52.5000000000 - Costo1227.4022222222\n",
      "It:05 - TEMP: 54.0625000000 - Costo1225.5036361287\n",
      "It:06 - TEMP: 54.8437500000 - Costo1225.1839888051\n",
      "It:07 - TEMP: 54.8437500000 - Costo1225.1839888051\n",
      "It:08 - TEMP: 55.0390625000 - Costo1225.1662656061\n",
      "It:09 - TEMP: 55.0390625000 - Costo1225.1662656061\n",
      "It:10 - TEMP: 55.0390625000 - Costo1225.1662656061\n",
      "It:11 - TEMP: 55.0634765625 - Costo1225.1657646744\n",
      "It:12 - TEMP: 55.0756835938 - Costo1225.1656564351\n",
      "It:13 - TEMP: 55.0817871094 - Costo1225.1656378426\n",
      "It:14 - TEMP: 55.0817871094 - Costo1225.1656378426\n",
      "It:15 - TEMP: 55.0833129883 - Costo1225.1656368938\n",
      "-------------------------------------------------------\n",
      "It:15 - TEMP: 55.0833129883 - Costo1225.1656368938\n"
     ]
    }
   ],
   "source": [
    "reg_1 = biseccion_rendimiento()"
   ]
  },
  {
   "cell_type": "code",
   "execution_count": 15,
   "metadata": {},
   "outputs": [
    {
     "data": {
      "image/png": "[encoded data removed]",
      "text/plain": [
       "<Figure size 1080x432 with 2 Axes>"
      ]
     },
     "metadata": {
      "needs_background": "light"
     },
     "output_type": "display_data"
    }
   ],
   "source": [
    "#Grafico de evaluaciones\n",
    "def evaluacion(reg): #El parámetro es el registro\n",
    "    reg  = np.array(reg) #El registro se transforma en numpy\n",
    "    fig,axs = plt.subplots(1,2,figsize=(15,6)) #Creamos dos gráficos- Tamaño\n",
    "    #Título del Gráfico fig en general, de tamaño fuente 25\n",
    "    fig.suptitle(\"Analisis de convergencia\",fontsize=25)\n",
    "    \n",
    "    #Primer Asíntota o límite, esto de la temperatura - \"detalles\"\n",
    "    axs[0].axhline(55.08,color=\"blue\",linestyle=\"--\",linewidth=3)\n",
    "    #Gráficamos los ejes X y Y (Iteraciones o conteo vs Temperatura)\n",
    "    axs[0].plot(reg[:,0],reg[:,1],linewidth=4)\n",
    "    #Detalles de Producción\n",
    "    axs[0].set_xlabel(\"Iteraciones\")\n",
    "    axs[0].set_ylabel(\"Temperatura\")\n",
    "    axs[0].grid()\n",
    "    #El Límite de las X es de 0 a 15\n",
    "    axs[0].set_xlim([0,15])\n",
    "    #axs[0].set_ylim([40,90]) → Límite hipotético de Y\n",
    "\n",
    "    #Lo mismo aplicamos para el siguiente gráfico\n",
    "    axs[1].axhline(1225.17,color=\"red\",linestyle=\"--\",linewidth=3)\n",
    "    axs[1].plot(reg[:,0],reg[:,2],linewidth=4)\n",
    "    axs[1].set_xlabel(\"Iteraciones\")\n",
    "    axs[1].set_ylabel(\"Costo\")\n",
    "    axs[1].grid()\n",
    "    axs[1].set_xlim([0,15])\n",
    "\n",
    "    #Muestra el Gráfico\n",
    "    plt.show()\n",
    "#Evaluamos el Registro. \n",
    "evaluacion(reg_1)"
   ]
  },
  {
   "cell_type": "markdown",
   "metadata": {},
   "source": [
    "# Método de Newton Raphson"
   ]
  },
  {
   "cell_type": "code",
   "execution_count": 16,
   "metadata": {},
   "outputs": [],
   "source": [
    "def plotPuntos(a,b):\n",
    "    T = np.linspace(a,b,100)\n",
    "    U = 10400/(T - 20) + 204165.5/(330 - 2*T)\n",
    "    return T,U"
   ]
  },
  {
   "cell_type": "code",
   "execution_count": 17,
   "metadata": {},
   "outputs": [],
   "source": [
    "def GraficarFuncionObjetivo():\n",
    "    a,b = 40,90\n",
    "    T,U = plotPuntos(a,b)\n",
    "    plt.plot(T,U,\"b\")\n",
    "    plt.plot(55.08,1225.17,\"ko\")\n",
    "    plt.annotate(r\"$55.08,1225.17$\",(55.08,1225.17),(50,1250))\n",
    "\n",
    "    plt.xlabel(\"Temperatura\")\n",
    "    plt.ylabel(\"Costo\")\n",
    "    plt.grid()\n",
    "    plt.show()"
   ]
  },
  {
   "cell_type": "code",
   "execution_count": 18,
   "metadata": {},
   "outputs": [
    {
     "data": {
      "image/png": "[encoded data removed]",
      "text/plain": [
       "<Figure size 432x288 with 1 Axes>"
      ]
     },
     "metadata": {
      "needs_background": "light"
     },
     "output_type": "display_data"
    }
   ],
   "source": [
    "GraficarFuncionObjetivo()"
   ]
  },
  {
   "cell_type": "code",
   "execution_count": 19,
   "metadata": {},
   "outputs": [],
   "source": [
    "def calcularGradiente_doble():\n",
    "    T = sympy.Symbol(\"T\")\n",
    "    U = (10400/(T - 20) + 204165.5/(330 - 2*T))\n",
    "    derivada_1 = sympy.diff(U)\n",
    "    derivada_2 = sympy.diff(derivada_1)\n",
    "    print(U)\n",
    "    print(derivada_1)\n",
    "    print(derivada_2)"
   ]
  },
  {
   "cell_type": "code",
   "execution_count": 20,
   "metadata": {},
   "outputs": [
    {
     "name": "stdout",
     "output_type": "stream",
     "text": [
      "10400/(T - 20) + 204165.5/(330 - 2*T)\n",
      "-10400/(T - 20)**2 + 408331.0/(330 - 2*T)**2\n",
      "20800/(T - 20)**3 + 1633324.0/(330 - 2*T)**3\n"
     ]
    }
   ],
   "source": [
    "calcularGradiente_doble()"
   ]
  },
  {
   "cell_type": "code",
   "execution_count": 21,
   "metadata": {},
   "outputs": [],
   "source": [
    "def derivada_seg_u (T):\n",
    "    return 20800/(T - 20)**3 + 1633324.0/(330 - 2*T)**3"
   ]
  },
  {
   "cell_type": "code",
   "execution_count": 22,
   "metadata": {},
   "outputs": [
    {
     "data": {
      "text/plain": [
       "1225.1656408350887"
      ]
     },
     "execution_count": 22,
     "metadata": {},
     "output_type": "execute_result"
    }
   ],
   "source": [
    "funcion_u(55.08)"
   ]
  },
  {
   "cell_type": "code",
   "execution_count": 23,
   "metadata": {},
   "outputs": [
    {
     "data": {
      "text/plain": [
       "-0.0022423688924249063"
      ]
     },
     "execution_count": 23,
     "metadata": {},
     "output_type": "execute_result"
    }
   ],
   "source": [
    "derivada_u(55.08)"
   ]
  },
  {
   "cell_type": "code",
   "execution_count": 24,
   "metadata": {},
   "outputs": [
    {
     "data": {
      "text/plain": [
       "0.6355474551218123"
      ]
     },
     "execution_count": 24,
     "metadata": {},
     "output_type": "execute_result"
    }
   ],
   "source": [
    "derivada_seg_u(55.08)"
   ]
  },
  {
   "cell_type": "markdown",
   "metadata": {},
   "source": [
    "* Algoritmo"
   ]
  },
  {
   "cell_type": "code",
   "execution_count": 25,
   "metadata": {},
   "outputs": [],
   "source": [
    "def NewtonRaphson():\n",
    "    a,b = 40,90\n",
    "    x = 90 \n",
    "    epsilon = 0.001\n",
    "\n",
    "    cont = 0\n",
    "    registro = []\n",
    "\n",
    "    while(True):\n",
    "        #Calculo de las derivadas. \n",
    "        d_x = derivada_u(x)\n",
    "        d_2_x = derivada_seg_u(x)\n",
    "\n",
    "        xprev = x\n",
    "        x = xprev - (d_x/d_2_x)\n",
    "        u_x = funcion_u(x)\n",
    "        cont +=1\n",
    "        registro.append([cont,x,u_x])\n",
    "        print(\"It:{:02} - TEMP: {:.10f} - Costo{:.10f}\".format(cont,x,u_x))\n",
    "\n",
    "        if(np.abs(x-xprev)<=epsilon):\n",
    "            print(\"---------------------------------------------------\")\n",
    "            print(\"It:{:02} - TEMP: {:.10f} - Costo: {:.10f}\".format(cont,x,u_x))\n",
    "            break\n",
    "\n",
    "    return registro"
   ]
  },
  {
   "cell_type": "code",
   "execution_count": 26,
   "metadata": {},
   "outputs": [
    {
     "name": "stdout",
     "output_type": "stream",
     "text": [
      "It:01 - TEMP: 60.5730595536 - Costo1233.8795849955\n",
      "It:02 - TEMP: 54.3709476178 - Costo1225.3292441409\n",
      "It:03 - TEMP: 55.0684488875 - Costo1225.1657091464\n",
      "It:04 - TEMP: 55.0835219881 - Costo1225.1656368790\n",
      "It:05 - TEMP: 55.0835286102 - Costo1225.1656368790\n",
      "---------------------------------------------------\n",
      "It:05 - TEMP: 55.0835286102 - Costo: 1225.1656368790\n"
     ]
    }
   ],
   "source": [
    "reg = NewtonRaphson()"
   ]
  },
  {
   "cell_type": "code",
   "execution_count": 27,
   "metadata": {},
   "outputs": [
    {
     "data": {
      "image/png": "[encoded data removed]",
      "text/plain": [
       "<Figure size 1080x432 with 2 Axes>"
      ]
     },
     "metadata": {
      "needs_background": "light"
     },
     "output_type": "display_data"
    }
   ],
   "source": [
    "evaluacion(reg)"
   ]
  },
  {
   "cell_type": "markdown",
   "metadata": {},
   "source": [
    "* Conclusión: En este caso el método de Newton Raphson es el mejor"
   ]
  },
  {
   "cell_type": "markdown",
   "metadata": {},
   "source": [
    "# Método de la Secante"
   ]
  },
  {
   "cell_type": "code",
   "execution_count": 28,
   "metadata": {},
   "outputs": [],
   "source": [
    "def Secante():\n",
    "    a,b = 40,90\n",
    "    epsilon = 0.01\n",
    "\n",
    "    cont = 0\n",
    "    registro = []\n",
    "\n",
    "    while (True):\n",
    "        #Calcular derivadas\n",
    "        d_u_a = derivada_u(a)\n",
    "        d_u_b = derivada_u(b)\n",
    "\n",
    "        #Calcular alpha\n",
    "        alpha = b - (d_u_b)/((d_u_b-d_u_a)/(b-a))\n",
    "\n",
    "        d_u_alpha = derivada_u(alpha)\n",
    "        \n",
    "        if(d_u_alpha > 0):\n",
    "            b = alpha\n",
    "        else:\n",
    "            a = alpha\n",
    "        \n",
    "        u_alpha = funcion_u(alpha)\n",
    "        cont = cont + 1\n",
    "        registro.append([cont,alpha,u_alpha])\n",
    "        print(\"It:{:02} - TEMP: {:.10f} - Costo{:.10f}\".format(cont,alpha,u_alpha))\n",
    "\n",
    "        if np.abs(d_u_alpha) <= epsilon:\n",
    "            print(\"-------------------------------------------\")\n",
    "            print(\"It:{:02} - TEMP: {:.10f} - Costo{:.10f}\".format(cont,alpha,u_alpha))\n",
    "            break\n",
    "    return registro\n",
    "\n"
   ]
  },
  {
   "cell_type": "code",
   "execution_count": 29,
   "metadata": {},
   "outputs": [
    {
     "name": "stdout",
     "output_type": "stream",
     "text": [
      "It:01 - TEMP: 67.4238416410 - Costo1265.4843547060\n",
      "It:02 - TEMP: 60.8827888776 - Costo1234.8456727508\n",
      "It:03 - TEMP: 57.9389356280 - Costo1227.6249518474\n",
      "It:04 - TEMP: 56.5132183316 - Costo1225.7978324621\n",
      "It:05 - TEMP: 55.8045366165 - Costo1225.3285410968\n",
      "It:06 - TEMP: 55.4483617340 - Costo1225.2076290459\n",
      "It:07 - TEMP: 55.2684366108 - Costo1225.1764608953\n",
      "It:08 - TEMP: 55.1773211286 - Costo1225.1684267004\n",
      "It:09 - TEMP: 55.1311231215 - Costo1225.1663559004\n",
      "It:10 - TEMP: 55.1076851354 - Costo1225.1658221870\n",
      "It:11 - TEMP: 55.0957904902 - Costo1225.1656846363\n",
      "-------------------------------------------\n",
      "It:11 - TEMP: 55.0957904902 - Costo1225.1656846363\n"
     ]
    }
   ],
   "source": [
    "reg = Secante()"
   ]
  },
  {
   "cell_type": "code",
   "execution_count": 30,
   "metadata": {},
   "outputs": [
    {
     "data": {
      "image/png": "[encoded data removed]",
      "text/plain": [
       "<Figure size 1080x432 with 2 Axes>"
      ]
     },
     "metadata": {
      "needs_background": "light"
     },
     "output_type": "display_data"
    }
   ],
   "source": [
    "evaluacion(reg)"
   ]
  },
  {
   "cell_type": "markdown",
   "metadata": {},
   "source": [
    "# Método de Optimización Fibonacci"
   ]
  },
  {
   "cell_type": "code",
   "execution_count": 32,
   "metadata": {},
   "outputs": [
    {
     "data": {
      "image/png": "[encoded data removed]",
      "text/plain": [
       "<Figure size 432x288 with 1 Axes>"
      ]
     },
     "metadata": {
      "needs_background": "light"
     },
     "output_type": "display_data"
    }
   ],
   "source": [
    "GraficarFuncionObjetivo()"
   ]
  },
  {
   "cell_type": "code",
   "execution_count": 33,
   "metadata": {},
   "outputs": [
    {
     "data": {
      "text/plain": [
       "1225.1656408350887"
      ]
     },
     "execution_count": 33,
     "metadata": {},
     "output_type": "execute_result"
    }
   ],
   "source": [
    "funcion_u(55.08)"
   ]
  },
  {
   "cell_type": "markdown",
   "metadata": {},
   "source": [
    "Algoritmo"
   ]
  },
  {
   "cell_type": "code",
   "execution_count": 45,
   "metadata": {},
   "outputs": [],
   "source": [
    "#Definicion de la Serie Fibonacci.\n",
    "def CrearFibonacci():\n",
    "    n = 30\n",
    "    fs = [1,1]\n",
    "    for i in range (n):\n",
    "        aux = fs[-1] + fs[-2]\n",
    "        fs.append(aux)\n",
    "    return n,fs"
   ]
  },
  {
   "cell_type": "code",
   "execution_count": 46,
   "metadata": {},
   "outputs": [],
   "source": [
    "n,fs = CrearFibonacci()"
   ]
  },
  {
   "cell_type": "markdown",
   "metadata": {},
   "source": []
  },
  {
   "cell_type": "markdown",
   "metadata": {},
   "source": []
  },
  {
   "cell_type": "code",
   "execution_count": 62,
   "metadata": {},
   "outputs": [],
   "source": [
    "def Fibonacci(*param):\n",
    "    a = param[0]\n",
    "    b = param[1]\n",
    "    k = param[2]\n",
    "    it = param[3]\n",
    "    reg = param[4]\n",
    "    L = param[5]\n",
    "    n = param[6]\n",
    "    fs = param[7]\n",
    "    ep = param[8]\n",
    "\n",
    "    i_arriba = n-k + 1\n",
    "    i_abajo = n + 1\n",
    "    Lk = L*fs[i_arriba]/fs[i_abajo]\n",
    "    xa = a + Lk\n",
    "    xb = b - Lk\n",
    "    U_xa = funcion_u(xa)\n",
    "    U_xb = funcion_u(xb)\n",
    "\n",
    "    if(U_xa>U_xb):\n",
    "        a = xa\n",
    "    else:\n",
    "        b = xb\n",
    "    \n",
    "    if(np.abs(U_xa-U_xb) > ep):\n",
    "        k = k + 1\n",
    "        it = it + 1\n",
    "\n",
    "        reg.append([it,xa,U_xa])\n",
    "        print(\"It:{:02} - TEMP: {:.10f} - Costo {:.10f}\".format(it,xa,U_xa))\n",
    "        return Fibonacci(a,b,k,it,reg,L,n,fs,ep)\n",
    "    else:\n",
    "        print(\"------------------------------------------------\")\n",
    "        print(\"It:{:02} - TEMP: {:.10f} - Costo {:.10f}\".format(it,xa,U_xa))\n",
    "        return reg\n",
    "\n"
   ]
  },
  {
   "cell_type": "code",
   "execution_count": 70,
   "metadata": {},
   "outputs": [],
   "source": [
    "def RunFibonacci(n,fs):\n",
    "    a,b,k = 40,90,2\n",
    "    L = b -a \n",
    "\n",
    "    return Fibonacci(a,b,k,0,[],L,n,fs,1e-4)\n",
    "     \n",
    "    "
   ]
  },
  {
   "cell_type": "code",
   "execution_count": 71,
   "metadata": {},
   "outputs": [
    {
     "name": "stdout",
     "output_type": "stream",
     "text": [
      "It:01 - TEMP: 59.0983005625 - Costo 1229.9349491623\n",
      "It:02 - TEMP: 51.8033988750 - Costo 1228.8272286788\n",
      "It:03 - TEMP: 47.2949016875 - Costo 1248.2990546850\n",
      "It:04 - TEMP: 51.8033988750 - Costo 1228.8272286788\n",
      "It:05 - TEMP: 54.5898033750 - Costo 1225.2438371362\n",
      "It:06 - TEMP: 53.5254915625 - Costo 1225.9614290233\n",
      "It:07 - TEMP: 54.5898033750 - Costo 1225.2438371362\n",
      "It:08 - TEMP: 55.2475842500 - Costo 1225.1741606876\n",
      "It:09 - TEMP: 54.9963343125 - Costo 1225.1680564661\n",
      "It:10 - TEMP: 54.8410533125 - Costo 1225.1844049120\n",
      "It:11 - TEMP: 54.9963343125 - Costo 1225.1680564661\n",
      "It:12 - TEMP: 55.0923032499 - Costo 1225.1656613366\n",
      "It:13 - TEMP: 55.0556463752 - Costo 1225.1658840054\n",
      "It:14 - TEMP: 55.0923032499 - Costo 1225.1656613366\n",
      "------------------------------------------------\n",
      "It:14 - TEMP: 55.0783015633 - Costo 1225.1656455603\n"
     ]
    }
   ],
   "source": [
    "reg = RunFibonacci(n,fs)"
   ]
  },
  {
   "cell_type": "code",
   "execution_count": 69,
   "metadata": {},
   "outputs": [
    {
     "data": {
      "image/png": "[encoded data removed]",
      "text/plain": [
       "<Figure size 1080x432 with 2 Axes>"
      ]
     },
     "metadata": {
      "needs_background": "light"
     },
     "output_type": "display_data"
    }
   ],
   "source": [
    "evaluacion(reg)"
   ]
  }
 ],
 "metadata": {
  "kernelspec": {
   "display_name": "Python 3.10.2 64-bit",
   "language": "python",
   "name": "python3"
  },
  "language_info": {
   "codemirror_mode": {
    "name": "ipython",
    "version": 3
   },
   "file_extension": ".py",
   "mimetype": "text/x-python",
   "name": "python",
   "nbconvert_exporter": "python",
   "pygments_lexer": "ipython3",
   "version": "3.10.2"
  },
  "orig_nbformat": 4,
  "vscode": {
   "interpreter": {
    "hash": "afb734500600fd355917ca529030176ea0ca205570884b88f2f6f7d791fd3fbe"
   }
  }
 },
 "nbformat": 4,
 "nbformat_minor": 2
}
