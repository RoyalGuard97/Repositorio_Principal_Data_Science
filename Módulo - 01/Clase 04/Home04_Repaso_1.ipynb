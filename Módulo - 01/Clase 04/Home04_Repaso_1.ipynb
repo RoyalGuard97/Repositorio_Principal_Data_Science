{
 "cells": [
  {
   "cell_type": "code",
   "execution_count": 2,
   "metadata": {},
   "outputs": [],
   "source": [
    "import numpy as np\n",
    "import pandas as pd"
   ]
  },
  {
   "cell_type": "code",
   "execution_count": 11,
   "metadata": {},
   "outputs": [
    {
     "name": "stdout",
     "output_type": "stream",
     "text": [
      "0    2\n",
      "1    3\n",
      "2    4\n",
      "3    5\n",
      "4    6\n",
      "5    7\n",
      "6    8\n",
      "7    9\n",
      "dtype: int32\n"
     ]
    }
   ],
   "source": [
    "#Veamos los Objetos Series en Pandas\n",
    "arreglo = np.arange(2,10)\n",
    "data = pd.Series(arreglo)\n",
    "print(data)\n",
    "#Sería como un vector pero puesto en forma de columna\n",
    "#Recuerda que el parametro que recibe puede ser una lista o un arreglo"
   ]
  },
  {
   "cell_type": "code",
   "execution_count": 19,
   "metadata": {},
   "outputs": [
    {
     "name": "stdout",
     "output_type": "stream",
     "text": [
      "0    2\n",
      "1    3\n",
      "2    4\n",
      "3    5\n",
      "4    6\n",
      "5    7\n",
      "6    8\n",
      "7    9\n",
      "dtype: int32\n",
      "[2 3 4 5 6 7 8 9]\n"
     ]
    }
   ],
   "source": [
    "#Teniendo Así como podemos pasar de arreglo a Series, tambien de Series pasamos a arreglo.\n",
    "#Esto con data.values\n",
    "arreglo = np.arange(2,10)\n",
    "data = pd.Series(arreglo)\n",
    "print(data)\n",
    "arreglo_inverso = data.values\n",
    "print(arreglo_inverso)"
   ]
  },
  {
   "cell_type": "code",
   "execution_count": 24,
   "metadata": {},
   "outputs": [
    {
     "name": "stdout",
     "output_type": "stream",
     "text": [
      "0    2\n",
      "1    3\n",
      "2    4\n",
      "3    5\n",
      "4    6\n",
      "5    7\n",
      "6    8\n",
      "7    9\n",
      "dtype: int32\n"
     ]
    },
    {
     "data": {
      "text/plain": [
       "RangeIndex(start=0, stop=8, step=1)"
      ]
     },
     "execution_count": 24,
     "metadata": {},
     "output_type": "execute_result"
    }
   ],
   "source": [
    "#Data index nos arrroja el rango de indices de una tabla\n",
    "arreglo = np.arange(2,10)\n",
    "data = pd.Series(arreglo)\n",
    "print(data)\n",
    "data.index\n",
    "#Tambien podríamos usar una mascara en la Serie y obtener los indices que cumplen la condicion de la misma"
   ]
  },
  {
   "cell_type": "code",
   "execution_count": 25,
   "metadata": {},
   "outputs": [
    {
     "name": "stdout",
     "output_type": "stream",
     "text": [
      "0    2\n",
      "1    3\n",
      "2    4\n",
      "3    5\n",
      "4    6\n",
      "5    7\n",
      "6    8\n",
      "7    9\n",
      "dtype: int32\n",
      "Este es el primer elemento de la Serie 2\n"
     ]
    }
   ],
   "source": [
    "arreglo = np.arange(2,10)\n",
    "data = pd.Series(arreglo)\n",
    "print(data)\n",
    "#Para acceder a un elemento de la Serie tenemos: \n",
    "print(\"Este es el primer elemento de la Serie\",data[0])"
   ]
  },
  {
   "cell_type": "code",
   "execution_count": 33,
   "metadata": {},
   "outputs": [
    {
     "name": "stdout",
     "output_type": "stream",
     "text": [
      "0    2\n",
      "1    3\n",
      "2    4\n",
      "3    5\n",
      "4    6\n",
      "5    7\n",
      "6    8\n",
      "7    9\n",
      "dtype: int32\n",
      "Desde el Tercer elemento, los elementos son 0    2\n",
      "1    3\n",
      "2    4\n",
      "3    5\n",
      "4    6\n",
      "5    7\n",
      "6    8\n",
      "7    9\n",
      "dtype: int32\n"
     ]
    }
   ],
   "source": [
    "arreglo = np.arange(2,10)\n",
    "data = pd.Series(arreglo)\n",
    "print(data)\n",
    "#Si queremos acceder a los elementos desde un indice especifico\n",
    "print(\"Desde el Tercer elemento, los elementos son\",data[0:])"
   ]
  },
  {
   "cell_type": "code",
   "execution_count": 45,
   "metadata": {},
   "outputs": [
    {
     "name": "stdout",
     "output_type": "stream",
     "text": [
      "0    1\n",
      "1    2\n",
      "2    6\n",
      "3    7\n",
      "4    3\n",
      "dtype: int64\n",
      "A    1\n",
      "B    2\n",
      "C    6\n",
      "D    7\n",
      "E    3\n",
      "dtype: int64\n"
     ]
    },
    {
     "data": {
      "text/plain": [
       "Index(['A', 'B', 'C', 'D', 'E'], dtype='object')"
      ]
     },
     "execution_count": 45,
     "metadata": {},
     "output_type": "execute_result"
    }
   ],
   "source": [
    "#Asignar indices diferentes a una serie\n",
    "\n",
    "#Si no asignamos un indice, por defecto serán enteros desde el 0\n",
    "serie = pd.Series([1,2,6,7,3])\n",
    "print(serie)\n",
    "#Podemos asignar nuestros propios index facilmente, siendo estos strings\n",
    "serie = pd.Series([1,2,6,7,3], index=[\"A\",\"B\",\"C\",\"D\",\"E\"])\n",
    "print(serie)\n",
    "serie.index"
   ]
  },
  {
   "cell_type": "code",
   "execution_count": 47,
   "metadata": {},
   "outputs": [
    {
     "name": "stdout",
     "output_type": "stream",
     "text": [
      "A    1\n",
      "B    2\n",
      "C    6\n",
      "D    7\n",
      "E    3\n",
      "dtype: int64\n",
      "6\n"
     ]
    }
   ],
   "source": [
    "#Similar a un diccionario podemos acceder por el indice a nuestros elementos\n",
    "serie = pd.Series([1,2,6,7,3], index=[\"A\",\"B\",\"C\",\"D\",\"E\"])\n",
    "print(serie)\n",
    "print(serie[\"C\"])"
   ]
  },
  {
   "cell_type": "code",
   "execution_count": 57,
   "metadata": {},
   "outputs": [
    {
     "name": "stdout",
     "output_type": "stream",
     "text": [
      "California    38332521\n",
      "Texas         26448193\n",
      "New York      19651127\n",
      "Florida       19552860\n",
      "Illinois      12882135\n",
      "dtype: int64 \n",
      "\n",
      "Obtenemos los contenidos:  [38332521 26448193 19651127 19552860 12882135] \n",
      "\n",
      "Obtenemos los indices: Index(['California', 'Texas', 'New York', 'Florida', 'Illinois'], dtype='object') \n",
      "\n",
      "38332521 \n",
      "\n",
      "Texas       26448193\n",
      "New York    19651127\n",
      "Florida     19552860\n",
      "dtype: int64\n"
     ]
    }
   ],
   "source": [
    "#Podemos asemejar la Series como si fueran un Dict especializado\n",
    "population_dict = {'California': 38332521,\n",
    "                   'Texas': 26448193,\n",
    "                   'New York': 19651127,\n",
    "                   'Florida': 19552860,\n",
    "                   'Illinois': 12882135}\n",
    "population = pd.Series(population_dict)\n",
    "print(population,\"\\n\")\n",
    "#De esta forma convertimos un diccionario en una Serie de Pandas.\n",
    "print(\"Obtenemos los contenidos: \",population.values,\"\\n\")\n",
    "print(\"Obtenemos los indices:\",population.index,\"\\n\")\n",
    "#Como vimos esta Series funcionan similar a un dict, accediendo por llave\n",
    "print(population[\"California\"],\"\\n\")\n",
    "#Sin embargo la series soportan por ejemplo un slicing\n",
    "print(population[\"Texas\":\"Florida\"])"
   ]
  },
  {
   "cell_type": "code",
   "execution_count": 60,
   "metadata": {},
   "outputs": [
    {
     "name": "stdout",
     "output_type": "stream",
     "text": [
      "Illinois      12882135\n",
      "Texas         26448193\n",
      "New York      19651127\n",
      "Florida       19552860\n",
      "California    38332521\n",
      "dtype: int64\n"
     ]
    },
    {
     "data": {
      "text/plain": [
       "Illinois    12882135\n",
       "Texas       26448193\n",
       "New York    19651127\n",
       "dtype: int64"
      ]
     },
     "execution_count": 60,
     "metadata": {},
     "output_type": "execute_result"
    }
   ],
   "source": [
    "#Podemos crear una Serie a partir de listas\n",
    "states_list = ['Illinois','Texas','New York', 'Florida', 'California']\n",
    "states_pop = [12882135, 26448193, 19651127, 19552860, 38332521]\n",
    "states = pd.Series(states_pop, index= states_list)\n",
    "print(states)\n",
    "#Prueba slicing\n",
    "states['Illinois':'New York']"
   ]
  },
  {
   "cell_type": "code",
   "execution_count": 73,
   "metadata": {},
   "outputs": [
    {
     "name": "stdout",
     "output_type": "stream",
     "text": [
      "0    1\n",
      "1    2\n",
      "2    3\n",
      "3    4\n",
      "4    5\n",
      "dtype: int64\n",
      "0    3\n",
      "1    4\n",
      "2    5\n",
      "3    6\n",
      "4    7\n",
      "5    8\n",
      "dtype: int32\n",
      "a    5\n",
      "b    5\n",
      "c    5\n",
      "dtype: int64\n",
      "nombre    Carlos\n",
      "edad          12\n",
      "ciudad      Lima\n",
      "dtype: object \n",
      "\n",
      "ciudad      Lima\n",
      "nombre    Carlos\n",
      "dtype: object\n"
     ]
    }
   ],
   "source": [
    "#De que formas podemos crear Series?\n",
    "\n",
    "#Con una Lista\n",
    "lista = [1,2,3,4,5]\n",
    "serie = pd.Series(lista)\n",
    "print(serie)\n",
    "#Con un arreglo numpy\n",
    "arreglo = np.arange(3,9)\n",
    "serie = pd.Series(arreglo)\n",
    "print(serie)\n",
    "#Podemos crear una serie a partir de un escalar delimitandolo por los indices\n",
    "escalar = 5\n",
    "serie = pd.Series(escalar,index=[\"a\",\"b\",\"c\"])\n",
    "print(serie)\n",
    "#A partir de un diccionario podemos crear una serie\n",
    "diccionario = dict(nombre=\"Carlos\",edad=12,ciudad=\"Lima\")\n",
    "serie = pd.Series(diccionario)\n",
    "print(serie,\"\\n\")\n",
    "#Podemos obtener resultados delimitando las columnas\n",
    "diccionario = dict(nombre=\"Carlos\",edad=12,ciudad=\"Lima\")\n",
    "serie = pd.Series(diccionario,index=[\"ciudad\",\"nombre\"])\n",
    "print(serie)"
   ]
  },
  {
   "cell_type": "code",
   "execution_count": 16,
   "metadata": {},
   "outputs": [
    {
     "data": {
      "text/html": [
       "<div>\n",
       "<style scoped>\n",
       "    .dataframe tbody tr th:only-of-type {\n",
       "        vertical-align: middle;\n",
       "    }\n",
       "\n",
       "    .dataframe tbody tr th {\n",
       "        vertical-align: top;\n",
       "    }\n",
       "\n",
       "    .dataframe thead th {\n",
       "        text-align: right;\n",
       "    }\n",
       "</style>\n",
       "<table border=\"1\" class=\"dataframe\">\n",
       "  <thead>\n",
       "    <tr style=\"text-align: right;\">\n",
       "      <th></th>\n",
       "      <th>population</th>\n",
       "      <th>area</th>\n",
       "      <th>Calite</th>\n",
       "    </tr>\n",
       "  </thead>\n",
       "  <tbody>\n",
       "    <tr>\n",
       "      <th>California</th>\n",
       "      <td>38332521</td>\n",
       "      <td>423967.0</td>\n",
       "      <td>A</td>\n",
       "    </tr>\n",
       "    <tr>\n",
       "      <th>Texas</th>\n",
       "      <td>26448193</td>\n",
       "      <td>695662.0</td>\n",
       "      <td>B</td>\n",
       "    </tr>\n",
       "    <tr>\n",
       "      <th>New York</th>\n",
       "      <td>19651127</td>\n",
       "      <td>141297.0</td>\n",
       "      <td>A+</td>\n",
       "    </tr>\n",
       "    <tr>\n",
       "      <th>Florida</th>\n",
       "      <td>19552860</td>\n",
       "      <td>170312.0</td>\n",
       "      <td>C</td>\n",
       "    </tr>\n",
       "    <tr>\n",
       "      <th>Illinois</th>\n",
       "      <td>12882135</td>\n",
       "      <td>NaN</td>\n",
       "      <td>A</td>\n",
       "    </tr>\n",
       "  </tbody>\n",
       "</table>\n",
       "</div>"
      ],
      "text/plain": [
       "            population      area Calite\n",
       "California    38332521  423967.0      A\n",
       "Texas         26448193  695662.0      B\n",
       "New York      19651127  141297.0     A+\n",
       "Florida       19552860  170312.0      C\n",
       "Illinois      12882135       NaN      A"
      ]
     },
     "execution_count": 16,
     "metadata": {},
     "output_type": "execute_result"
    }
   ],
   "source": [
    "#DataFrames de varios diccionarios\n",
    "area_dict = {'California': 423967, 'Texas': 695662, 'New York': 141297,\n",
    "             'Florida': 170312, 'Illinois': np.nan}\n",
    "\n",
    "population_dict = {'California': 38332521,\n",
    "                   'Texas': 26448193,\n",
    "                   'New York': 19651127,\n",
    "                   'Florida': 19552860,\n",
    "                   'Illinois': 12882135}\n",
    "\n",
    "calidad_ciudad = {\"California\":\"A\",\"Texas\":\"B\",\"New York\":\"A+\",\"Florida\":\"C\",\"Illinois\":\"A\"}\n",
    "\n",
    "\n",
    "\n",
    "states = pd.DataFrame({'population': population_dict,'area': area_dict,\"Calite\":calidad_ciudad})\n",
    "states"
   ]
  },
  {
   "cell_type": "markdown",
   "metadata": {},
   "source": []
  }
 ],
 "metadata": {
  "interpreter": {
   "hash": "afb734500600fd355917ca529030176ea0ca205570884b88f2f6f7d791fd3fbe"
  },
  "kernelspec": {
   "display_name": "Python 3.10.2 64-bit",
   "language": "python",
   "name": "python3"
  },
  "language_info": {
   "codemirror_mode": {
    "name": "ipython",
    "version": 3
   },
   "file_extension": ".py",
   "mimetype": "text/x-python",
   "name": "python",
   "nbconvert_exporter": "python",
   "pygments_lexer": "ipython3",
   "version": "3.10.2"
  },
  "orig_nbformat": 4
 },
 "nbformat": 4,
 "nbformat_minor": 2
}
