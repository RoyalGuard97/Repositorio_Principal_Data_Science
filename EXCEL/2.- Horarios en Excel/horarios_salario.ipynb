{
 "cells": [
  {
   "cell_type": "markdown",
   "metadata": {},
   "source": [
    "# Calcular Salario según Horario"
   ]
  },
  {
   "cell_type": "code",
   "execution_count": 21,
   "metadata": {},
   "outputs": [],
   "source": [
    "import pandas as pd\n",
    "nombre = [\"Alejandro\",\"Matias\",\"Diego\"]\n",
    "entrada = [\"09:21:00\",\"09:52:00\",\"09:15:00\"]\n",
    "salida = [\"17:13:00\",\"17:47:00\",\"17:36:00\"]\n",
    "salario_h = [30,14,19]\n",
    "dicc = dict(nombre = nombre,entrada=entrada,salida=salida,salario_h=salario_h)\n",
    "df = pd.DataFrame(dicc)"
   ]
  },
  {
   "cell_type": "code",
   "execution_count": 22,
   "metadata": {},
   "outputs": [
    {
     "data": {
      "text/html": [
       "<div>\n",
       "<style scoped>\n",
       "    .dataframe tbody tr th:only-of-type {\n",
       "        vertical-align: middle;\n",
       "    }\n",
       "\n",
       "    .dataframe tbody tr th {\n",
       "        vertical-align: top;\n",
       "    }\n",
       "\n",
       "    .dataframe thead th {\n",
       "        text-align: right;\n",
       "    }\n",
       "</style>\n",
       "<table border=\"1\" class=\"dataframe\">\n",
       "  <thead>\n",
       "    <tr style=\"text-align: right;\">\n",
       "      <th></th>\n",
       "      <th>nombre</th>\n",
       "      <th>entrada</th>\n",
       "      <th>salida</th>\n",
       "      <th>salario_h</th>\n",
       "    </tr>\n",
       "  </thead>\n",
       "  <tbody>\n",
       "    <tr>\n",
       "      <th>0</th>\n",
       "      <td>Alejandro</td>\n",
       "      <td>09:21:00</td>\n",
       "      <td>17:13:00</td>\n",
       "      <td>30</td>\n",
       "    </tr>\n",
       "    <tr>\n",
       "      <th>1</th>\n",
       "      <td>Matias</td>\n",
       "      <td>09:52:00</td>\n",
       "      <td>17:47:00</td>\n",
       "      <td>14</td>\n",
       "    </tr>\n",
       "    <tr>\n",
       "      <th>2</th>\n",
       "      <td>Diego</td>\n",
       "      <td>09:15:00</td>\n",
       "      <td>17:36:00</td>\n",
       "      <td>19</td>\n",
       "    </tr>\n",
       "  </tbody>\n",
       "</table>\n",
       "</div>"
      ],
      "text/plain": [
       "      nombre   entrada    salida  salario_h\n",
       "0  Alejandro  09:21:00  17:13:00         30\n",
       "1     Matias  09:52:00  17:47:00         14\n",
       "2      Diego  09:15:00  17:36:00         19"
      ]
     },
     "execution_count": 22,
     "metadata": {},
     "output_type": "execute_result"
    }
   ],
   "source": [
    "df"
   ]
  },
  {
   "cell_type": "markdown",
   "metadata": {},
   "source": [
    "* Calculamos las Horas"
   ]
  },
  {
   "cell_type": "code",
   "execution_count": 23,
   "metadata": {},
   "outputs": [],
   "source": [
    "from datetime import datetime\n",
    "import numpy as np"
   ]
  },
  {
   "cell_type": "code",
   "execution_count": 24,
   "metadata": {},
   "outputs": [],
   "source": [
    "horas = []\n",
    "for indice in range(len(df[\"nombre\"])): #Limita la cantidad de veces a la cantidad de registros.\n",
    "    #Lo convierte a formato tiempo\n",
    "    salida = datetime.strptime(df[\"salida\"][indice],\"%H:%M:%S\")\n",
    "    entrada = datetime.strptime(df[\"entrada\"][indice],\"%H:%M:%S\") #Este ultimo es el formato\n",
    "    #Calcula diferencia de tiempo. \n",
    "    diferencia = salida - entrada\n",
    "    #Obtengo las horas a través de los segundos\n",
    "    total_horas = diferencia.total_seconds()/3600\n",
    "    #Agrego este elemento a la lista correspondiente.\n",
    "    horas.append(total_horas)"
   ]
  },
  {
   "cell_type": "code",
   "execution_count": 25,
   "metadata": {},
   "outputs": [],
   "source": [
    "#Aqui vimos un ejemplo de como redondeamos toda una columa con numpy\n",
    "df[\"horas_trabajadas\"] = np.round(horas,1)\n",
    "#Operaciones entre series de pandas. \n",
    "df[\"total_pago\"] = df[\"salario_h\"] * df[\"horas_trabajadas\"]"
   ]
  },
  {
   "cell_type": "markdown",
   "metadata": {},
   "source": [
    "* Bonus: Al trabajar con excel es normal trabajar con filas vacías\n",
    "    * Solución: df.dropna(how=\"all\",inplace=True)"
   ]
  }
 ],
 "metadata": {
  "kernelspec": {
   "display_name": "Python 3.10.2 64-bit",
   "language": "python",
   "name": "python3"
  },
  "language_info": {
   "codemirror_mode": {
    "name": "ipython",
    "version": 3
   },
   "file_extension": ".py",
   "mimetype": "text/x-python",
   "name": "python",
   "nbconvert_exporter": "python",
   "pygments_lexer": "ipython3",
   "version": "3.10.2"
  },
  "orig_nbformat": 4,
  "vscode": {
   "interpreter": {
    "hash": "afb734500600fd355917ca529030176ea0ca205570884b88f2f6f7d791fd3fbe"
   }
  }
 },
 "nbformat": 4,
 "nbformat_minor": 2
}
