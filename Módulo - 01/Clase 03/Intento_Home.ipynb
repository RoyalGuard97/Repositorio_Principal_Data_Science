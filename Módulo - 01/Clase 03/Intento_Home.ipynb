{
 "cells": [
  {
   "cell_type": "code",
   "execution_count": 4,
   "metadata": {},
   "outputs": [
    {
     "name": "stdout",
     "output_type": "stream",
     "text": [
      "11\n"
     ]
    }
   ],
   "source": [
    "import numpy as np\n",
    "#Podemos convertir una lista en un arreglo, deben ser del mismo tipo de dato\n",
    "lista = [2,4,5]\n",
    "arreglo = np.array(lista)\n",
    "\n",
    "print(sum(arreglo))"
   ]
  },
  {
   "cell_type": "code",
   "execution_count": 6,
   "metadata": {},
   "outputs": [
    {
     "name": "stdout",
     "output_type": "stream",
     "text": [
      "[ 1  2  3  4  5  6  7  8  9 10]\n"
     ]
    }
   ],
   "source": [
    "#Crear un arreglo de numeros consecutivos del 1 al 10\n",
    "arreglo = np.arange(1,11)\n",
    "print(arreglo)"
   ]
  },
  {
   "cell_type": "code",
   "execution_count": 10,
   "metadata": {},
   "outputs": [
    {
     "name": "stdout",
     "output_type": "stream",
     "text": [
      "[1 2 3 4]\n"
     ]
    },
    {
     "data": {
      "text/plain": [
       "array([2, 3, 4, 5])"
      ]
     },
     "execution_count": 10,
     "metadata": {},
     "output_type": "execute_result"
    }
   ],
   "source": [
    "#Con los arreglos podemos operar facilmente sus elementos, de menos a mas complejo\n",
    "arreglo = np.arange(1,5)\n",
    "print(arreglo)\n",
    "arreglo + 1"
   ]
  },
  {
   "cell_type": "code",
   "execution_count": 14,
   "metadata": {},
   "outputs": [
    {
     "name": "stdout",
     "output_type": "stream",
     "text": [
      "[3 5 7 9]\n"
     ]
    }
   ],
   "source": [
    "#Podemos sumar arreglos?\n",
    "arreglo = np.arange(1,5)\n",
    "arreglo2 = np.arange(2,6)\n",
    "#En efecto los arreglos se suman de manera normal, pero obviamente con la misma dimension\n",
    "print(arreglo + arreglo2)"
   ]
  },
  {
   "cell_type": "code",
   "execution_count": 18,
   "metadata": {},
   "outputs": [
    {
     "name": "stdout",
     "output_type": "stream",
     "text": [
      "[[1 2]\n",
      " [3 4]]\n",
      "[[2 3]\n",
      " [4 5]]\n",
      "[[3 5]\n",
      " [7 9]]\n"
     ]
    }
   ],
   "source": [
    "#Suma de arreglos en 2D, en efecto es posible, solo hemos redimensionado y sumado\n",
    "#Recuerda misma dimension\n",
    "arreglo = np.arange(1,5).reshape(2,-1)\n",
    "arreglo2 = np.arange(2,6).reshape(2,-1)\n",
    "print(arreglo)\n",
    "print(arreglo2)\n",
    "print(arreglo + arreglo2)"
   ]
  },
  {
   "cell_type": "code",
   "execution_count": 20,
   "metadata": {},
   "outputs": [
    {
     "name": "stdout",
     "output_type": "stream",
     "text": [
      "[[1 2]\n",
      " [3 4]]\n"
     ]
    },
    {
     "data": {
      "text/plain": [
       "10"
      ]
     },
     "execution_count": 20,
     "metadata": {},
     "output_type": "execute_result"
    }
   ],
   "source": [
    "#Podemos sumar los elementos de un arreglo con el metodo sum\n",
    "arreglo = np.arange(1,5).reshape(2,-1)\n",
    "print(arreglo)\n",
    "arreglo.sum()"
   ]
  },
  {
   "cell_type": "code",
   "execution_count": 23,
   "metadata": {},
   "outputs": [
    {
     "name": "stdout",
     "output_type": "stream",
     "text": [
      "[[1 2]\n",
      " [3 4]]\n"
     ]
    },
    {
     "data": {
      "text/plain": [
       "(2, 2)"
      ]
     },
     "execution_count": 23,
     "metadata": {},
     "output_type": "execute_result"
    }
   ],
   "source": [
    "#Si deseamos conocer la dimension de un arreglo, por supuesto usaremos shape\n",
    "arreglo = np.arange(1,5).reshape(2,-1)\n",
    "print(arreglo)\n",
    "arreglo.shape"
   ]
  },
  {
   "cell_type": "code",
   "execution_count": 30,
   "metadata": {},
   "outputs": [
    {
     "data": {
      "text/plain": [
       "(3, 3)"
      ]
     },
     "execution_count": 30,
     "metadata": {},
     "output_type": "execute_result"
    }
   ],
   "source": [
    "#Como crear un arreglo con lista de listas\n",
    "lista_1 = [1,2,3]\n",
    "lista_2 = [2,3,4]\n",
    "lista_3 = [5,6,7]\n",
    "#Donde cada lista sera la fila, delimitando las columnas por coma\n",
    "arreglo = np.array([lista_1,lista_2,lista_3])\n",
    "arreglo.shape\n"
   ]
  },
  {
   "cell_type": "code",
   "execution_count": 43,
   "metadata": {},
   "outputs": [
    {
     "name": "stdout",
     "output_type": "stream",
     "text": [
      "[1 2 3]\n",
      "[[1 2 3]]\n"
     ]
    },
    {
     "data": {
      "text/plain": [
       "array([[1],\n",
       "       [2],\n",
       "       [3]])"
      ]
     },
     "execution_count": 43,
     "metadata": {},
     "output_type": "execute_result"
    }
   ],
   "source": [
    "#Encuentra las diferencias\n",
    "arreglo = np.array([1,2,3])\n",
    "arreglo2 = np.array([[1,2,3]])\n",
    "\n",
    "print(arreglo) #En este tenemos meramente un vector con 3 elementos\n",
    "print(arreglo2) #Este es una matriz en sí 1 x 3\n",
    "\n",
    "#Por ejemplo podemos notar este cambio cuando transponemos, en arreglo 1 no sucece nada.\n",
    "#Mientras que el arreglo2 tiene el cambio esperado. \n",
    "\n",
    "arreglo2.T"
   ]
  },
  {
   "cell_type": "code",
   "execution_count": 46,
   "metadata": {},
   "outputs": [
    {
     "name": "stdout",
     "output_type": "stream",
     "text": [
      "[[1]\n",
      " [2]\n",
      " [3]\n",
      " [4]]\n"
     ]
    }
   ],
   "source": [
    "#Otra forma de lograr la transposicion manualmente es:\n",
    "arreglo = np.array([[1],[2],[3],[4]])\n",
    "print(arreglo)"
   ]
  },
  {
   "cell_type": "code",
   "execution_count": 51,
   "metadata": {},
   "outputs": [
    {
     "name": "stdout",
     "output_type": "stream",
     "text": [
      "[[0 1 2]\n",
      " [3 4 5]\n",
      " [6 7 8]]\n",
      "[[0 1 2]\n",
      " [3 4 5]\n",
      " [6 7 8]]\n",
      "[[ 0  1  4]\n",
      " [ 9 16 25]\n",
      " [36 49 64]]\n"
     ]
    }
   ],
   "source": [
    "#Podemos Multiplicar los elementos de nuestras matrices?\n",
    "arreglo = np.arange(9).reshape(3,-1)\n",
    "arreglo2 = np.arange(9).reshape(3,-1)\n",
    "print(arreglo)\n",
    "print(arreglo2)\n",
    "\n",
    "producto = arreglo * arreglo2\n",
    "#En efecto es posible multiplicar los elelemtnos de nuestras matrices, siempre y cuando tengan la misma dimension\n",
    "print(producto)"
   ]
  },
  {
   "cell_type": "code",
   "execution_count": 60,
   "metadata": {},
   "outputs": [
    {
     "name": "stdout",
     "output_type": "stream",
     "text": [
      "[   0   10   20   30   40   50   60   70   80   90  101  111  121  131\n",
      "  141  151  161  171  181  191  202  212  222  232  242  252  262  272\n",
      "  282  292  303  313  323  333  343  353  363  373  383  393  404  414\n",
      "  424  434  444  454  464  474  484  494  505  515  525  535  545  555\n",
      "  565  575  585  595  606  616  626  636  646  656  666  676  686  696\n",
      "  707  717  727  737  747  757  767  777  787  797  808  818  828  838\n",
      "  848  858  868  878  888  898  909  919  929  939  949  959  969  979\n",
      "  989 1000]\n"
     ]
    }
   ],
   "source": [
    "#Como podemos tener un arreglo con una cantidad elementos de un intervalo y que sean equidistantes.\n",
    "\n",
    "#Con linspace lo obtenemos, fijamos un intervalo, y si deseamos le otorgamos un tipo de dato según convenga, y así creamos un arreglo (vector)\n",
    "arreglo = np.linspace(0,1000,100,dtype=int)\n",
    "print(arreglo)"
   ]
  },
  {
   "cell_type": "code",
   "execution_count": 71,
   "metadata": {},
   "outputs": [
    {
     "name": "stdout",
     "output_type": "stream",
     "text": [
      "[12 15 18 21 24 27 30 33 36 39 42 45 48 51 54 57 60 63 66 69 72 75 78 81\n",
      " 84 87 90 93 96 99]\n",
      "[-- -- 12 -- -- 15 -- -- 18 -- -- 21 -- -- 24 -- -- 27 -- -- 30 -- -- 33\n",
      " -- -- 36 -- -- 39 -- -- 42 -- -- 45 -- -- 48 -- -- 51 -- -- 54 -- -- 57\n",
      " -- -- 60 -- -- 63 -- -- 66 -- -- 69 -- -- 72 -- -- 75 -- -- 78 -- -- 81\n",
      " -- -- 84 -- -- 87 -- -- 90 -- -- 93 -- -- 96 -- -- 99 --]\n"
     ]
    }
   ],
   "source": [
    "#Obtener un arreglo con una condicion sobre los elementos de otro\n",
    "arreglo = np.arange(10,101)\n",
    "condicion = arreglo%3 == 0\n",
    "arreglo_resultado = arreglo[condicion]\n",
    "print(arreglo_resultado)\n",
    "\n",
    "#Ahora como seleccionamos esos datos de alguna forma?\n",
    "arreglo_seleccion = np.ma.array(arreglo,mask=arreglo%3)\n",
    "print(arreglo_seleccion)"
   ]
  },
  {
   "cell_type": "code",
   "execution_count": 81,
   "metadata": {},
   "outputs": [
    {
     "name": "stdout",
     "output_type": "stream",
     "text": [
      "[[0. 0. 0. 0. 0. 0. 0. 0. 0. 0.]\n",
      " [0. 0. 0. 0. 0. 0. 0. 0. 0. 0.]\n",
      " [0. 0. 0. 0. 0. 0. 0. 0. 0. 0.]\n",
      " [0. 0. 0. 0. 0. 0. 0. 0. 0. 0.]\n",
      " [0. 0. 0. 0. 0. 0. 0. 0. 0. 0.]]\n",
      "[[0. 0. 0. 0. 0. 0. 0. 0. 0. 0.]\n",
      " [1. 1. 1. 1. 1. 1. 1. 1. 1. 1.]\n",
      " [0. 0. 0. 0. 0. 0. 0. 0. 0. 0.]\n",
      " [1. 1. 1. 1. 1. 1. 1. 1. 1. 1.]\n",
      " [0. 0. 0. 0. 0. 0. 0. 0. 0. 0.]]\n",
      "[[0. 0. 2. 0. 0. 0. 0. 2. 0. 0.]\n",
      " [1. 1. 2. 1. 1. 1. 1. 2. 1. 1.]\n",
      " [0. 0. 2. 0. 0. 0. 0. 2. 0. 0.]\n",
      " [1. 1. 2. 1. 1. 1. 1. 2. 1. 1.]\n",
      " [0. 0. 2. 0. 0. 0. 0. 2. 0. 0.]]\n"
     ]
    }
   ],
   "source": [
    "arreglo = np.zeros((5,10))\n",
    "print(arreglo)\n",
    "\n",
    "arreglo[1,:]  = 1\n",
    "arreglo[3,:] = 1\n",
    "print(arreglo)\n",
    "\n",
    "arreglo[:,2] = 2\n",
    "arreglo[:,7] = 2\n",
    "print(arreglo)"
   ]
  },
  {
   "cell_type": "code",
   "execution_count": 84,
   "metadata": {},
   "outputs": [
    {
     "data": {
      "text/plain": [
       "array([[[165.64758145, 354.84081966, 278.32556172],\n",
       "        [167.30978856, 122.5280908 , 160.32667803]],\n",
       "\n",
       "       [[ 19.00248076, 365.8332158 , 373.25796555],\n",
       "        [381.28752534, 451.86114705, 352.69231784]],\n",
       "\n",
       "       [[166.98383117, 183.8921921 , 445.12205132],\n",
       "        [246.89605699,  71.6999395 ,   5.14723893]],\n",
       "\n",
       "       [[264.14565528, 359.06970354, 166.0081943 ],\n",
       "        [ 74.17267179, 398.42994131, 198.41790692]]])"
      ]
     },
     "execution_count": 84,
     "metadata": {},
     "output_type": "execute_result"
    }
   ],
   "source": [
    "#Creamos un arreglo de 3 dimensiones, 4x2x3m cada elemento es un numero \"aleatorio\"\n",
    "#Este aleatorio será del 0 al 1, por lo que podemos modificar su valor, ya que podemos operar con arreglos de forma facil\n",
    "a = np.random.random((4,2,3)) * 1000 /2\n",
    "a"
   ]
  },
  {
   "cell_type": "code",
   "execution_count": 86,
   "metadata": {},
   "outputs": [
    {
     "name": "stdout",
     "output_type": "stream",
     "text": [
      "[[0.27883334 0.81686485 0.17508372 0.53192579]\n",
      " [0.91581694 0.93078175 0.1086264  0.29574325]\n",
      " [0.0345505  0.18275152 0.19256897 0.80866128]]\n"
     ]
    }
   ],
   "source": [
    "#Crear un arreglo random de 2 dimensiones\n",
    "arreglo = np.random.random((3,4))\n",
    "print(arreglo)"
   ]
  },
  {
   "cell_type": "code",
   "execution_count": 100,
   "metadata": {},
   "outputs": [
    {
     "name": "stdout",
     "output_type": "stream",
     "text": [
      "[['10' '200' '30' '45' '5' '50']\n",
      " ['5' '20' '30' '40' '50' '0']\n",
      " ['5' '20' '30' '40' '50' '0']\n",
      " ['5' '20' '30' '40' '50' '0']]\n"
     ]
    }
   ],
   "source": [
    "#Modificamos el tipo de dato de un arreglo\n",
    "a = np.array([[10,200,30,45,5,50],[5,20,30,40,50,0],[5,20,30,40,50,0],[5,20,30,40,50,0]], dtype=str)\n",
    "#Hemos creado un arreglo, empleando una lista de listas, si bien recibimos valores enteros\n",
    "#Con dtype = str hemos podido cambiar el dato a String, . \n",
    "print(a)"
   ]
  },
  {
   "cell_type": "code",
   "execution_count": 107,
   "metadata": {},
   "outputs": [
    {
     "data": {
      "text/plain": [
       "775"
      ]
     },
     "execution_count": 107,
     "metadata": {},
     "output_type": "execute_result"
    }
   ],
   "source": [
    "#DUDA SOBRE EL NP.INT16 O EL NP.INT8\n",
    "a = np.array([[10,200,30,45,5,50],[5,20,30,40,50,0],[5,20,30,40,50,0],[5,20,30,40,50,0]],dtype=np.int16)\n",
    "#Podemos sumar sus elementos\n",
    "a.sum()"
   ]
  },
  {
   "cell_type": "code",
   "execution_count": 95,
   "metadata": {},
   "outputs": [
    {
     "data": {
      "text/plain": [
       "39.15724620750999"
      ]
     },
     "execution_count": 95,
     "metadata": {},
     "output_type": "execute_result"
    }
   ],
   "source": [
    "#Funcion desviacion estandar de los datos"
   ]
  },
  {
   "cell_type": "code",
   "execution_count": 111,
   "metadata": {},
   "outputs": [
    {
     "name": "stdout",
     "output_type": "stream",
     "text": [
      "[[ 10 200  30  45   5  50]\n",
      " [  5  20  30  40  50   0]\n",
      " [  5  20  30  40  50   0]\n",
      " [  5  20  30  40  50   0]] \n",
      "\n",
      "[[  5  10  30  45  50 200]\n",
      " [  0   5  20  30  40  50]\n",
      " [  0   5  20  30  40  50]\n",
      " [  0   5  20  30  40  50]]\n"
     ]
    }
   ],
   "source": [
    "#Poner atención sobre el axis\n",
    "a = np.array([[10,200,30,45,5,50],[5,20,30,40,50,0],[5,20,30,40,50,0],[5,20,30,40,50,0]],dtype=np.int16)\n",
    "print(a,\"\\n\")\n",
    "a.sort(axis=1)\n",
    "print(a)"
   ]
  },
  {
   "cell_type": "code",
   "execution_count": null,
   "metadata": {},
   "outputs": [],
   "source": [
    "#En todo caso esto a[1:3,0:3] te genera una matriz mas pequeña, quiere decir:\n",
    "#Tomamos desde la fila 2 hasta la fila 3, y en las columnas desde la primera, a la tercera.\n",
    "#recuerda que tienes que ver bien los numeritos"
   ]
  },
  {
   "cell_type": "code",
   "execution_count": 113,
   "metadata": {},
   "outputs": [
    {
     "name": "stdout",
     "output_type": "stream",
     "text": [
      "[[1 2]\n",
      " [3 4]]\n"
     ]
    }
   ],
   "source": [
    "a = np.matrix('1 2; 3 4')\n",
    "print(a)"
   ]
  },
  {
   "cell_type": "code",
   "execution_count": 116,
   "metadata": {},
   "outputs": [
    {
     "name": "stdout",
     "output_type": "stream",
     "text": [
      "[[ 1 10]\n",
      " [ 3 24]]\n"
     ]
    }
   ],
   "source": [
    "#Para concluir por ahora, podemos decir que matrix, es en verdad una matriz\n",
    "#Aquí si al multiplicarse no obtendriamos solo el producto de sus elementos en otro objetp\n",
    "\n",
    "a = np.matrix('1 2; 3 4')\n",
    "b = np.matrix(\"1 4; 0 3\")\n",
    "#Esto es lo que me gusta, multiplicar matrices.\n",
    "c = a *b\n",
    "print(c)"
   ]
  }
 ],
 "metadata": {
  "interpreter": {
   "hash": "afb734500600fd355917ca529030176ea0ca205570884b88f2f6f7d791fd3fbe"
  },
  "kernelspec": {
   "display_name": "Python 3.10.2 64-bit",
   "language": "python",
   "name": "python3"
  },
  "language_info": {
   "codemirror_mode": {
    "name": "ipython",
    "version": 3
   },
   "file_extension": ".py",
   "mimetype": "text/x-python",
   "name": "python",
   "nbconvert_exporter": "python",
   "pygments_lexer": "ipython3",
   "version": "3.10.2"
  },
  "orig_nbformat": 4
 },
 "nbformat": 4,
 "nbformat_minor": 2
}
