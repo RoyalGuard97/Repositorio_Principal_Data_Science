{
 "cells": [
  {
   "cell_type": "markdown",
   "metadata": {},
   "source": [
    "# Bootstrapping"
   ]
  },
  {
   "cell_type": "markdown",
   "metadata": {},
   "source": [
    "* Muy útil para muestras pequeñas o en distribuciones muy sesgadas\n",
    "* Es un método de remuestreo"
   ]
  },
  {
   "cell_type": "code",
   "execution_count": 2,
   "metadata": {},
   "outputs": [],
   "source": [
    "import pandas as pd\n",
    "import numpy as np\n",
    "import random"
   ]
  },
  {
   "cell_type": "code",
   "execution_count": 4,
   "metadata": {},
   "outputs": [
    {
     "data": {
      "text/plain": [
       "array([33.63684145, 35.40074643, 33.97319578, ..., 34.17993918,\n",
       "       32.69687479, 32.93270185])"
      ]
     },
     "execution_count": 4,
     "metadata": {},
     "output_type": "execute_result"
    }
   ],
   "source": [
    "#10000 datos con un promedio de 34 que es el centro\n",
    "data = np.random.normal(loc=34,size=10000)\n",
    "data"
   ]
  },
  {
   "cell_type": "code",
   "execution_count": 5,
   "metadata": {},
   "outputs": [
    {
     "data": {
      "text/plain": [
       "34.00882485684014"
      ]
     },
     "execution_count": 5,
     "metadata": {},
     "output_type": "execute_result"
    }
   ],
   "source": [
    "#Confirmamos la media\n",
    "data.mean()"
   ]
  },
  {
   "cell_type": "markdown",
   "metadata": {},
   "source": [
    "# Iniciamos Bootstraping para calcular media"
   ]
  },
  {
   "cell_type": "code",
   "execution_count": 7,
   "metadata": {},
   "outputs": [],
   "source": [
    "promedio = []\n",
    "cantidad_muestras = 40\n",
    "for i in range(cantidad_muestras):\n",
    "    muestra = random.sample(data.tolist(),5)\n",
    "    prom = np.mean(muestra)\n",
    "    promedio.append(prom)"
   ]
  },
  {
   "cell_type": "code",
   "execution_count": 8,
   "metadata": {},
   "outputs": [
    {
     "data": {
      "text/plain": [
       "33.97403871032096"
      ]
     },
     "execution_count": 8,
     "metadata": {},
     "output_type": "execute_result"
    }
   ],
   "source": [
    "#Tecnica bootstraping para obtener la media. \n",
    "np.mean(promedio)"
   ]
  },
  {
   "cell_type": "markdown",
   "metadata": {},
   "source": [
    "* Recordar que data es el conjunto de datos anterior"
   ]
  },
  {
   "cell_type": "code",
   "execution_count": 9,
   "metadata": {},
   "outputs": [],
   "source": [
    "#Creamos una lista vacia\n",
    "lista_promedio = []\n",
    "#Colocamos una cantidad de muestras de 100\n",
    "cantidad_muestras = 100\n",
    "#Para i igual a 0 hasta la cantidad de muestras---\n",
    "for i in range(cantidad_muestras):\n",
    "    #Creamos una muestra, que obtiene al azar 10 elemento de la lista data.\n",
    "    una_muestra = random.sample(data.tolist(),10)\n",
    "    #Obtenemos ese promedio especifico de la muestra. \n",
    "    promedio = np.mean(una_muestra)\n",
    "    #Finalmente agregamos cada promedio a la lista \"promedio\"\n",
    "    lista_promedio.append(promedio)"
   ]
  },
  {
   "cell_type": "code",
   "execution_count": 10,
   "metadata": {},
   "outputs": [
    {
     "data": {
      "text/plain": [
       "34.018097013017744"
      ]
     },
     "execution_count": 10,
     "metadata": {},
     "output_type": "execute_result"
    }
   ],
   "source": [
    "np.mean(lista_promedio)"
   ]
  }
 ],
 "metadata": {
  "kernelspec": {
   "display_name": "Python 3.10.2 64-bit",
   "language": "python",
   "name": "python3"
  },
  "language_info": {
   "codemirror_mode": {
    "name": "ipython",
    "version": 3
   },
   "file_extension": ".py",
   "mimetype": "text/x-python",
   "name": "python",
   "nbconvert_exporter": "python",
   "pygments_lexer": "ipython3",
   "version": "3.10.2"
  },
  "orig_nbformat": 4,
  "vscode": {
   "interpreter": {
    "hash": "afb734500600fd355917ca529030176ea0ca205570884b88f2f6f7d791fd3fbe"
   }
  }
 },
 "nbformat": 4,
 "nbformat_minor": 2
}
