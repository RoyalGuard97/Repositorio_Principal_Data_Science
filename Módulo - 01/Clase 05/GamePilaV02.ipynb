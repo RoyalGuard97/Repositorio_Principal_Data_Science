{
 "cells": [
  {
   "cell_type": "code",
   "execution_count": 1,
   "metadata": {},
   "outputs": [],
   "source": [
    "import random\n",
    "#Crear una pila\n",
    "#Se necesita import random, debe estar dentro de la clase. \n",
    "class EstructuraPila(object):\n",
    "    def __init__(self):\n",
    "        self.__list = []\n",
    "    \n",
    "    def push(self,item):\n",
    "        self.__list.append(item)\n",
    "    \n",
    "    def pop(self):\n",
    "        try:\n",
    "            return self.__list.pop()\n",
    "        except:\n",
    "            IndexError, print(\"No existe elemento en la Lista\")\n",
    "    #Funcion Mostrar Lista\n",
    "    def mostrar(self):\n",
    "        return self.__list\n",
    "    \n",
    "    #Funcion Barajar Lista\n",
    "    def barajar(self):\n",
    "        random.shuffle(self.__list)\n",
    "    \n",
    "    #Metodo Jugar Pila\n",
    "    def jugar(self):\n",
    "        #Rellenamos la pila con numeros del 1 a 21\n",
    "        for i in range (1,21):\n",
    "            #Usamos el metodo push. \n",
    "            self.push(i)\n",
    "        #Llamamos a una funcion \"barajar\"\n",
    "        self.barajar()\n",
    "        \n",
    "        #Le Solicitamos al Usuario cuantas Cartas desea Robar \n",
    "        try:\n",
    "            num_robo = int(input(\"Cuantas Cartas Deseas Robar?\"))\n",
    "        except:\n",
    "            ValueError, print(\"Tipo de Dato no Admitido\")\n",
    "            return None\n",
    "        #Verificacion de Si es Posible jugar\n",
    "        if(num_robo>=10 or num_robo<=0 or type(num_robo)!=int):\n",
    "            return print(\"Imposible Jugar\")\n",
    "\n",
    "        print(\"Robaste esta cantidad de cartas: \",num_robo)\n",
    "        \n",
    "        #Definimos la suma de nuestras cartas\n",
    "        sum = 0\n",
    "        #Realizamos un pop igual a la cantidad de veces que desea robar\n",
    "        for i in range (0,num_robo):\n",
    "            carta = self.pop()\n",
    "            #Sumamos el valor de dichas cartas e imprimimos cada una.\n",
    "            sum += carta\n",
    "            print(\"Sacaste esta(s) carta(s):\",carta)\n",
    "\n",
    "        #Mostramos el Estado Actual de la baraja después del robo. \n",
    "        print(\"Lista de Cartas Sobrantes\",self.mostrar())\n",
    "\n",
    "        #Formulamos la condicion de victoria.  Si la suma dio mayor a 50 perdemos.\n",
    "        if(sum>50):\n",
    "            print(\"Perdiste con suma mayor a 50: \",sum)\n",
    "            return 0\n",
    "        #Sino procedemos a Ganar\n",
    "        else:\n",
    "            print(\"Ganaste con suma menor o igual a 50: \",sum)\n",
    "\n",
    "            #Procedemos a calcular la puntuacion:\n",
    "            #Llamamos a prueba y le damos el valor del ultimo elemento de la pila\n",
    "            prueba = self.pop()\n",
    "            \n",
    "            #Inicializamos un contador que nos ayudara a saber cuantas cartas mas pudimos sacar sin pasarnos\n",
    "            contador = 0\n",
    "\n",
    "            #Si nuestra suma actual mas la prueba, pasan los 50. Nos destuvimos perfectamente\n",
    "            if(sum+prueba>50):\n",
    "                print(\"¡Felicidades! No quedaba ningún elemento válido por sacar\")\n",
    "            else:\n",
    "                print(\"Lamentablemente, Si quedaban elementos válidos por sacar\")\n",
    "                #El elemento de prueba se retorna para calcular debidamente\n",
    "                self.push(prueba)\n",
    "                #Si la suma es menor o igual que 50, se procede a sacar cartas y sumar\n",
    "                while(sum<=50):\n",
    "                    sum+=self.pop()\n",
    "                    #Si el numero sobrepasa el 50, rompemos el bucle\n",
    "                    if(sum>50):\n",
    "                        break\n",
    "                    #Contador es el numero de cartas que pudimos sacar. \n",
    "                    contador+=1\n",
    "            \n",
    "            return(10-contador)\n"
   ]
  },
  {
   "cell_type": "code",
   "execution_count": 6,
   "metadata": {},
   "outputs": [
    {
     "name": "stdout",
     "output_type": "stream",
     "text": [
      "Robaste esta cantidad de cartas:  1\n",
      "Sacaste esta(s) carta(s): 10\n",
      "Lista de Cartas Sobrantes [7, 11, 18, 14, 19, 5, 20, 13, 2, 6, 3, 15, 17, 9, 12, 4, 1, 16, 8]\n",
      "Ganaste con suma menor o igual a 50:  10\n",
      "Lamentablemente, Si quedaban elementos válidos por sacar\n",
      "Tu calificacion es:  6\n"
     ]
    }
   ],
   "source": [
    "mi_pila = EstructuraPila()\n",
    "a = mi_pila.jugar()\n",
    "print(\"Tu calificacion es: \",a)\n"
   ]
  },
  {
   "cell_type": "code",
   "execution_count": null,
   "metadata": {},
   "outputs": [],
   "source": []
  }
 ],
 "metadata": {
  "interpreter": {
   "hash": "afb734500600fd355917ca529030176ea0ca205570884b88f2f6f7d791fd3fbe"
  },
  "kernelspec": {
   "display_name": "Python 3.10.2 64-bit",
   "language": "python",
   "name": "python3"
  },
  "language_info": {
   "codemirror_mode": {
    "name": "ipython",
    "version": 3
   },
   "file_extension": ".py",
   "mimetype": "text/x-python",
   "name": "python",
   "nbconvert_exporter": "python",
   "pygments_lexer": "ipython3",
   "version": "3.10.2"
  },
  "orig_nbformat": 4
 },
 "nbformat": 4,
 "nbformat_minor": 2
}
