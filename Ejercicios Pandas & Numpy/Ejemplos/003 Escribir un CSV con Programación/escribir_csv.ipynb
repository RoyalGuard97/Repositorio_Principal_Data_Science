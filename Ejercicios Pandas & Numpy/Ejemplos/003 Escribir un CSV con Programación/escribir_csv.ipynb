{
 "cells": [
  {
   "cell_type": "code",
   "execution_count": 202,
   "metadata": {},
   "outputs": [
    {
     "name": "stdout",
     "output_type": "stream",
     "text": [
      "Nombre;Plataforma;Año de Lanzamiento;Puntaje (Metacritic);Puntaje Usuario\n",
      "\n",
      "The Legend of Zelda: Ocarina of Time;Nintendo64;1.998;99;9,1\n",
      "\n",
      "Tony Hawk's Pro Skater 2;PlayStation;2.000;98;7,4\t\n",
      "\n",
      "Grand Theft Auto IV;PlayStation3;2.008;98;;\n",
      "\n",
      "SoulCalibur;Dreamcast;1.999;98;8,5\n",
      "\n",
      "Grand Theft Auto IV;Xbox360;2.008;98;7,9\t\n",
      "\n",
      "Super Mario Galaxy;Wii;2.007;97;9,0\n",
      "\n",
      "Super Mario Galaxy 2;Wii;2.010;97;9,1\t\n",
      "\n"
     ]
    }
   ],
   "source": [
    "#Escribir un CSV a través de otro\n",
    "import csv\n",
    "archivo = open(\"videojuegos.csv\",encoding=\"utf-8\")\n",
    "for linea in archivo:\n",
    "    print(linea)"
   ]
  },
  {
   "cell_type": "code",
   "execution_count": 203,
   "metadata": {},
   "outputs": [],
   "source": [
    "#Escribir un CSV a través de otro\n",
    "import csv\n",
    "archivo = open(\"videojuegos.csv\",encoding=\"utf-8\")\n",
    "new_archivo = csv.reader(archivo,delimiter=\";\")\n",
    "with open(\"salida.csv\",\"w\",encoding=\"latin-1\",newline=\"\") as salida:\n",
    "    archivo_salida = csv.writer(salida)\n",
    "    archivo_salida.writerow([\"nombre\",\"plataforma\",\"año_lanzamiento\",\"puntaje_mete\",\"puntaje_user\"])\n",
    "    next(new_archivo)\n",
    "    for lista in new_archivo:\n",
    "        for i in range (len(lista)):\n",
    "            lista[i] = lista[i].strip()\n",
    "        archivo_salida.writerow([lista[0],lista[1],lista[2],lista[3],lista[4]])"
   ]
  },
  {
   "cell_type": "code",
   "execution_count": 204,
   "metadata": {},
   "outputs": [
    {
     "data": {
      "text/html": [
       "<div>\n",
       "<style scoped>\n",
       "    .dataframe tbody tr th:only-of-type {\n",
       "        vertical-align: middle;\n",
       "    }\n",
       "\n",
       "    .dataframe tbody tr th {\n",
       "        vertical-align: top;\n",
       "    }\n",
       "\n",
       "    .dataframe thead th {\n",
       "        text-align: right;\n",
       "    }\n",
       "</style>\n",
       "<table border=\"1\" class=\"dataframe\">\n",
       "  <thead>\n",
       "    <tr style=\"text-align: right;\">\n",
       "      <th></th>\n",
       "      <th>nombre</th>\n",
       "      <th>plataforma</th>\n",
       "      <th>año_lanzamiento</th>\n",
       "      <th>puntaje_mete</th>\n",
       "      <th>puntaje_user</th>\n",
       "    </tr>\n",
       "  </thead>\n",
       "  <tbody>\n",
       "    <tr>\n",
       "      <th>0</th>\n",
       "      <td>The Legend of Zelda: Ocarina of Time</td>\n",
       "      <td>Nintendo64</td>\n",
       "      <td>1998</td>\n",
       "      <td>99</td>\n",
       "      <td>9.1</td>\n",
       "    </tr>\n",
       "    <tr>\n",
       "      <th>1</th>\n",
       "      <td>Tony Hawk's Pro Skater 2</td>\n",
       "      <td>PlayStation</td>\n",
       "      <td>2000</td>\n",
       "      <td>98</td>\n",
       "      <td>7.4</td>\n",
       "    </tr>\n",
       "    <tr>\n",
       "      <th>2</th>\n",
       "      <td>Grand Theft Auto IV</td>\n",
       "      <td>PlayStation3</td>\n",
       "      <td>2008</td>\n",
       "      <td>98</td>\n",
       "      <td>NaN</td>\n",
       "    </tr>\n",
       "    <tr>\n",
       "      <th>3</th>\n",
       "      <td>SoulCalibur</td>\n",
       "      <td>Dreamcast</td>\n",
       "      <td>1999</td>\n",
       "      <td>98</td>\n",
       "      <td>8.5</td>\n",
       "    </tr>\n",
       "    <tr>\n",
       "      <th>4</th>\n",
       "      <td>Grand Theft Auto IV</td>\n",
       "      <td>Xbox360</td>\n",
       "      <td>2008</td>\n",
       "      <td>98</td>\n",
       "      <td>7.9</td>\n",
       "    </tr>\n",
       "    <tr>\n",
       "      <th>5</th>\n",
       "      <td>Super Mario Galaxy</td>\n",
       "      <td>Wii</td>\n",
       "      <td>2007</td>\n",
       "      <td>97</td>\n",
       "      <td>9.0</td>\n",
       "    </tr>\n",
       "    <tr>\n",
       "      <th>6</th>\n",
       "      <td>Super Mario Galaxy 2</td>\n",
       "      <td>Wii</td>\n",
       "      <td>2010</td>\n",
       "      <td>97</td>\n",
       "      <td>9.1</td>\n",
       "    </tr>\n",
       "  </tbody>\n",
       "</table>\n",
       "</div>"
      ],
      "text/plain": [
       "                                 nombre    plataforma  año_lanzamiento  \\\n",
       "0  The Legend of Zelda: Ocarina of Time    Nintendo64             1998   \n",
       "1              Tony Hawk's Pro Skater 2   PlayStation             2000   \n",
       "2                   Grand Theft Auto IV  PlayStation3             2008   \n",
       "3                           SoulCalibur     Dreamcast             1999   \n",
       "4                   Grand Theft Auto IV       Xbox360             2008   \n",
       "5                    Super Mario Galaxy           Wii             2007   \n",
       "6                  Super Mario Galaxy 2           Wii             2010   \n",
       "\n",
       "   puntaje_mete  puntaje_user  \n",
       "0            99           9.1  \n",
       "1            98           7.4  \n",
       "2            98           NaN  \n",
       "3            98           8.5  \n",
       "4            98           7.9  \n",
       "5            97           9.0  \n",
       "6            97           9.1  "
      ]
     },
     "execution_count": 204,
     "metadata": {},
     "output_type": "execute_result"
    }
   ],
   "source": [
    "#Confirmamos con Pandas\n",
    "import pandas as pd\n",
    "import numpy as np\n",
    "df = pd.read_csv(\"salida.csv\",encoding=\"latin-1\",thousands=\".\",decimal=\",\")\n",
    "df"
   ]
  },
  {
   "cell_type": "code",
   "execution_count": 205,
   "metadata": {},
   "outputs": [
    {
     "data": {
      "text/plain": [
       "[91, 74, None, 85, 79, 90, 91]"
      ]
     },
     "execution_count": 205,
     "metadata": {},
     "output_type": "execute_result"
    }
   ],
   "source": [
    "def controlador_nulos(item):\n",
    "    if(np.isnan(item)):\n",
    "        return None\n",
    "    else:\n",
    "        return int(item*10)\n",
    "\n",
    "\n",
    "lista = [controlador_nulos(elemento) for elemento in df[\"puntaje_user\"]]\n",
    "lista"
   ]
  },
  {
   "cell_type": "code",
   "execution_count": 206,
   "metadata": {},
   "outputs": [],
   "source": [
    "#Metodo avanzado, podemos a cada variable columna, asignarle una lista, arreglo etc, para modificarlo\n",
    "df = df.assign(puntaje_user = lista) #Los nuevos se agregaran, los repetidos se sobreescribirán. "
   ]
  },
  {
   "cell_type": "code",
   "execution_count": 207,
   "metadata": {},
   "outputs": [],
   "source": [
    "df.to_csv(\"salida_pandas.csv\",index=False,encoding=\"utf-8\")"
   ]
  },
  {
   "cell_type": "code",
   "execution_count": 214,
   "metadata": {},
   "outputs": [
    {
     "data": {
      "text/html": [
       "<div>\n",
       "<style scoped>\n",
       "    .dataframe tbody tr th:only-of-type {\n",
       "        vertical-align: middle;\n",
       "    }\n",
       "\n",
       "    .dataframe tbody tr th {\n",
       "        vertical-align: top;\n",
       "    }\n",
       "\n",
       "    .dataframe thead th {\n",
       "        text-align: right;\n",
       "    }\n",
       "</style>\n",
       "<table border=\"1\" class=\"dataframe\">\n",
       "  <thead>\n",
       "    <tr style=\"text-align: right;\">\n",
       "      <th></th>\n",
       "      <th>nombre</th>\n",
       "      <th>plataforma</th>\n",
       "      <th>año_lanzamiento</th>\n",
       "      <th>puntaje_mete</th>\n",
       "      <th>puntaje_user</th>\n",
       "    </tr>\n",
       "  </thead>\n",
       "  <tbody>\n",
       "    <tr>\n",
       "      <th>2</th>\n",
       "      <td>Grand Theft Auto IV</td>\n",
       "      <td>PlayStation3</td>\n",
       "      <td>2008</td>\n",
       "      <td>98</td>\n",
       "      <td>NaN</td>\n",
       "    </tr>\n",
       "  </tbody>\n",
       "</table>\n",
       "</div>"
      ],
      "text/plain": [
       "                nombre    plataforma  año_lanzamiento  puntaje_mete  \\\n",
       "2  Grand Theft Auto IV  PlayStation3             2008            98   \n",
       "\n",
       "   puntaje_user  \n",
       "2           NaN  "
      ]
     },
     "execution_count": 214,
     "metadata": {},
     "output_type": "execute_result"
    }
   ],
   "source": [
    "df[df[\"puntaje_user\"].isna()]"
   ]
  },
  {
   "cell_type": "markdown",
   "metadata": {},
   "source": []
  }
 ],
 "metadata": {
  "interpreter": {
   "hash": "afb734500600fd355917ca529030176ea0ca205570884b88f2f6f7d791fd3fbe"
  },
  "kernelspec": {
   "display_name": "Python 3.10.2 64-bit",
   "language": "python",
   "name": "python3"
  },
  "language_info": {
   "codemirror_mode": {
    "name": "ipython",
    "version": 3
   },
   "file_extension": ".py",
   "mimetype": "text/x-python",
   "name": "python",
   "nbconvert_exporter": "python",
   "pygments_lexer": "ipython3",
   "version": "3.10.2"
  },
  "orig_nbformat": 4
 },
 "nbformat": 4,
 "nbformat_minor": 2
}
