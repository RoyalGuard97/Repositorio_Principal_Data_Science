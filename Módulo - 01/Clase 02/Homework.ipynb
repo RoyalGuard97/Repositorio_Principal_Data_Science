{
 "cells": [
  {
   "cell_type": "markdown",
   "metadata": {},
   "source": [
    "# Práctica Clase 2"
   ]
  },
  {
   "cell_type": "markdown",
   "metadata": {},
   "source": [
    "1) Abrir el archivo \"Emisiones_CO2.csv\" y cargar sus datos en un diccionario."
   ]
  },
  {
   "cell_type": "code",
   "execution_count": 38,
   "metadata": {},
   "outputs": [
    {
     "name": "stdout",
     "output_type": "stream",
     "text": [
      "2a.-Las Cantidades de Variables Existentes son:  6\n",
      "2b.-La Primera Variable es de tipo:  <class 'str'>\n",
      "2b.-La Segunda Variable es de tipo:  <class 'str'>\n",
      "2b.-La Tercera Variable es de tipo:  <class 'str'>\n",
      "2b.-La Cuarta Variable es de tipo:  <class 'int'>\n",
      "2b.-La Quinta Variable es de tipo:  <class 'float'>\n",
      "2b.-La Sexta Variable es de tipo:  <class 'float'>\n",
      "El tipo de variable de cod_pais es cualitativa\n",
      "El tipo de variable de nom_pais es cualitativa\n",
      "El tipo de variable de region es cualitativa\n",
      "El tipo de variable de anio es cualitativa\n",
      "El tipo de variable de co2 es cuantitativa\n",
      "El tipo de variable de co2_percapita es cuantitativa\n",
      "2d.-Los valores nulos de la variable numero 1 cod_pais es 0\n",
      "2d.-Los valores nulos de la variable numero 2 nom_pais es 0\n",
      "2d.-Los valores nulos de la variable numero 3 region es 0\n",
      "2d.-Los valores nulos de la variable numero 4 anio es 0\n",
      "2d.-Los valores nulos de la variable numero 5 co2 es 2095\n",
      "2d.-Los valores nulos de la variable numero 6 co2_percapita es 2098\n",
      "2e.-El total de emisiones es: 1691634.8009999995\n"
     ]
    }
   ],
   "source": [
    "archivo = open(\"Emisiones_CO2.csv\",\"r\")\n",
    "dicc = {  'cod_pais' : [],'nom_pais' : [],'region' : [],'anio' : [],'co2' : [],'co2_percapita' : []}\n",
    "\n",
    "separador = \"|\"\n",
    "lista = list(dicc.keys())\n",
    "next(archivo)\n",
    "\n",
    "for linea in archivo:\n",
    "    registro = linea.split(separador)\n",
    "    for i,e in enumerate(dicc):\n",
    "        if(e!=lista[-1] and e!= lista[-2]):\n",
    "            try:\n",
    "                dicc[e].append(eval(registro[i]))\n",
    "            except:\n",
    "                NameError, dicc[e].append(registro[i])\n",
    "        else:\n",
    "            try:\n",
    "                dicc[e].append(eval(registro[i].replace(\"\\n\",\"\").replace(\".\",\"\").replace(\",\",\".\")))\n",
    "            except:\n",
    "                NameError, dicc[e].append(registro[i].replace(\"\\n\",\"\"))\n",
    "\n",
    "\n",
    "print(\"2a.-Las Cantidades de Variables Existentes son: \",len(dicc))\n",
    "\n",
    "\n",
    "\n",
    "print(\"2b.-La Primera Variable es de tipo: \",type(dicc[lista[0]][0]))\n",
    "print(\"2b.-La Segunda Variable es de tipo: \",type(dicc[lista[1]][0]))\n",
    "print(\"2b.-La Tercera Variable es de tipo: \",type(dicc[lista[2]][0]))\n",
    "print(\"2b.-La Cuarta Variable es de tipo: \",type(dicc[lista[3]][0]))\n",
    "\n",
    "for elemento in dicc[lista[4]]:\n",
    "    if(elemento!=\"\"):\n",
    "        a = elemento\n",
    "        break\n",
    "\n",
    "print(\"2b.-La Quinta Variable es de tipo: \",type(a))\n",
    "for elemento in dicc[lista[5]]:\n",
    "    if(elemento!=\"\"):\n",
    "        b = elemento\n",
    "        break\n",
    "print(\"2b.-La Sexta Variable es de tipo: \",type(b))\n",
    "\n",
    "print(f\"El tipo de variable de {lista[0]} es cualitativa\")\n",
    "print(f\"El tipo de variable de {lista[1]} es cualitativa\")\n",
    "print(f\"El tipo de variable de {lista[2]} es cualitativa\")\n",
    "print(f\"El tipo de variable de {lista[3]} es cualitativa\")\n",
    "print(f\"El tipo de variable de {lista[4]} es cuantitativa\")\n",
    "print(f\"El tipo de variable de {lista[5]} es cuantitativa\")\n",
    "\n",
    "\n",
    "#i = indice, e = llave\n",
    "for i,e in enumerate(dicc):\n",
    "    nulos = 0\n",
    "    for elemento in dicc[e]:\n",
    "         if(elemento == \"\"):\n",
    "            nulos +=1\n",
    "    print(f\"2d.-Los valores nulos de la variable numero {i+1} {e} es {nulos}\")\n",
    "\n",
    "\n",
    "\n",
    "Emisiones_ALC_2010 = []\n",
    "#Para un i a lo largo de la lista hasta el largo de la lista dicc[\"co2\"]\n",
    "for i in range(len(dicc[\"co2\"])):\n",
    "    #Creo mis condiciones, la región correspondicnete, el año y que mi dato en CO2 no sea vacío. \n",
    "    c1 = dicc[\"region\"][i] == \"América Latina y Caribe\"\n",
    "    c2 = dicc[\"anio\"][i] == 2010\n",
    "    c3 = dicc[\"co2\"][i] != \"\"\n",
    "    \n",
    "    if c1 and c2 and c3:\n",
    "        Emisiones_ALC_2010.append(dicc[\"co2\"][i])\n",
    "    \n",
    "print(\"2e.-El total de emisiones es:\", sum(Emisiones_ALC_2010))\n",
    "\n",
    "\n"
   ]
  },
  {
   "cell_type": "markdown",
   "metadata": {},
   "source": [
    "2) a) ¿Cuántas variables hay? <br>\n",
    "b) ¿Qué tipos de datos usar para cada una? <br>\n",
    "c) ¿Qué tipo de variables son? <br>\n",
    "d) ¿Hay valores faltantes? <br>\n",
    "e) ¿Cuál es el total de emisiones de CO2 para 'América Latina y Caribe' en el año 2010?"
   ]
  }
 ],
 "metadata": {
  "interpreter": {
   "hash": "afb734500600fd355917ca529030176ea0ca205570884b88f2f6f7d791fd3fbe"
  },
  "kernelspec": {
   "display_name": "Python 3.10.2 64-bit",
   "language": "python",
   "name": "python3"
  },
  "language_info": {
   "codemirror_mode": {
    "name": "ipython",
    "version": 3
   },
   "file_extension": ".py",
   "mimetype": "text/x-python",
   "name": "python",
   "nbconvert_exporter": "python",
   "pygments_lexer": "ipython3",
   "version": "3.10.2"
  },
  "orig_nbformat": 4
 },
 "nbformat": 4,
 "nbformat_minor": 2
}
