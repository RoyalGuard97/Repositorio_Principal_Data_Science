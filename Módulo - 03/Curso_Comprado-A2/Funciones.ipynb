{
 "cells": [
  {
   "cell_type": "markdown",
   "metadata": {},
   "source": [
    "# Funciones en Python"
   ]
  },
  {
   "cell_type": "markdown",
   "metadata": {},
   "source": [
    "Raíz Cuadrada"
   ]
  },
  {
   "cell_type": "code",
   "execution_count": 12,
   "metadata": {},
   "outputs": [
    {
     "data": {
      "text/plain": [
       "3.0"
      ]
     },
     "execution_count": 12,
     "metadata": {},
     "output_type": "execute_result"
    }
   ],
   "source": [
    "#Raíz cuadrada\n",
    "def raizcuadra(numero):\n",
    "    \"\"\"Esta Función obtiene la raíz cuadrada de un número\"\"\"\n",
    "    return numero ** (1/2)\n",
    "raizcuadra(9)\n"
   ]
  },
  {
   "cell_type": "code",
   "execution_count": 15,
   "metadata": {},
   "outputs": [
    {
     "name": "stdout",
     "output_type": "stream",
     "text": [
      "La raíz cuadarada de 100 es:  10.0\n"
     ]
    }
   ],
   "source": [
    "print(\"La raíz cuadarada de 100 es: \",raizcuadra(100))"
   ]
  },
  {
   "cell_type": "markdown",
   "metadata": {},
   "source": [
    "Raíz Cúbica"
   ]
  },
  {
   "cell_type": "code",
   "execution_count": 14,
   "metadata": {},
   "outputs": [
    {
     "data": {
      "text/plain": [
       "2.0"
      ]
     },
     "execution_count": 14,
     "metadata": {},
     "output_type": "execute_result"
    }
   ],
   "source": [
    "#Raíz cúbica\n",
    "def raizcubica(numero):\n",
    "    \"\"\"Esta Función obtiene la raíz cúbica de un número\"\"\"\n",
    "    return numero ** (1/3)\n",
    "raizcubica(8)\n"
   ]
  },
  {
   "cell_type": "markdown",
   "metadata": {},
   "source": [
    "Funciones con varios parámetros. "
   ]
  },
  {
   "cell_type": "code",
   "execution_count": 22,
   "metadata": {},
   "outputs": [],
   "source": [
    "def raizgrande (num1,num2,num3):\n",
    "    \"\"\"Esta funcion regresa el número más grande de 3 raices\"\"\"\n",
    "    mayor = num1\n",
    "    if num2 > mayor:\n",
    "        mayor = num2\n",
    "    if num3 > mayor:\n",
    "        mayor = num3\n",
    "    \n",
    "    return mayor ** (1/2)"
   ]
  },
  {
   "cell_type": "code",
   "execution_count": 24,
   "metadata": {},
   "outputs": [
    {
     "data": {
      "text/plain": [
       "28.460498941515414"
      ]
     },
     "execution_count": 24,
     "metadata": {},
     "output_type": "execute_result"
    }
   ],
   "source": [
    "raizgrande(810,64,100)"
   ]
  },
  {
   "cell_type": "markdown",
   "metadata": {},
   "source": [
    "Simular Lanzamiento de Monedas"
   ]
  },
  {
   "cell_type": "code",
   "execution_count": 31,
   "metadata": {},
   "outputs": [
    {
     "name": "stdout",
     "output_type": "stream",
     "text": [
      "1, 0, 0, 0, 0, 0, 1, 1, 1, 1, "
     ]
    }
   ],
   "source": [
    "import random\n",
    "for tirada in range(10):\n",
    "    print(random.randrange(0,2),end=\", \")"
   ]
  },
  {
   "cell_type": "code",
   "execution_count": 94,
   "metadata": {},
   "outputs": [
    {
     "name": "stdout",
     "output_type": "stream",
     "text": [
      "Cara = 1, Sello = 0 → Tabla de Frecuencias\n"
     ]
    },
    {
     "data": {
      "text/html": [
       "<div>\n",
       "<style scoped>\n",
       "    .dataframe tbody tr th:only-of-type {\n",
       "        vertical-align: middle;\n",
       "    }\n",
       "\n",
       "    .dataframe tbody tr th {\n",
       "        vertical-align: top;\n",
       "    }\n",
       "\n",
       "    .dataframe thead th {\n",
       "        text-align: right;\n",
       "    }\n",
       "</style>\n",
       "<table border=\"1\" class=\"dataframe\">\n",
       "  <thead>\n",
       "    <tr style=\"text-align: right;\">\n",
       "      <th></th>\n",
       "      <th>Frecuencias</th>\n",
       "    </tr>\n",
       "  </thead>\n",
       "  <tbody>\n",
       "    <tr>\n",
       "      <th>cara</th>\n",
       "      <td>49845</td>\n",
       "    </tr>\n",
       "    <tr>\n",
       "      <th>sello</th>\n",
       "      <td>50156</td>\n",
       "    </tr>\n",
       "  </tbody>\n",
       "</table>\n",
       "</div>"
      ],
      "text/plain": [
       "       Frecuencias\n",
       "cara         49845\n",
       "sello        50156"
      ]
     },
     "execution_count": 94,
     "metadata": {},
     "output_type": "execute_result"
    }
   ],
   "source": [
    "import pandas as pd\n",
    "contador_cara = 0\n",
    "contador_sello = 1\n",
    "\n",
    "for tiro in range(100000):\n",
    "    resultado = random.randrange(0,2)\n",
    "    if resultado == 1:\n",
    "        contador_cara+=1\n",
    "    else:\n",
    "        contador_sello+=1\n",
    "\n",
    "#Atención esto no funciona normalmente si \"contador_cara\" no es una lista\n",
    "#Al ser un escalar, este debe ser almacenado en una lista. \n",
    "dicc = dict(cara = [contador_cara],sello=[contador_sello])\n",
    "\n",
    "#Prin avanzado\n",
    "print(f'Cara = 1, Sello = 0 {\"→ Tabla de Frecuencias\":>13}')\n",
    "tabla = pd.DataFrame(dicc)\n",
    "#Renombrar, nombre de columnas o nombre de filas pasado una lista. \n",
    "tabla.set_axis([\"Frecuencias\"],inplace=True,axis=0)\n",
    "tabla.T"
   ]
  },
  {
   "cell_type": "markdown",
   "metadata": {},
   "source": [
    "¿Cómo Controlar un experimento \"Aleatorio\"?"
   ]
  },
  {
   "cell_type": "code",
   "execution_count": 98,
   "metadata": {},
   "outputs": [
    {
     "name": "stdout",
     "output_type": "stream",
     "text": [
      "0, 0, 0, 1, 0, 0, 1, 0, 0, 1, "
     ]
    }
   ],
   "source": [
    "import random\n",
    "#Somos capaces de setear una semilla, con lo cual el resultado siempre es constante. \n",
    "random.seed(22)\n",
    "for tirada in range(10):\n",
    "    print(random.randrange(0,2),end=\", \")"
   ]
  },
  {
   "cell_type": "markdown",
   "metadata": {},
   "source": [
    "# Juego de Gran 8"
   ]
  },
  {
   "cell_type": "code",
   "execution_count": 117,
   "metadata": {},
   "outputs": [],
   "source": [
    "def lanzar_dados():\n",
    "    #Obtenemos un numero aleatorio en un rango\n",
    "    dado1 = random.randrange(1,7)\n",
    "    dado2 = random.randrange(1,7)\n",
    "    #La funcion retorna dos valores. \n",
    "    return dado1,dado2\n",
    "\n",
    "def mostrar_dados(dado):\n",
    "    #Recogemos los dos valores de dado, que vienen de \"lanzar_dado\"\n",
    "    dado1,dado2 = dado\n",
    "    #Lo imprimimos\n",
    "    print(f'El resultado de la jugada es: {dado1} y {dado2} = {sum(dado)}')\n"
   ]
  },
  {
   "cell_type": "code",
   "execution_count": 128,
   "metadata": {},
   "outputs": [
    {
     "name": "stdout",
     "output_type": "stream",
     "text": [
      "El resultado de la jugada es: 2 y 4 = 6\n",
      "Sigue Jugando buscando al Gran 8\n",
      "El resultado de la jugada es: 1 y 1 = 2\n",
      "El resultado de la jugada es: 4 y 2 = 6\n",
      "El resultado de la jugada es: 2 y 1 = 3\n",
      "El resultado de la jugada es: 5 y 4 = 9\n",
      "El resultado de la jugada es: 3 y 2 = 5\n",
      "El resultado de la jugada es: 3 y 3 = 6\n",
      "El resultado de la jugada es: 6 y 2 = 8\n",
      "El resultado es:  Ganaste\n"
     ]
    }
   ],
   "source": [
    "valores_logrados = lanzar_dados()\n",
    "mostrar_dados(valores_logrados)\n",
    "suma_dados = sum(valores_logrados)\n",
    "if(suma_dados == 8):\n",
    "    status_jugador = \"Ganaste\"\n",
    "elif suma_dados == 7:\n",
    "    status_jugador = \"Perdiste\"\n",
    "else: \n",
    "    status_jugador = \"Continuar\"\n",
    "    print(\"Sigue Jugando buscando al Gran 8\")\n",
    "\n",
    "while status_jugador == \"Continuar\":\n",
    "    valores_logrados = lanzar_dados()\n",
    "    mostrar_dados(valores_logrados)\n",
    "    suma_dados = sum(valores_logrados)\n",
    "    if(suma_dados == 8):\n",
    "        status_jugador = \"Ganaste\"  \n",
    "    elif suma_dados == 7:\n",
    "        status_jugador = \"Perdiste\"\n",
    "\n",
    "print(\"El resultado es: \",status_jugador)"
   ]
  },
  {
   "cell_type": "markdown",
   "metadata": {},
   "source": [
    "Moneda Alternativa"
   ]
  },
  {
   "cell_type": "markdown",
   "metadata": {},
   "source": [
    "* Se emplean letras en vez de números\n",
    "* Ya no se imprime el resultado como tal sino se usa como una condición. "
   ]
  },
  {
   "cell_type": "code",
   "execution_count": 151,
   "metadata": {},
   "outputs": [
    {
     "name": "stdout",
     "output_type": "stream",
     "text": [
      "S,S,C,C,C,C,S,C,S,S,S,S,C,S,S,S,S,C,S,S,"
     ]
    }
   ],
   "source": [
    "for tirada in range(20):\n",
    "    print(\"C\" if random.randrange(0,2) == 0 else \"S\",end=\",\")"
   ]
  },
  {
   "cell_type": "markdown",
   "metadata": {},
   "source": [
    "# Funciones Sin Parámetro"
   ]
  },
  {
   "cell_type": "code",
   "execution_count": 152,
   "metadata": {},
   "outputs": [
    {
     "data": {
      "text/plain": [
       "3.0"
      ]
     },
     "execution_count": 152,
     "metadata": {},
     "output_type": "execute_result"
    }
   ],
   "source": [
    "#En caso no tengamos parámetro, tendremos un estándar en 1. \n",
    "def raizcuadra(numero=1):\n",
    "    \"\"\"Esta Función obtiene la raíz cuadrada de un número\"\"\"\n",
    "    return numero ** (1/2)\n",
    "raizcuadra(9)"
   ]
  },
  {
   "cell_type": "code",
   "execution_count": 153,
   "metadata": {},
   "outputs": [
    {
     "data": {
      "text/plain": [
       "1.0"
      ]
     },
     "execution_count": 153,
     "metadata": {},
     "output_type": "execute_result"
    }
   ],
   "source": [
    "#El resultado es 1 por defecto. \n",
    "raizcuadra()"
   ]
  },
  {
   "cell_type": "markdown",
   "metadata": {},
   "source": [
    "# Función Multivariable"
   ]
  },
  {
   "cell_type": "code",
   "execution_count": 161,
   "metadata": {},
   "outputs": [],
   "source": [
    "#Esto lo usamos cuando no tengamos idea de cuantos parámetros emplearemos.\n",
    "def promediocalif(*calif):\n",
    "    resultado = sum(calif)/(len(calif))\n",
    "    return resultado"
   ]
  },
  {
   "cell_type": "code",
   "execution_count": 162,
   "metadata": {},
   "outputs": [
    {
     "data": {
      "text/plain": [
       "13.5"
      ]
     },
     "execution_count": 162,
     "metadata": {},
     "output_type": "execute_result"
    }
   ],
   "source": [
    "#Aquí tenemos 4 parámetros pero pueden ser muchos más o menos. \n",
    "promediocalif(10,18,14,12)"
   ]
  },
  {
   "cell_type": "markdown",
   "metadata": {},
   "source": [
    "Ejemplo"
   ]
  },
  {
   "cell_type": "code",
   "execution_count": 163,
   "metadata": {},
   "outputs": [],
   "source": [
    "def multi(*numeros):\n",
    "    #Convención. Ya que es el operador neutro de la multiplicación. \n",
    "    resultado = 1\n",
    "    #Podemos iterar cuando la variable es de tamaño indetermindado *numeros.\n",
    "    for valores in numeros:\n",
    "        resultado *=valores\n",
    "    \n",
    "    return resultado"
   ]
  },
  {
   "cell_type": "code",
   "execution_count": 165,
   "metadata": {},
   "outputs": [
    {
     "data": {
      "text/plain": [
       "360"
      ]
     },
     "execution_count": 165,
     "metadata": {},
     "output_type": "execute_result"
    }
   ],
   "source": [
    "#Vemos que funciona correctamente con parámetro *variable\n",
    "multi(1,2,9,4,5)"
   ]
  },
  {
   "cell_type": "markdown",
   "metadata": {},
   "source": [
    "# Variables Relativas y Globales"
   ]
  },
  {
   "cell_type": "code",
   "execution_count": 1,
   "metadata": {},
   "outputs": [
    {
     "data": {
      "text/plain": [
       "3.14"
      ]
     },
     "execution_count": 1,
     "metadata": {},
     "output_type": "execute_result"
    }
   ],
   "source": [
    "#Variable global\n",
    "aproxpi = 3.1416\n",
    "#Variable relativa\n",
    "def imprimir_pi ():\n",
    "    pi = 3.14\n",
    "    return pi"
   ]
  },
  {
   "cell_type": "code",
   "execution_count": 3,
   "metadata": {},
   "outputs": [
    {
     "data": {
      "text/plain": [
       "12.5664"
      ]
     },
     "execution_count": 3,
     "metadata": {},
     "output_type": "execute_result"
    }
   ],
   "source": [
    "#Ejemplo de uso de variable global en una funcion\n",
    "def area(radio):\n",
    "    return aproxpi*((radio)**2)\n",
    "area(2)"
   ]
  },
  {
   "cell_type": "code",
   "execution_count": 5,
   "metadata": {},
   "outputs": [],
   "source": [
    "#No se puede modificar una variable global en una funcion\n",
    "def modificarpi():\n",
    "    aproxpi = 3\n",
    "    return aproxpi\n"
   ]
  },
  {
   "cell_type": "markdown",
   "metadata": {},
   "source": [
    "Nos arroja el Resultado"
   ]
  },
  {
   "cell_type": "code",
   "execution_count": 6,
   "metadata": {},
   "outputs": [
    {
     "data": {
      "text/plain": [
       "3"
      ]
     },
     "execution_count": 6,
     "metadata": {},
     "output_type": "execute_result"
    }
   ],
   "source": [
    "#Modifica solo una copia. \n",
    "modificarpi()"
   ]
  },
  {
   "cell_type": "markdown",
   "metadata": {},
   "source": [
    "Pero no lo modifica como tal globalmente"
   ]
  },
  {
   "cell_type": "code",
   "execution_count": 7,
   "metadata": {},
   "outputs": [
    {
     "data": {
      "text/plain": [
       "3.1416"
      ]
     },
     "execution_count": 7,
     "metadata": {},
     "output_type": "execute_result"
    }
   ],
   "source": [
    "#No se ve modificada. \n",
    "aproxpi"
   ]
  }
 ],
 "metadata": {
  "interpreter": {
   "hash": "afb734500600fd355917ca529030176ea0ca205570884b88f2f6f7d791fd3fbe"
  },
  "kernelspec": {
   "display_name": "Python 3.10.2 64-bit",
   "language": "python",
   "name": "python3"
  },
  "language_info": {
   "codemirror_mode": {
    "name": "ipython",
    "version": 3
   },
   "file_extension": ".py",
   "mimetype": "text/x-python",
   "name": "python",
   "nbconvert_exporter": "python",
   "pygments_lexer": "ipython3",
   "version": "3.10.2"
  },
  "orig_nbformat": 4
 },
 "nbformat": 4,
 "nbformat_minor": 2
}
