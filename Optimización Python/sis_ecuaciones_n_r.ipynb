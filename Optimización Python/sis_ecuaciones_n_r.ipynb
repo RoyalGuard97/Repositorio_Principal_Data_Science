{
 "cells": [
  {
   "cell_type": "markdown",
   "metadata": {},
   "source": [
    "# Newton Raphson"
   ]
  },
  {
   "cell_type": "code",
   "execution_count": 9,
   "metadata": {},
   "outputs": [
    {
     "name": "stdout",
     "output_type": "stream",
     "text": [
      "0 [0.921875 0.578125] 0.42904781930456193\n",
      "1 [0.91856462 0.42419764] 0.15396295748966032\n",
      "2 [0.91855865 0.39627005] 0.027927588737214515\n",
      "3 [0.91855865 0.39528593] 0.0009841144731082554\n",
      "4 [0.91855865 0.39528471] 1.2250389103685144e-06\n",
      "5 [0.91855865 0.39528471] 1.8982038195996022e-12\n",
      "0 [-0.921875  0.578125] 0.42904781930456193\n",
      "1 [-0.91856462  0.42419764] 0.15396295748966032\n",
      "2 [-0.91855865  0.39627005] 0.027927588737214515\n",
      "3 [-0.91855865  0.39528593] 0.0009841144731082554\n",
      "4 [-0.91855865  0.39528471] 1.2250389103685144e-06\n",
      "5 [-0.91855865  0.39528471] 1.8982038195996022e-12\n",
      "0 [ 0.921875 -0.578125] 0.4290478193045618\n",
      "1 [ 0.91856462 -0.42419764] 0.15396295748966032\n",
      "2 [ 0.91855865 -0.39627005] 0.02792758873721457\n",
      "3 [ 0.91855865 -0.39528593] 0.0009841144731084774\n",
      "4 [ 0.91855865 -0.39528471] 1.2250389102574921e-06\n",
      "5 [ 0.91855865 -0.39528471] 1.8982038163528614e-12\n"
     ]
    },
    {
     "data": {
      "text/plain": [
       "array([-0.00017471, -0.00031573])"
      ]
     },
     "execution_count": 9,
     "metadata": {},
     "output_type": "execute_result"
    }
   ],
   "source": [
    "import numpy as np\n",
    "\n",
    "def F(x):\n",
    "    #Función igualada a 0\n",
    "    f1 = x[0]**2 + x[1]**2-1\n",
    "    f2 = 4*x[0]**2/9 + 4*x[1]**2-1\n",
    "    return np.array([f1,f2])\n",
    "\n",
    "def dF(x):\n",
    "    return np.array([[2*x[0],2*x[1]],[8*x[0]/9,8*x[1]]])\n",
    "\n",
    "N = 100\n",
    "x = np.array([1,1])\n",
    "\n",
    "for k in range(N):\n",
    "    x_old = x\n",
    "    jinv = np.linalg.inv(dF(x))\n",
    "    x = x - np.dot(jinv,F(x))\n",
    "    e = np.linalg.norm(x-x_old)\n",
    "    print(k,x,e)\n",
    "    if(e<1e-10):\n",
    "        break\n",
    "\n",
    "x = np.array([-1,1])\n",
    "\n",
    "for k in range(N):\n",
    "    x_old = x\n",
    "    jinv = np.linalg.inv(dF(x))\n",
    "    x = x - np.dot(jinv,F(x))\n",
    "    e = np.linalg.norm(x-x_old)\n",
    "    print(k,x,e)\n",
    "    if(e<1e-10):\n",
    "        break\n",
    "#Forma alternativa\n",
    "#Sin Jacoviana Inversa.\n",
    "x = np.array([1,-1])\n",
    "\n",
    "for k in range(N):\n",
    "    x_old = x\n",
    "    x = np.linalg.solve(dF(x),dF(x)@x - F(x))\n",
    "    e = np.linalg.norm(x-x_old)\n",
    "    print(k,x,e)\n",
    "    if(e<1e-10):\n",
    "        break\n",
    "\n",
    "#Comprobación\n",
    "F([-0.9185,0.3952])"
   ]
  },
  {
   "cell_type": "code",
   "execution_count": null,
   "metadata": {},
   "outputs": [],
   "source": []
  }
 ],
 "metadata": {
  "kernelspec": {
   "display_name": "Python 3.10.2 64-bit",
   "language": "python",
   "name": "python3"
  },
  "language_info": {
   "codemirror_mode": {
    "name": "ipython",
    "version": 3
   },
   "file_extension": ".py",
   "mimetype": "text/x-python",
   "name": "python",
   "nbconvert_exporter": "python",
   "pygments_lexer": "ipython3",
   "version": "3.10.2"
  },
  "orig_nbformat": 4,
  "vscode": {
   "interpreter": {
    "hash": "afb734500600fd355917ca529030176ea0ca205570884b88f2f6f7d791fd3fbe"
   }
  }
 },
 "nbformat": 4,
 "nbformat_minor": 2
}
