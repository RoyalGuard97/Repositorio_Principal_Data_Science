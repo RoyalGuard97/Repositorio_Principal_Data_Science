{
 "cells": [
  {
   "cell_type": "markdown",
   "metadata": {},
   "source": [
    "# ¿Como extraer la información de un CSV para colocarla en un Diccionario?"
   ]
  },
  {
   "cell_type": "markdown",
   "metadata": {},
   "source": [
    "* ¡Saludos! en este primer tutorial te enseñare a como extraer la información de un archivo csv de forma que puedas operar con los datos en python de forma 100% funcional.\n"
   ]
  },
  {
   "cell_type": "markdown",
   "metadata": {},
   "source": [
    "# Primer Paso: Analizar el CSV (contexto)  \n",
    "* En este punto debemos reconocer si existen datos faltantes, datos que necesitan limpieza o por defecto posean un formato no admitible en python según su tipo.\n",
    "* Algo que nos podría ayudar mejor es invocar una primera línea de nuestro archivo \"csv\" para visualizarlo."
   ]
  },
  {
   "cell_type": "code",
   "execution_count": 44,
   "metadata": {},
   "outputs": [],
   "source": [
    "#Primero debemos abrir el archivo (videojuegos.csv) y asignarlo a una variable \"archivo\"\n",
    "archivo = open(\"videojuegos.csv\")"
   ]
  },
  {
   "cell_type": "markdown",
   "metadata": {},
   "source": [
    "Procedemos con el Análisis de las líneas, (Revise el CSV)"
   ]
  },
  {
   "cell_type": "markdown",
   "metadata": {},
   "source": [
    "<b>Ejecute la Celda Anterior</b> \n",
    "* ¡Por fin vemos los Datos¡ Las preguntas que deberíamos hacernos ahora son las siguientes:\n",
    "    * Como están separados?\n",
    "    * Están correctos los formatos? para cada supuesto tipo de dato?\n",
    "    * Existen Datos Faltantes?\n"
   ]
  },
  {
   "cell_type": "markdown",
   "metadata": {},
   "source": [
    "<b>Respondamos las Preguntas Planteadas</b> \n",
    "* Los datos se encuentran separados por el caracter \";\"\n",
    "* Los datos en cadena parecen tener un formato adecuado, sin embargo el Año de lanzamiento y Puntaje Usuario parece ostentar uno que nos impedirá trabajar.\n",
    "    * Por ejemplo en el año, cada millar se denota con un \".\" lo cual python no reconocería en primera instacia, por lo que convertirlo a un entero sería imposible\n",
    "    * Por su parte el Puntaje de Usuario presenta un problema con el decimal, ya que python trabaja este apartado con \".\" y no con \",\"\n",
    "* Observamos que sí existe un dato faltante, en este caso tuvimos la suerte de verlo en las primeras líneas pero esto puede suceder en cualquier parte. Lo que podría decirnos que quizás no es el único."
   ]
  },
  {
   "cell_type": "markdown",
   "metadata": {},
   "source": [
    "# Segundo Paso: La Creación de nuestro Diccionario"
   ]
  },
  {
   "cell_type": "markdown",
   "metadata": {},
   "source": [
    "Antes de comenzar netamente debemos tener de ante mano nuestro diccionario, el cual será rellenado con la información correspondiente. "
   ]
  },
  {
   "cell_type": "code",
   "execution_count": 45,
   "metadata": {},
   "outputs": [],
   "source": [
    "#Para esto aplicaremos un metodo muy útil el cual es el siguiente\n",
    "diccionario = dict(nombre = [], plataforma = [], anio_lanza = [], p_meta = [], p_usuario = [])"
   ]
  },
  {
   "cell_type": "markdown",
   "metadata": {},
   "source": [
    "Nótese que la cantidad de llaves es igual a la cantidad de variables (columnas) del tan nombrado \"videojuegos.csv\" \n",
    "* Un gran consejo es darle a las llaves un nombre mucho más simple que su contraparte original de modo que se respete las buenas practicas de la programación, pero claro, sin perder el sentido. "
   ]
  },
  {
   "cell_type": "markdown",
   "metadata": {},
   "source": [
    "# Tercer Paso: Trabajamos con Nuestro Archivo"
   ]
  },
  {
   "cell_type": "code",
   "execution_count": 46,
   "metadata": {},
   "outputs": [],
   "source": [
    "#Dejermos el archivo_copia y manipulemos nuestro archivo principal\n",
    "\n",
    "next(archivo) #Lo Primero es saltar una línea de nuestro archivo, esto para no extraer información de la primera linea.\n",
    "for linea in archivo: #A partir de esto procedemos a iterar sobre el archivo\n",
    "    linea = linea.strip() #Eliminamos los posibles caracteres que puedan sobrar a la izquierda o derecha de cada linea\n",
    "    lista = linea.split(\";\") #Recuerdas como estaban separados nuestros datos? con \";\". De esta manera tenemos una lista con cada dato individual. \n",
    "    for indice,llave in enumerate(diccionario): #Para cada indice y elemento del diccionario...\n",
    "        diccionario[llave].append(lista[indice]) #Quizás la parte más complicada que entender. Así que pondré un ejemplo de la primera iteración diccionario[\"nombre\"] = lista[0]\n",
    " "
   ]
  },
  {
   "cell_type": "markdown",
   "metadata": {},
   "source": [
    "* Lo que debemos entender es que esto se llevará a cabo en cada línea, lo cual hará que nuestro diccionario se rellene correctamente"
   ]
  },
  {
   "cell_type": "markdown",
   "metadata": {},
   "source": [
    "# Cuarto Paso: Verificar el Resultado"
   ]
  },
  {
   "cell_type": "code",
   "execution_count": 47,
   "metadata": {},
   "outputs": [
    {
     "data": {
      "text/plain": [
       "{'nombre': ['The Legend of Zelda: Ocarina of Time',\n",
       "  \"Tony Hawk's Pro Skater 2\",\n",
       "  'Grand Theft Auto IV',\n",
       "  'SoulCalibur',\n",
       "  'Grand Theft Auto IV',\n",
       "  'Super Mario Galaxy',\n",
       "  'Super Mario Galaxy 2'],\n",
       " 'plataforma': ['Nintendo64',\n",
       "  'PlayStation',\n",
       "  'PlayStation3',\n",
       "  'Dreamcast',\n",
       "  'Xbox360',\n",
       "  'Wii',\n",
       "  'Wii'],\n",
       " 'anio_lanza': ['1.998', '2.000', '2.008', '1.999', '2.008', '2.007', '2.010'],\n",
       " 'p_meta': ['99', '98', '98', '98', '98', '97', '97'],\n",
       " 'p_usuario': ['9,1', '7,4', '', '8,5', '7,9', '9,0', '9,1']}"
      ]
     },
     "execution_count": 47,
     "metadata": {},
     "output_type": "execute_result"
    }
   ],
   "source": [
    "#Ejecutar para la Revisión.\n",
    "diccionario"
   ]
  },
  {
   "cell_type": "markdown",
   "metadata": {},
   "source": [
    "* Como podemos percatarnos cada dato se ha guardado correctamente en el diccionario\n",
    "* ATENCIÓN para visualizar gran cantidad de datos este método es insatisfactorio, se ceberá usar pandas o alguna herramienta similar. "
   ]
  },
  {
   "cell_type": "markdown",
   "metadata": {},
   "source": [
    "# Quinto Paso: \"El Casteo de Datos\""
   ]
  },
  {
   "cell_type": "markdown",
   "metadata": {},
   "source": [
    "* Casi terminamos, sin embargo como dijimos líneas arriba, año y puntuaje de usuario están comprometidos.\n",
    "* No debemos olvidar´tambien a Puntaje de Metacritic, el cual a pesar de estar correcto es un string. Eso nos impedirá a por ejemplo obtener un promedio aritmético. "
   ]
  },
  {
   "cell_type": "code",
   "execution_count": 48,
   "metadata": {},
   "outputs": [],
   "source": [
    "#Para esto simplemente debemos analizar que apartado queremos modificar. Empezaremos con Año de lanzamiento.\n",
    "for i,e in enumerate(diccionario[\"anio_lanza\"]):\n",
    "    e = int(e.replace(\".\",\"\")) #Eliminamos el punto de cada elemento y lo convertimos, (casteamos) a un entero. \n",
    "    diccionario[\"anio_lanza\"][i] = e #Aquí hacemo efectivo el cambio\n"
   ]
  },
  {
   "cell_type": "markdown",
   "metadata": {},
   "source": [
    "* Consejo: La mejor forma de comprobar si todos elemento son enteros es someter a todo ese apartado a la funcion suma\n",
    "* De esta forma si alguien elemento tiene un problema será fácil obtener respuesta tras un error. \n",
    "* Claro que también puede revisar su diccionario de tener una cantidad moderada de elementos. "
   ]
  },
  {
   "cell_type": "code",
   "execution_count": 49,
   "metadata": {},
   "outputs": [
    {
     "data": {
      "text/plain": [
       "[1998, 2000, 2008, 1999, 2008, 2007, 2010]"
      ]
     },
     "execution_count": 49,
     "metadata": {},
     "output_type": "execute_result"
    }
   ],
   "source": [
    "#Prueba 1\n",
    "diccionario[\"anio_lanza\"]"
   ]
  },
  {
   "cell_type": "code",
   "execution_count": 50,
   "metadata": {},
   "outputs": [
    {
     "data": {
      "text/plain": [
       "14030"
      ]
     },
     "execution_count": 50,
     "metadata": {},
     "output_type": "execute_result"
    }
   ],
   "source": [
    "#Prueba 2\n",
    "sum(diccionario[\"anio_lanza\"])"
   ]
  },
  {
   "cell_type": "markdown",
   "metadata": {},
   "source": [
    "* Procedemos de forma Similar a castear los elementos de p_meta\n"
   ]
  },
  {
   "cell_type": "code",
   "execution_count": 51,
   "metadata": {},
   "outputs": [],
   "source": [
    "for i,e in enumerate(diccionario[\"p_meta\"]):\n",
    "    diccionario[\"p_meta\"][i] = int(e)"
   ]
  },
  {
   "cell_type": "code",
   "execution_count": 52,
   "metadata": {},
   "outputs": [
    {
     "data": {
      "text/plain": [
       "[99, 98, 98, 98, 98, 97, 97]"
      ]
     },
     "execution_count": 52,
     "metadata": {},
     "output_type": "execute_result"
    }
   ],
   "source": [
    "#Comprobamos\n",
    "diccionario[\"p_meta\"]"
   ]
  },
  {
   "cell_type": "markdown",
   "metadata": {},
   "source": [
    "* Procedemos ahora a manejar el caso de datos faltantes visto en p_usuario y luego a castear todo ese apartado a un float"
   ]
  },
  {
   "cell_type": "code",
   "execution_count": 53,
   "metadata": {},
   "outputs": [],
   "source": [
    "for i,e in enumerate(diccionario[\"p_usuario\"]):\n",
    "    #Tenemos dos casos, cuando el elemento es \"\" o no, entonces:\n",
    "    if(e == \"\"):\n",
    "        e = None #Convertimos este elemento a nulo\n",
    "    else:\n",
    "        e = float(e.replace(\",\",\".\"))#Procedemos como si fuese normal, esta vez reemplazando la coma decimal por punto decimal. Y lo hacemo flotante.\n",
    "\n",
    "    diccionario[\"p_usuario\"][i] = e"
   ]
  },
  {
   "cell_type": "code",
   "execution_count": 54,
   "metadata": {},
   "outputs": [
    {
     "data": {
      "text/plain": [
       "[9.1, 7.4, None, 8.5, 7.9, 9.0, 9.1]"
      ]
     },
     "execution_count": 54,
     "metadata": {},
     "output_type": "execute_result"
    }
   ],
   "source": [
    "#Comprobamos\n",
    "diccionario[\"p_usuario\"]"
   ]
  },
  {
   "cell_type": "markdown",
   "metadata": {},
   "source": [
    "# Llegamos al Final de este Ejercicio. \n",
    "* Añado una comprobación Visual mucho más satisfactoria"
   ]
  },
  {
   "cell_type": "code",
   "execution_count": 55,
   "metadata": {},
   "outputs": [
    {
     "data": {
      "text/html": [
       "<div>\n",
       "<style scoped>\n",
       "    .dataframe tbody tr th:only-of-type {\n",
       "        vertical-align: middle;\n",
       "    }\n",
       "\n",
       "    .dataframe tbody tr th {\n",
       "        vertical-align: top;\n",
       "    }\n",
       "\n",
       "    .dataframe thead th {\n",
       "        text-align: right;\n",
       "    }\n",
       "</style>\n",
       "<table border=\"1\" class=\"dataframe\">\n",
       "  <thead>\n",
       "    <tr style=\"text-align: right;\">\n",
       "      <th></th>\n",
       "      <th>nombre</th>\n",
       "      <th>plataforma</th>\n",
       "      <th>anio_lanza</th>\n",
       "      <th>p_meta</th>\n",
       "      <th>p_usuario</th>\n",
       "    </tr>\n",
       "  </thead>\n",
       "  <tbody>\n",
       "    <tr>\n",
       "      <th>0</th>\n",
       "      <td>The Legend of Zelda: Ocarina of Time</td>\n",
       "      <td>Nintendo64</td>\n",
       "      <td>1998</td>\n",
       "      <td>99</td>\n",
       "      <td>9.1</td>\n",
       "    </tr>\n",
       "    <tr>\n",
       "      <th>1</th>\n",
       "      <td>Tony Hawk's Pro Skater 2</td>\n",
       "      <td>PlayStation</td>\n",
       "      <td>2000</td>\n",
       "      <td>98</td>\n",
       "      <td>7.4</td>\n",
       "    </tr>\n",
       "    <tr>\n",
       "      <th>2</th>\n",
       "      <td>Grand Theft Auto IV</td>\n",
       "      <td>PlayStation3</td>\n",
       "      <td>2008</td>\n",
       "      <td>98</td>\n",
       "      <td>NaN</td>\n",
       "    </tr>\n",
       "    <tr>\n",
       "      <th>3</th>\n",
       "      <td>SoulCalibur</td>\n",
       "      <td>Dreamcast</td>\n",
       "      <td>1999</td>\n",
       "      <td>98</td>\n",
       "      <td>8.5</td>\n",
       "    </tr>\n",
       "    <tr>\n",
       "      <th>4</th>\n",
       "      <td>Grand Theft Auto IV</td>\n",
       "      <td>Xbox360</td>\n",
       "      <td>2008</td>\n",
       "      <td>98</td>\n",
       "      <td>7.9</td>\n",
       "    </tr>\n",
       "    <tr>\n",
       "      <th>5</th>\n",
       "      <td>Super Mario Galaxy</td>\n",
       "      <td>Wii</td>\n",
       "      <td>2007</td>\n",
       "      <td>97</td>\n",
       "      <td>9.0</td>\n",
       "    </tr>\n",
       "    <tr>\n",
       "      <th>6</th>\n",
       "      <td>Super Mario Galaxy 2</td>\n",
       "      <td>Wii</td>\n",
       "      <td>2010</td>\n",
       "      <td>97</td>\n",
       "      <td>9.1</td>\n",
       "    </tr>\n",
       "  </tbody>\n",
       "</table>\n",
       "</div>"
      ],
      "text/plain": [
       "                                 nombre    plataforma  anio_lanza  p_meta  \\\n",
       "0  The Legend of Zelda: Ocarina of Time    Nintendo64        1998      99   \n",
       "1              Tony Hawk's Pro Skater 2   PlayStation        2000      98   \n",
       "2                   Grand Theft Auto IV  PlayStation3        2008      98   \n",
       "3                           SoulCalibur     Dreamcast        1999      98   \n",
       "4                   Grand Theft Auto IV       Xbox360        2008      98   \n",
       "5                    Super Mario Galaxy           Wii        2007      97   \n",
       "6                  Super Mario Galaxy 2           Wii        2010      97   \n",
       "\n",
       "   p_usuario  \n",
       "0        9.1  \n",
       "1        7.4  \n",
       "2        NaN  \n",
       "3        8.5  \n",
       "4        7.9  \n",
       "5        9.0  \n",
       "6        9.1  "
      ]
     },
     "execution_count": 55,
     "metadata": {},
     "output_type": "execute_result"
    }
   ],
   "source": [
    "import pandas as pd\n",
    "df = pd.DataFrame(diccionario)\n",
    "df"
   ]
  },
  {
   "cell_type": "markdown",
   "metadata": {},
   "source": [
    "* Comprobando que el tipo de dato es el adecuado para cada variable"
   ]
  },
  {
   "cell_type": "code",
   "execution_count": 57,
   "metadata": {},
   "outputs": [
    {
     "data": {
      "text/plain": [
       "nombre         object\n",
       "plataforma     object\n",
       "anio_lanza      int64\n",
       "p_meta          int64\n",
       "p_usuario     float64\n",
       "dtype: object"
      ]
     },
     "execution_count": 57,
     "metadata": {},
     "output_type": "execute_result"
    }
   ],
   "source": [
    "df.dtypes"
   ]
  }
 ],
 "metadata": {
  "interpreter": {
   "hash": "afb734500600fd355917ca529030176ea0ca205570884b88f2f6f7d791fd3fbe"
  },
  "kernelspec": {
   "display_name": "Python 3.10.2 64-bit",
   "language": "python",
   "name": "python3"
  },
  "language_info": {
   "codemirror_mode": {
    "name": "ipython",
    "version": 3
   },
   "file_extension": ".py",
   "mimetype": "text/x-python",
   "name": "python",
   "nbconvert_exporter": "python",
   "pygments_lexer": "ipython3",
   "version": "3.10.2"
  },
  "orig_nbformat": 4
 },
 "nbformat": 4,
 "nbformat_minor": 2
}
