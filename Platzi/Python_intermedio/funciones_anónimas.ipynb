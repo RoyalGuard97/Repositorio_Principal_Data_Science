{
 "cells": [
  {
   "cell_type": "markdown",
   "metadata": {},
   "source": [
    "# Funciones Anónimas - Lambda"
   ]
  },
  {
   "cell_type": "code",
   "execution_count": 5,
   "metadata": {},
   "outputs": [
    {
     "data": {
      "text/plain": [
       "True"
      ]
     },
     "execution_count": 5,
     "metadata": {},
     "output_type": "execute_result"
    }
   ],
   "source": [
    "#Es como guardar una variable lo que hace una función\n",
    "palindromo = lambda cadena:cadena == cadena[::-1]\n",
    "palindromo(\"ana\")"
   ]
  },
  {
   "cell_type": "markdown",
   "metadata": {},
   "source": [
    "# Funciones de Orden Superior"
   ]
  },
  {
   "cell_type": "markdown",
   "metadata": {},
   "source": [
    "# Filter → Filtra Datos mediante una condicion"
   ]
  },
  {
   "cell_type": "code",
   "execution_count": 6,
   "metadata": {},
   "outputs": [
    {
     "data": {
      "text/plain": [
       "[1, 5, 9, 13, 19, 21]"
      ]
     },
     "execution_count": 6,
     "metadata": {},
     "output_type": "execute_result"
    }
   ],
   "source": [
    "#Función que recibe como otro parámetro a otra función\n",
    "#Filter\n",
    "lista = [1,4,5,6,9,13,19,21]\n",
    "\n",
    "#lambda → un elemento se devuelve cuando ese elemento no es divisible por 2\n",
    "odd = list(filter(lambda x: x%2 != 0,lista))\n",
    "odd"
   ]
  },
  {
   "cell_type": "markdown",
   "metadata": {},
   "source": [
    " Map → Cambia los elementos con una nueva regla designada\n",
    " * Entrada igual que Salida en cantidad"
   ]
  },
  {
   "cell_type": "code",
   "execution_count": 9,
   "metadata": {},
   "outputs": [
    {
     "data": {
      "text/plain": [
       "[1, 4, 9, 16, 25]"
      ]
     },
     "execution_count": 9,
     "metadata": {},
     "output_type": "execute_result"
    }
   ],
   "source": [
    "#Map\n",
    "lista = [1,2,3,4,5]\n",
    "squares = list(map(lambda x: x**2, lista))\n",
    "squares"
   ]
  },
  {
   "cell_type": "markdown",
   "metadata": {},
   "source": [
    "Reduce → Operar con todos los elementos"
   ]
  },
  {
   "cell_type": "code",
   "execution_count": 12,
   "metadata": {},
   "outputs": [
    {
     "data": {
      "text/plain": [
       "32"
      ]
     },
     "execution_count": 12,
     "metadata": {},
     "output_type": "execute_result"
    }
   ],
   "source": [
    "from functools import reduce\n",
    "lista = [2,2,2,2,2]\n",
    "all_mutiplied = reduce(lambda a,b: a*b,lista)\n",
    "\n",
    "all_mutiplied"
   ]
  },
  {
   "cell_type": "markdown",
   "metadata": {},
   "source": [
    "# Proyecto"
   ]
  },
  {
   "cell_type": "code",
   "execution_count": 13,
   "metadata": {},
   "outputs": [],
   "source": [
    "data = [\n",
    "    {\n",
    "        'name': 'Facundo',\n",
    "        'age': 72,\n",
    "        'organization': 'Platzi',\n",
    "        'position': 'Technical Coach',\n",
    "        'language': 'python',\n",
    "    },\n",
    "    {\n",
    "        'name': 'Luisana',\n",
    "        'age': 33,\n",
    "        'organization': 'Globant',\n",
    "        'position': 'UX Designer',\n",
    "        'language': 'javascript',\n",
    "    },\n",
    "    {\n",
    "        'name': 'Héctor',\n",
    "        'age': 19,\n",
    "        'organization': 'Platzi',\n",
    "        'position': 'Associate',\n",
    "        'language': 'ruby',\n",
    "    },\n",
    "    {\n",
    "        'name': 'Gabriel',\n",
    "        'age': 20,\n",
    "        'organization': 'Platzi',\n",
    "        'position': 'Associate',\n",
    "        'language': 'javascript',\n",
    "    },\n",
    "    {\n",
    "        'name': 'Isabella',\n",
    "        'age': 30,\n",
    "        'organization': 'Platzi',\n",
    "        'position': 'QA Manager',\n",
    "        'language': 'java',\n",
    "    },\n",
    "    {\n",
    "        'name': 'Karo',\n",
    "        'age': 23,\n",
    "        'organization': 'Everis',\n",
    "        'position': 'Backend Developer',\n",
    "        'language': 'python',\n",
    "    },\n",
    "    {\n",
    "        'name': 'Ariel',\n",
    "        'age': 32,\n",
    "        'organization': 'Rappi',\n",
    "        'position': 'Support',\n",
    "        'language': '',\n",
    "    },\n",
    "    {\n",
    "        'name': 'Juan',\n",
    "        'age': 17,\n",
    "        'organization': '',\n",
    "        'position': 'Student',\n",
    "        'language': 'go',\n",
    "    },\n",
    "    {\n",
    "        'name': 'Pablo',\n",
    "        'age': 32,\n",
    "        'organization': 'Master',\n",
    "        'position': 'Human Resources Manager',\n",
    "        'language': 'python',\n",
    "    },\n",
    "    {\n",
    "        'name': 'Lorena',\n",
    "        'age': 56,\n",
    "        'organization': 'Python Organization',\n",
    "        'position': 'Language Maker',\n",
    "        'language': 'python',\n",
    "    },\n",
    "]"
   ]
  },
  {
   "cell_type": "code",
   "execution_count": 16,
   "metadata": {},
   "outputs": [
    {
     "data": {
      "text/plain": [
       "['Facundo', 'Karo', 'Pablo', 'Lorena']"
      ]
     },
     "execution_count": 16,
     "metadata": {},
     "output_type": "execute_result"
    }
   ],
   "source": [
    "all_python_devs = [worker[\"name\"] for worker in data if worker[\"language\"] == \"python\"]\n",
    "all_python_devs"
   ]
  },
  {
   "cell_type": "code",
   "execution_count": 19,
   "metadata": {},
   "outputs": [],
   "source": [
    "all_platzi_workeres = [worker[\"name\"] for worker in data if worker[\"organization\"] == \"Platzi\"]"
   ]
  },
  {
   "cell_type": "code",
   "execution_count": 20,
   "metadata": {},
   "outputs": [
    {
     "data": {
      "text/plain": [
       "['Facundo', 'Héctor', 'Gabriel', 'Isabella']"
      ]
     },
     "execution_count": 20,
     "metadata": {},
     "output_type": "execute_result"
    }
   ],
   "source": [
    "all_platzi_workeres"
   ]
  },
  {
   "cell_type": "code",
   "execution_count": 28,
   "metadata": {},
   "outputs": [],
   "source": [
    "#Lambda → Lo que recibe y después lo que se hace. \n",
    "adultos_18 = list(filter(lambda worker: worker[\"age\"]>=18,data))\n",
    "adultos_18 = list(map(lambda worker: worker[\"name\"],adultos_18))"
   ]
  },
  {
   "cell_type": "code",
   "execution_count": 32,
   "metadata": {},
   "outputs": [],
   "source": [
    "#Sumar diccionarios, donde se le agregara el aparartado \"old\"\n",
    "#Recuerda, se está ITERANDO\n",
    "old_people = list(map(lambda worker: worker | {\"old\":worker[\"age\"] > 70}, data ))"
   ]
  },
  {
   "cell_type": "code",
   "execution_count": 33,
   "metadata": {},
   "outputs": [
    {
     "data": {
      "text/plain": [
       "[{'name': 'Facundo',\n",
       "  'age': 72,\n",
       "  'organization': 'Platzi',\n",
       "  'position': 'Technical Coach',\n",
       "  'language': 'python',\n",
       "  'old': True},\n",
       " {'name': 'Luisana',\n",
       "  'age': 33,\n",
       "  'organization': 'Globant',\n",
       "  'position': 'UX Designer',\n",
       "  'language': 'javascript',\n",
       "  'old': False},\n",
       " {'name': 'Héctor',\n",
       "  'age': 19,\n",
       "  'organization': 'Platzi',\n",
       "  'position': 'Associate',\n",
       "  'language': 'ruby',\n",
       "  'old': False},\n",
       " {'name': 'Gabriel',\n",
       "  'age': 20,\n",
       "  'organization': 'Platzi',\n",
       "  'position': 'Associate',\n",
       "  'language': 'javascript',\n",
       "  'old': False},\n",
       " {'name': 'Isabella',\n",
       "  'age': 30,\n",
       "  'organization': 'Platzi',\n",
       "  'position': 'QA Manager',\n",
       "  'language': 'java',\n",
       "  'old': False},\n",
       " {'name': 'Karo',\n",
       "  'age': 23,\n",
       "  'organization': 'Everis',\n",
       "  'position': 'Backend Developer',\n",
       "  'language': 'python',\n",
       "  'old': False},\n",
       " {'name': 'Ariel',\n",
       "  'age': 32,\n",
       "  'organization': 'Rappi',\n",
       "  'position': 'Support',\n",
       "  'language': '',\n",
       "  'old': False},\n",
       " {'name': 'Juan',\n",
       "  'age': 17,\n",
       "  'organization': '',\n",
       "  'position': 'Student',\n",
       "  'language': 'go',\n",
       "  'old': False},\n",
       " {'name': 'Pablo',\n",
       "  'age': 32,\n",
       "  'organization': 'Master',\n",
       "  'position': 'Human Resources Manager',\n",
       "  'language': 'python',\n",
       "  'old': False},\n",
       " {'name': 'Lorena',\n",
       "  'age': 56,\n",
       "  'organization': 'Python Organization',\n",
       "  'position': 'Language Maker',\n",
       "  'language': 'python',\n",
       "  'old': False}]"
      ]
     },
     "execution_count": 33,
     "metadata": {},
     "output_type": "execute_result"
    }
   ],
   "source": [
    "old_people"
   ]
  },
  {
   "cell_type": "markdown",
   "metadata": {},
   "source": []
  }
 ],
 "metadata": {
  "kernelspec": {
   "display_name": "Python 3.10.2 64-bit",
   "language": "python",
   "name": "python3"
  },
  "language_info": {
   "codemirror_mode": {
    "name": "ipython",
    "version": 3
   },
   "file_extension": ".py",
   "mimetype": "text/x-python",
   "name": "python",
   "nbconvert_exporter": "python",
   "pygments_lexer": "ipython3",
   "version": "3.10.2"
  },
  "orig_nbformat": 4,
  "vscode": {
   "interpreter": {
    "hash": "afb734500600fd355917ca529030176ea0ca205570884b88f2f6f7d791fd3fbe"
   }
  }
 },
 "nbformat": 4,
 "nbformat_minor": 2
}
