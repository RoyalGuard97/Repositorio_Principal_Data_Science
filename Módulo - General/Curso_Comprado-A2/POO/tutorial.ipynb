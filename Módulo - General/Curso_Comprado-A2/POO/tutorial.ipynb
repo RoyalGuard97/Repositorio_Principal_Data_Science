{
 "cells": [
  {
   "cell_type": "markdown",
   "metadata": {},
   "source": [
    "# Introducción a POO"
   ]
  },
  {
   "cell_type": "markdown",
   "metadata": {},
   "source": [
    "* Evita repeticiones\n",
    "* Combinamos las funciones y las variables en un \"objeto\"\n",
    "* Tenemos que cambiar de paradigmas de programación\n",
    "* Propiedades son las variables. Mientras que las funciones las métodos."
   ]
  },
  {
   "cell_type": "markdown",
   "metadata": {},
   "source": [
    "METODOS Y CLASES"
   ]
  },
  {
   "cell_type": "code",
   "execution_count": 1,
   "metadata": {},
   "outputs": [],
   "source": [
    "#Generar una Clase Simple\n",
    "class Mascota: \n",
    "    #Atributos\n",
    "    tipo = \"pequeño\"\n",
    "    raza = \"chihuaha\"\n",
    "    tarea = \"guardian\"\n"
   ]
  },
  {
   "cell_type": "code",
   "execution_count": 2,
   "metadata": {},
   "outputs": [],
   "source": [
    "#Instanciamos un objeto\n",
    "perro = Mascota()"
   ]
  },
  {
   "cell_type": "code",
   "execution_count": 4,
   "metadata": {},
   "outputs": [
    {
     "data": {
      "text/plain": [
       "'chihuaha'"
      ]
     },
     "execution_count": 4,
     "metadata": {},
     "output_type": "execute_result"
    }
   ],
   "source": [
    "#Llamamos atributos\n",
    "perro.raza"
   ]
  },
  {
   "cell_type": "code",
   "execution_count": 6,
   "metadata": {},
   "outputs": [
    {
     "data": {
      "text/plain": [
       "'guardian'"
      ]
     },
     "execution_count": 6,
     "metadata": {},
     "output_type": "execute_result"
    }
   ],
   "source": [
    "perro.tarea"
   ]
  },
  {
   "cell_type": "code",
   "execution_count": 7,
   "metadata": {},
   "outputs": [],
   "source": [
    "#Seteamos un nuevo atributo. \n",
    "setattr(perro,\"tarea\",\"amigo\")"
   ]
  },
  {
   "cell_type": "code",
   "execution_count": 8,
   "metadata": {},
   "outputs": [
    {
     "data": {
      "text/plain": [
       "'amigo'"
      ]
     },
     "execution_count": 8,
     "metadata": {},
     "output_type": "execute_result"
    }
   ],
   "source": [
    "perro.tarea"
   ]
  },
  {
   "cell_type": "code",
   "execution_count": 9,
   "metadata": {},
   "outputs": [],
   "source": [
    "#Eliminar atributo\n",
    "delattr(perro,\"tarea\")"
   ]
  },
  {
   "cell_type": "code",
   "execution_count": 11,
   "metadata": {},
   "outputs": [
    {
     "data": {
      "text/plain": [
       "'guardian'"
      ]
     },
     "execution_count": 11,
     "metadata": {},
     "output_type": "execute_result"
    }
   ],
   "source": [
    "#Comprobando - Como se inicializa en guardian pues se queda. \n",
    "perro.tarea"
   ]
  },
  {
   "cell_type": "markdown",
   "metadata": {},
   "source": [
    "* Nueva Clase:"
   ]
  },
  {
   "cell_type": "code",
   "execution_count": 13,
   "metadata": {},
   "outputs": [],
   "source": [
    "class Registro:\n",
    "    pass"
   ]
  },
  {
   "cell_type": "code",
   "execution_count": 14,
   "metadata": {},
   "outputs": [],
   "source": [
    "eva = Registro()"
   ]
  },
  {
   "cell_type": "code",
   "execution_count": 15,
   "metadata": {},
   "outputs": [],
   "source": [
    "eva.edad = 30\n",
    "eva.experiencia = 6\n",
    "eva.edo_civ = \"soltera\""
   ]
  },
  {
   "cell_type": "code",
   "execution_count": 16,
   "metadata": {},
   "outputs": [
    {
     "data": {
      "text/plain": [
       "30"
      ]
     },
     "execution_count": 16,
     "metadata": {},
     "output_type": "execute_result"
    }
   ],
   "source": [
    "eva.edad"
   ]
  },
  {
   "cell_type": "code",
   "execution_count": 17,
   "metadata": {},
   "outputs": [
    {
     "data": {
      "text/plain": [
       "'soltera'"
      ]
     },
     "execution_count": 17,
     "metadata": {},
     "output_type": "execute_result"
    }
   ],
   "source": [
    "eva.edo_civ"
   ]
  },
  {
   "cell_type": "code",
   "execution_count": 18,
   "metadata": {},
   "outputs": [],
   "source": [
    "#Creo más objetos\n",
    "laura = Registro()\n",
    "luis = Registro()\n",
    "\n",
    "laura.edad = 32\n",
    "laura.experiencia = 5\n",
    "laura.edo_civ = \"casada\"\n",
    "luis.edad = 28\n",
    "luis.experiencia = 1\n",
    "luis.edo_civ = \"soltero\""
   ]
  },
  {
   "cell_type": "code",
   "execution_count": 19,
   "metadata": {},
   "outputs": [
    {
     "data": {
      "text/plain": [
       "28"
      ]
     },
     "execution_count": 19,
     "metadata": {},
     "output_type": "execute_result"
    }
   ],
   "source": [
    "luis.edad"
   ]
  },
  {
   "cell_type": "code",
   "execution_count": 27,
   "metadata": {},
   "outputs": [],
   "source": [
    "class Oferta:\n",
    "    def descuento(self):\n",
    "        self.costo = 1200\n",
    "        self.desc = 0.15\n",
    "        return self.costo * self.desc"
   ]
  },
  {
   "cell_type": "code",
   "execution_count": 28,
   "metadata": {},
   "outputs": [],
   "source": [
    "rebaja = Oferta()"
   ]
  },
  {
   "cell_type": "code",
   "execution_count": 29,
   "metadata": {},
   "outputs": [
    {
     "data": {
      "text/plain": [
       "180.0"
      ]
     },
     "execution_count": 29,
     "metadata": {},
     "output_type": "execute_result"
    }
   ],
   "source": [
    "rebaja.descuento()"
   ]
  },
  {
   "cell_type": "markdown",
   "metadata": {},
   "source": [
    "# LA CLASE \"CUENTA\""
   ]
  },
  {
   "cell_type": "code",
   "execution_count": 30,
   "metadata": {},
   "outputs": [],
   "source": [
    "from decimal import Decimal"
   ]
  },
  {
   "cell_type": "code",
   "execution_count": 31,
   "metadata": {},
   "outputs": [],
   "source": [
    "class Cuenta:\n",
    "    #Inicializamos\n",
    "    def __init__(self,nombre,ahorro):\n",
    "        #Librería Decimal. Condicion de inicialziación\n",
    "        if ahorro < Decimal(\"0.00\"):\n",
    "            raise ValueError(\"El capital Incial debe ser mayor a 0\")\n",
    "        self.nombre = nombre\n",
    "        self.ahorro = ahorro\n",
    "    \n",
    "    def deposito(self,cantidad):\n",
    "        if cantidad < Decimal(\"0.00\"):\n",
    "            raise ValueError(\"La cantidad debe de ser positiva\")\n",
    "        \n",
    "        self.ahorro += cantidad"
   ]
  },
  {
   "cell_type": "code",
   "execution_count": 33,
   "metadata": {},
   "outputs": [],
   "source": [
    "cuenta1 = Cuenta(\"Juan\",2000)"
   ]
  },
  {
   "cell_type": "code",
   "execution_count": 36,
   "metadata": {},
   "outputs": [],
   "source": [
    "cuenta1.deposito(500)"
   ]
  },
  {
   "cell_type": "markdown",
   "metadata": {},
   "source": [
    "CLASE PERSONAL"
   ]
  },
  {
   "cell_type": "markdown",
   "metadata": {},
   "source": [
    "* Aplicamos un Principio de la Programación Orientada a Objetos \n",
    "* HERENCIA"
   ]
  },
  {
   "cell_type": "code",
   "execution_count": 40,
   "metadata": {},
   "outputs": [],
   "source": [
    "#Clase Principal\n",
    "class Personal:\n",
    "    def __init__ (self,nombre,profesion,cargo):\n",
    "        self.nombre = nombre\n",
    "        self.profesion = profesion\n",
    "        self.cargo = cargo\n",
    "    \n",
    "    def detalle(self):\n",
    "        return \"{} es un {} y tiene el cargo de {}\".format(self.nombre,self.profesion,self.cargo)"
   ]
  },
  {
   "cell_type": "code",
   "execution_count": 41,
   "metadata": {},
   "outputs": [],
   "source": [
    "#Clase que Hereda\n",
    "class PersonalNuevo(Personal): #→ De esta forma se hereda\n",
    "    def contratacion(self,contrato):\n",
    "        #Format es una nueva forma de imprimir texto.\n",
    "        return \"{} tiene contrato: {}\".format(self.nombre,contrato)\n"
   ]
  },
  {
   "cell_type": "code",
   "execution_count": 42,
   "metadata": {},
   "outputs": [],
   "source": [
    "#Clase que Hereda\n",
    "class PersonalAdvo(Personal):\n",
    "    def contratacion(self,contrato):\n",
    "        return \"{} tiene contrato: {}\".format(self.nombre,contrato)\n"
   ]
  },
  {
   "cell_type": "markdown",
   "metadata": {},
   "source": [
    "* Constructor!"
   ]
  },
  {
   "cell_type": "code",
   "execution_count": 44,
   "metadata": {},
   "outputs": [],
   "source": [
    "ingeniero = PersonalNuevo(\"Paco\",\"Sistemas\",\"Supervision\")"
   ]
  },
  {
   "cell_type": "code",
   "execution_count": 47,
   "metadata": {},
   "outputs": [
    {
     "data": {
      "text/plain": [
       "'Paco tiene contrato: Temporal'"
      ]
     },
     "execution_count": 47,
     "metadata": {},
     "output_type": "execute_result"
    }
   ],
   "source": [
    "ingeniero.detalle()\n",
    "ingeniero.contratacion(\"Temporal\")"
   ]
  },
  {
   "cell_type": "code",
   "execution_count": 48,
   "metadata": {},
   "outputs": [],
   "source": [
    "#Volvemos con la Clase Cuenta\n",
    "class Cuenta:\n",
    "    #Inicializamos\n",
    "    def __init__(self,nombre,capital):\n",
    "        if capital < 0:\n",
    "            raise ValueError (\"El capital debe de ser mayor a 0\")\n",
    "        self.nombre = nombre\n",
    "        self.capital = capital\n",
    "    \n",
    "    def informacion(self):\n",
    "        return \"{} tiene en su cuenta {}\".format(self.nombre,self.capital)"
   ]
  },
  {
   "cell_type": "code",
   "execution_count": 49,
   "metadata": {},
   "outputs": [],
   "source": [
    "#Creamos \"SUBCLASES\"\n",
    "class Ahoro(Cuenta):\n",
    "    def cantidad (self,deposito):\n",
    "        if deposito < 0:\n",
    "            raise ValueError(\"La cantidad debe ser positiva\")\n",
    "        self.capital += deposito\n",
    "        return \"{} tiene ahora en su cuenta {}\".format(self.nombre,self.capital)"
   ]
  },
  {
   "cell_type": "code",
   "execution_count": 51,
   "metadata": {},
   "outputs": [],
   "source": [
    "class Gasto(Cuenta):\n",
    "    def cantidad (self,retiro):\n",
    "        if retiro < 0:\n",
    "            raise ValueError(\"La cantidad debe ser positiva\")\n",
    "        \n",
    "        if retiro > self.capital:\n",
    "            raise ValueError(\"No tienes suficiente Capital\")\n",
    "            \n",
    "        self.capital -= retiro\n",
    "        return \"{} tiene ahora en su cuenta {}\".format(self.nombre,self.capital)"
   ]
  },
  {
   "cell_type": "code",
   "execution_count": 59,
   "metadata": {},
   "outputs": [
    {
     "ename": "ValueError",
     "evalue": "La cantidad debe ser positiva",
     "output_type": "error",
     "traceback": [
      "\u001b[1;31m---------------------------------------------------------------------------\u001b[0m",
      "\u001b[1;31mValueError\u001b[0m                                Traceback (most recent call last)",
      "\u001b[1;32md:\\DataScience\\Yakomo\\Módulo - General\\Curso_Comprado-A2\\POO\\tutorial.ipynb Cell 39'\u001b[0m in \u001b[0;36m<cell line: 5>\u001b[1;34m()\u001b[0m\n\u001b[0;32m      <a href='vscode-notebook-cell:/d%3A/DataScience/Yakomo/M%C3%B3dulo%20-%20General/Curso_Comprado-A2/POO/tutorial.ipynb#ch0000043?line=2'>3</a>\u001b[0m cuenta1\u001b[39m.\u001b[39mcantidad(\u001b[39m1500\u001b[39m)\n\u001b[0;32m      <a href='vscode-notebook-cell:/d%3A/DataScience/Yakomo/M%C3%B3dulo%20-%20General/Curso_Comprado-A2/POO/tutorial.ipynb#ch0000043?line=3'>4</a>\u001b[0m cuenta2 \u001b[39m=\u001b[39m Gasto(\u001b[39m\"\u001b[39m\u001b[39mYakomo\u001b[39m\u001b[39m\"\u001b[39m,\u001b[39m3500\u001b[39m)\n\u001b[1;32m----> <a href='vscode-notebook-cell:/d%3A/DataScience/Yakomo/M%C3%B3dulo%20-%20General/Curso_Comprado-A2/POO/tutorial.ipynb#ch0000043?line=4'>5</a>\u001b[0m cuenta2\u001b[39m.\u001b[39;49mcantidad(\u001b[39m-\u001b[39;49m\u001b[39m12\u001b[39;49m)\n",
      "\u001b[1;32md:\\DataScience\\Yakomo\\Módulo - General\\Curso_Comprado-A2\\POO\\tutorial.ipynb Cell 38'\u001b[0m in \u001b[0;36mGasto.cantidad\u001b[1;34m(self, retiro)\u001b[0m\n\u001b[0;32m      <a href='vscode-notebook-cell:/d%3A/DataScience/Yakomo/M%C3%B3dulo%20-%20General/Curso_Comprado-A2/POO/tutorial.ipynb#ch0000042?line=1'>2</a>\u001b[0m \u001b[39mdef\u001b[39;00m \u001b[39mcantidad\u001b[39m (\u001b[39mself\u001b[39m,retiro):\n\u001b[0;32m      <a href='vscode-notebook-cell:/d%3A/DataScience/Yakomo/M%C3%B3dulo%20-%20General/Curso_Comprado-A2/POO/tutorial.ipynb#ch0000042?line=2'>3</a>\u001b[0m     \u001b[39mif\u001b[39;00m retiro \u001b[39m<\u001b[39m \u001b[39m0\u001b[39m:\n\u001b[1;32m----> <a href='vscode-notebook-cell:/d%3A/DataScience/Yakomo/M%C3%B3dulo%20-%20General/Curso_Comprado-A2/POO/tutorial.ipynb#ch0000042?line=3'>4</a>\u001b[0m         \u001b[39mraise\u001b[39;00m \u001b[39mValueError\u001b[39;00m(\u001b[39m\"\u001b[39m\u001b[39mLa cantidad debe ser positiva\u001b[39m\u001b[39m\"\u001b[39m)\n\u001b[0;32m      <a href='vscode-notebook-cell:/d%3A/DataScience/Yakomo/M%C3%B3dulo%20-%20General/Curso_Comprado-A2/POO/tutorial.ipynb#ch0000042?line=5'>6</a>\u001b[0m     \u001b[39mif\u001b[39;00m retiro \u001b[39m>\u001b[39m \u001b[39mself\u001b[39m\u001b[39m.\u001b[39mcapital:\n\u001b[0;32m      <a href='vscode-notebook-cell:/d%3A/DataScience/Yakomo/M%C3%B3dulo%20-%20General/Curso_Comprado-A2/POO/tutorial.ipynb#ch0000042?line=6'>7</a>\u001b[0m         \u001b[39mraise\u001b[39;00m \u001b[39mValueError\u001b[39;00m(\u001b[39m\"\u001b[39m\u001b[39mNo tienes suficiente Capital\u001b[39m\u001b[39m\"\u001b[39m)\n",
      "\u001b[1;31mValueError\u001b[0m: La cantidad debe ser positiva"
     ]
    }
   ],
   "source": [
    "cuenta1 = Ahoro(\"Juan\",2000)\n",
    "cuenta1.informacion()\n",
    "cuenta1.cantidad(1500)\n",
    "cuenta2 = Gasto(\"Yakomo\",3500)\n",
    "cuenta2.cantidad(-12)"
   ]
  },
  {
   "cell_type": "markdown",
   "metadata": {},
   "source": [
    "# Polimorfismo"
   ]
  },
  {
   "cell_type": "code",
   "execution_count": 60,
   "metadata": {},
   "outputs": [],
   "source": [
    "class Matematicas:\n",
    "    num_creditos = 8\n",
    "    def creditos(self):\n",
    "        print(\"Matemáticas tiene 8 creditos\")"
   ]
  },
  {
   "cell_type": "code",
   "execution_count": null,
   "metadata": {},
   "outputs": [],
   "source": [
    "class Idioma:\n",
    "    num_creditos = 5\n",
    "    def creditos(self):\n",
    "        print(\"Idioma tiene 5 creditos\")"
   ]
  },
  {
   "cell_type": "code",
   "execution_count": 61,
   "metadata": {},
   "outputs": [],
   "source": [
    "asignatura = Matematicas()"
   ]
  },
  {
   "cell_type": "code",
   "execution_count": 62,
   "metadata": {},
   "outputs": [
    {
     "name": "stdout",
     "output_type": "stream",
     "text": [
      "Matemáticas tiene 8 creditos\n"
     ]
    }
   ],
   "source": [
    "asignatura.creditos()"
   ]
  },
  {
   "cell_type": "code",
   "execution_count": 63,
   "metadata": {},
   "outputs": [
    {
     "name": "stdout",
     "output_type": "stream",
     "text": [
      "8\n"
     ]
    }
   ],
   "source": [
    "print(asignatura.num_creditos)"
   ]
  },
  {
   "cell_type": "code",
   "execution_count": 70,
   "metadata": {},
   "outputs": [],
   "source": [
    "class pais:\n",
    "    def moneda(self):\n",
    "        print(\"Cada pais tiene su propia moneda\")\n",
    "\n",
    "class honduras(pais):\n",
    "    def moneda(self):\n",
    "        print(\"Lempira\")\n",
    "class nicaragua(pais):\n",
    "    def moneda(self):\n",
    "        print(\"Cordova\")\n",
    "class paraguay(pais):\n",
    "    def moneda(self):\n",
    "        print(\"Guarani\")\n"
   ]
  },
  {
   "cell_type": "markdown",
   "metadata": {},
   "source": [
    "* Polimorfismo es: Funciones con el mismo nombre en realidad pueden ser métodos diferentes acorde a la clase."
   ]
  },
  {
   "cell_type": "code",
   "execution_count": 73,
   "metadata": {},
   "outputs": [
    {
     "name": "stdout",
     "output_type": "stream",
     "text": [
      "Cordova\n"
     ]
    }
   ],
   "source": [
    "divisa_nicaragua = nicaragua()\n",
    "divisa_nicaragua.moneda()"
   ]
  }
 ],
 "metadata": {
  "kernelspec": {
   "display_name": "Python 3.10.2 64-bit",
   "language": "python",
   "name": "python3"
  },
  "language_info": {
   "codemirror_mode": {
    "name": "ipython",
    "version": 3
   },
   "file_extension": ".py",
   "mimetype": "text/x-python",
   "name": "python",
   "nbconvert_exporter": "python",
   "pygments_lexer": "ipython3",
   "version": "3.10.2"
  },
  "orig_nbformat": 4,
  "vscode": {
   "interpreter": {
    "hash": "afb734500600fd355917ca529030176ea0ca205570884b88f2f6f7d791fd3fbe"
   }
  }
 },
 "nbformat": 4,
 "nbformat_minor": 2
}
