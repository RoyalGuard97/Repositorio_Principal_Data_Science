{
 "cells": [
  {
   "cell_type": "code",
   "execution_count": 40,
   "metadata": {},
   "outputs": [],
   "source": [
    "#Importar modulo random\n",
    "import random\n",
    "#Estructura de Pila\n",
    "class JuegoPila:\n",
    "    def __init__(self):\n",
    "        self.__lista = []\n",
    "    #Inicializar una pila\n",
    "    def crearPila(self):\n",
    "        self.__lista = random.sample(range(1,21),20)\n",
    "\n",
    "    def mostrar(self):\n",
    "        print(self.__lista) \n",
    "    \n",
    "    def __pop(self):\n",
    "        return self.__lista.pop()\n",
    "\n",
    "    \n",
    "    def jugar(self):\n",
    "        self.crearPila()\n",
    "        while True:\n",
    "            numero = input(\"Ingresar la cantidad de números que deseas robar\")\n",
    "            if not numero.isdecimal():\n",
    "                numero = input(\"Ingresar la cantidad de números que deseas robar, nuevamente\")\n",
    "            else:\n",
    "                numero = int(numero)\n",
    "                if(numero <= 20):break\n",
    "                else: print(\"El número tiene que ser menor o o igual a 20\")\n",
    "        print(\"Pila original\")\n",
    "        self.mostrar()\n",
    "\n",
    "        calificacion = 10\n",
    "        suma = 0\n",
    "\n",
    "        for i in range(numero):\n",
    "            suma += self.__pop()\n",
    "        print(\"Pila Obtenida:\")\n",
    "        self.mostrar()\n",
    "\n",
    "        print(\"Con esta cantidad de elementos sumaste: \",suma)\n",
    "\n",
    "        if(suma>50):\n",
    "            print(\"Perdiste el Juego, sumaste mas de 50\")\n",
    "        else:\n",
    "            while suma <= 50:\n",
    "                suma += self.__pop()\n",
    "                if(suma<=50):\n",
    "                    calificacion += -1 \n",
    "            print(\"Muy Bien, ganaste!! Tu calificación es: \",calificacion)        \n",
    "\n",
    "\n",
    "\n",
    "   "
   ]
  },
  {
   "cell_type": "code",
   "execution_count": 41,
   "metadata": {},
   "outputs": [
    {
     "name": "stdout",
     "output_type": "stream",
     "text": [
      "Pila original\n",
      "[16, 15, 20, 19, 6, 2, 13, 17, 11, 8, 4, 1, 3, 7, 18, 9, 12, 14, 5, 10]\n",
      "Pila Obtenida:\n",
      "[16, 15, 20, 19, 6, 2, 13, 17, 11, 8, 4, 1, 3, 7, 18, 9]\n",
      "Con esta cantidad de elementos sumaste:  41\n",
      "Muy Bien, ganaste!! Tu calificación es:  8\n"
     ]
    }
   ],
   "source": [
    "pila = JuegoPila()\n",
    "pila.jugar()\n"
   ]
  }
 ],
 "metadata": {
  "interpreter": {
   "hash": "afb734500600fd355917ca529030176ea0ca205570884b88f2f6f7d791fd3fbe"
  },
  "kernelspec": {
   "display_name": "Python 3.10.2 64-bit",
   "language": "python",
   "name": "python3"
  },
  "language_info": {
   "codemirror_mode": {
    "name": "ipython",
    "version": 3
   },
   "file_extension": ".py",
   "mimetype": "text/x-python",
   "name": "python",
   "nbconvert_exporter": "python",
   "pygments_lexer": "ipython3",
   "version": "3.10.2"
  },
  "orig_nbformat": 4
 },
 "nbformat": 4,
 "nbformat_minor": 2
}
