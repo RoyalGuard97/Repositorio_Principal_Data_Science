{
 "cells": [
  {
   "cell_type": "markdown",
   "metadata": {},
   "source": [
    "# Histograma"
   ]
  },
  {
   "cell_type": "code",
   "execution_count": 4,
   "metadata": {},
   "outputs": [
    {
     "data": {
      "image/png": "[encoded data removed]",
      "text/plain": [
       "<Figure size 432x288 with 1 Axes>"
      ]
     },
     "metadata": {
      "needs_background": "light"
     },
     "output_type": "display_data"
    }
   ],
   "source": [
    "from numpy.random import seed, randn\n",
    "import matplotlib.pyplot as plt\n",
    "# Configuro la semilla aleatoria\n",
    "seed(1993)\n",
    "# Genero 100 muestras\n",
    "distribucion_generada = randn(100)\n",
    "# Represento el histograma\n",
    "plt.hist(distribucion_generada )\n",
    "plt.title('Histograma de una variable')\n",
    "plt.xlabel('Valor de la variable')\n",
    "plt.ylabel('Conteo')\n",
    "plt.show()\n"
   ]
  },
  {
   "cell_type": "markdown",
   "metadata": {},
   "source": [
    "# Cuartiles"
   ]
  },
  {
   "cell_type": "markdown",
   "metadata": {},
   "source": [
    "* Si sigue casi perfectamente la linea roja es de distribucion normal."
   ]
  },
  {
   "cell_type": "code",
   "execution_count": 2,
   "metadata": {},
   "outputs": [
    {
     "data": {
      "image/png": "[encoded data removed]",
      "text/plain": [
       "<Figure size 432x288 with 1 Axes>"
      ]
     },
     "metadata": {
      "needs_background": "light"
     },
     "output_type": "display_data"
    }
   ],
   "source": [
    "from numpy.random import seed, randn\n",
    "import matplotlib.pyplot as plt\n",
    "from statsmodels.graphics.gofplots import qqplot\n",
    "# Configuro la semilla aleatoria\n",
    "seed(1993)\n",
    "# Genero 100 muestras\n",
    "distribucion_generada = randn(100)\n",
    "# Represento el Q-Q plot\n",
    "qqplot(distribucion_generada , line='s')\n",
    "plt.show()\n"
   ]
  },
  {
   "cell_type": "markdown",
   "metadata": {},
   "source": [
    "# Prueba Shapiro - Wilk"
   ]
  },
  {
   "cell_type": "markdown",
   "metadata": {},
   "source": [
    "+ Recomendable para datos no tan amplios- "
   ]
  },
  {
   "cell_type": "code",
   "execution_count": 7,
   "metadata": {},
   "outputs": [
    {
     "name": "stdout",
     "output_type": "stream",
     "text": [
      "Estadisticos=0.991, p=0.755\n",
      "La muestra parece Gaussiana o Normal (no se rechaza la hipótesis nula H0)\n"
     ]
    }
   ],
   "source": [
    "from numpy.random import seed, randn\n",
    "import matplotlib.pyplot as plt\n",
    "from scipy.stats import shapiro\n",
    "# Configuro la semilla aleatoria\n",
    "seed(1993)\n",
    "# Genero 100 muestras\n",
    "data = randn(100)\n",
    "# Prueba de Shapiro-Wilk\n",
    "stat, p = shapiro(data)\n",
    "print('Estadisticos=%.3f, p=%.3f' % (stat, p))\n",
    "# Interpretación\n",
    "alpha = 0.05\n",
    "if p  > alpha:\n",
    "   print('La muestra parece Gaussiana o Normal (no se rechaza la hipótesis nula H0)')\n",
    "else:\n",
    "   print('La muestra no parece Gaussiana o Normal(se rechaza la hipótesis nula H0)')\n"
   ]
  },
  {
   "cell_type": "markdown",
   "metadata": {},
   "source": [
    "# Prueba K Cuadrado de D’Agostino"
   ]
  },
  {
   "cell_type": "code",
   "execution_count": 8,
   "metadata": {},
   "outputs": [
    {
     "name": "stdout",
     "output_type": "stream",
     "text": [
      "Estadisticos=0.326, p=0.850\n",
      "La muestra parece Gaussiana o Normal (no se rechaza la hipótesis nula H0)\n"
     ]
    }
   ],
   "source": [
    "\n",
    "from numpy.random import seed, randn\n",
    "import matplotlib.pyplot as plt\n",
    "from scipy.stats import normaltest\n",
    "# Configuro la semilla aleatoria\n",
    "seed(1993)\n",
    "# Genero 100 muestras\n",
    "data = randn(100)\n",
    "# Test de DAgostino\n",
    "stat, p = normaltest(data)\n",
    "print('Estadisticos=%.3f, p=%.3f' % (stat, p))\n",
    "# Interpretación\n",
    "alpha = 0.05\n",
    "if p > alpha:\n",
    "   print('La muestra parece Gaussiana o Normal (no se rechaza la hipótesis nula H0)')\n",
    "else:\n",
    "   print('La muestra no parece Gaussiana o Normal(se rechaza la hipótesis nula H0)')"
   ]
  }
 ],
 "metadata": {
  "interpreter": {
   "hash": "afb734500600fd355917ca529030176ea0ca205570884b88f2f6f7d791fd3fbe"
  },
  "kernelspec": {
   "display_name": "Python 3.10.2 64-bit",
   "language": "python",
   "name": "python3"
  },
  "language_info": {
   "codemirror_mode": {
    "name": "ipython",
    "version": 3
   },
   "file_extension": ".py",
   "mimetype": "text/x-python",
   "name": "python",
   "nbconvert_exporter": "python",
   "pygments_lexer": "ipython3",
   "version": "3.10.2"
  },
  "orig_nbformat": 4
 },
 "nbformat": 4,
 "nbformat_minor": 2
}
