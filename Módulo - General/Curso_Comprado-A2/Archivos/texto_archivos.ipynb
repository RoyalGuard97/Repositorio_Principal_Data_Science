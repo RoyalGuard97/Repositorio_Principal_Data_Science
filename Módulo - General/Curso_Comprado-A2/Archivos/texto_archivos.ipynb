{
 "cells": [
  {
   "cell_type": "markdown",
   "metadata": {},
   "source": [
    "# Archivos de Texto"
   ]
  },
  {
   "cell_type": "markdown",
   "metadata": {},
   "source": [
    "* Escribir en un Archivo TXT"
   ]
  },
  {
   "cell_type": "code",
   "execution_count": 2,
   "metadata": {},
   "outputs": [],
   "source": [
    "with open (\"seguidores.txt\",mode=\"w\") as seguidores:\n",
    "    seguidores.write(\"Yakomo 190 \\n\")\n",
    "    seguidores.write(\"Fabricio 170 \\n\")\n",
    "    seguidores.write(\"Diego 120 \\n\")\n",
    "    seguidores.write(\"Jesus 170 \\n\")\n",
    "    seguidores.write(\"Maximiliano 120 \\n\")"
   ]
  },
  {
   "cell_type": "markdown",
   "metadata": {},
   "source": [
    "* Extraer el Archivo"
   ]
  },
  {
   "cell_type": "code",
   "execution_count": 5,
   "metadata": {},
   "outputs": [
    {
     "name": "stdout",
     "output_type": "stream",
     "text": [
      "Nombre Seguidores\n",
      "Yakomo 190\n",
      "Fabricio 170\n",
      "Diego 120\n",
      "Jesus 170\n",
      "Maximiliano 120\n"
     ]
    }
   ],
   "source": [
    "with open(\"seguidores.txt\",mode=\"r\") as seguidores:\n",
    "    print(\"Nombre\",\"Seguidores\")\n",
    "    for linea in seguidores:\n",
    "        nombre,num_seg = linea.split()\n",
    "        print(nombre,num_seg)"
   ]
  },
  {
   "cell_type": "markdown",
   "metadata": {},
   "source": [
    "* Modificar el Archivo"
   ]
  },
  {
   "cell_type": "code",
   "execution_count": 6,
   "metadata": {},
   "outputs": [],
   "source": [
    "seguidores = open(\"seguidores.txt\",\"r\")\n",
    "temporal = open(\"temporal.txt\",\"w\")\n",
    "\n",
    "with seguidores, temporal: \n",
    "    for lista in seguidores:\n",
    "        nombre,num_seg = lista.split()\n",
    "        if(nombre!=\"Yakomo\"):\n",
    "            temporal.write(lista)\n",
    "        else:\n",
    "            nuevo_valor = \" \".join([nombre,\"200\"])\n",
    "            temporal.write(nuevo_valor + \"\\n\")\n"
   ]
  },
  {
   "cell_type": "markdown",
   "metadata": {},
   "source": []
  }
 ],
 "metadata": {
  "kernelspec": {
   "display_name": "Python 3.10.2 64-bit",
   "language": "python",
   "name": "python3"
  },
  "language_info": {
   "codemirror_mode": {
    "name": "ipython",
    "version": 3
   },
   "file_extension": ".py",
   "mimetype": "text/x-python",
   "name": "python",
   "nbconvert_exporter": "python",
   "pygments_lexer": "ipython3",
   "version": "3.10.2"
  },
  "orig_nbformat": 4,
  "vscode": {
   "interpreter": {
    "hash": "afb734500600fd355917ca529030176ea0ca205570884b88f2f6f7d791fd3fbe"
   }
  }
 },
 "nbformat": 4,
 "nbformat_minor": 2
}
