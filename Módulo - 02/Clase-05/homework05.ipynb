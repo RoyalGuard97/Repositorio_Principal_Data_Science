{
 "cells": [
  {
   "cell_type": "markdown",
   "metadata": {},
   "source": [
    "Clase 05: Probabilidad"
   ]
  },
  {
   "cell_type": "code",
   "execution_count": 1,
   "metadata": {},
   "outputs": [
    {
     "name": "stdout",
     "output_type": "stream",
     "text": [
      "Los resultados posibles son:  1024\n"
     ]
    }
   ],
   "source": [
    "#Lanza una moneda al aire 10 veces, ¿Cuantos resultados posibles formarte parte del espacio muestral?\n",
    "cants_veces = int(input(\"Ingrese la cantidad de veces que se lanzó la moneda\"))\n",
    "#Carad de moneda elevedado a la cantidad de veces. \n",
    "resultado = 2 ** cants_veces\n",
    "print(\"Los resultados posibles son: \",resultado)"
   ]
  },
  {
   "cell_type": "code",
   "execution_count": 6,
   "metadata": {},
   "outputs": [
    {
     "name": "stdout",
     "output_type": "stream",
     "text": [
      "Las combinaciones posibles son:  120.0\n"
     ]
    }
   ],
   "source": [
    "#En un aeropuerto se tiene a 10 pasajeros esperando, la policía deebe controlar a 3 de ellos ¿Cuantas Combinaciones se puede obtener?\n",
    "from math import factorial\n",
    "factorial(5)\n",
    "control_aeropuerto = factorial(10)/(factorial(3)*factorial(10-3))\n",
    "print(\"Las combinaciones posibles son: \",control_aeropuerto)"
   ]
  },
  {
   "cell_type": "markdown",
   "metadata": {},
   "source": [
    "Los datos muestrales son los siguentes\n",
    "* a) Qué metodo cree que se utilizó par asignar probabilidades\n",
    "    * RPTA: Probabilidad Frecuentista\n",
    "* b) Aplicar las probabilidades\n",
    "    * RPTA: Simplemente dividir entre el total (Sí + No)\n",
    "* c) Cuál sería el mejor método para estimar la probabilidad de que en EEUU un conductor lleve puesto el cinturón?\n",
    "    * RPTA: El método frecuentista\n",
    "* d) Un año antes, la probabilidad en Argentida de que un conductor llevara puesto el cinturón es de 0.75. Se espera una probabilidad de 0.78, ¿conforme? \n",
    "    * RPTA: Sí se encuentra conforme"
   ]
  },
  {
   "cell_type": "markdown",
   "metadata": {},
   "source": [
    "Prueba"
   ]
  },
  {
   "cell_type": "code",
   "execution_count": 13,
   "metadata": {},
   "outputs": [
    {
     "name": "stdout",
     "output_type": "stream",
     "text": [
      "El director se encuentra conforme 0.79\n"
     ]
    }
   ],
   "source": [
    "#Modelo de Probabilidad Frecuentista\n",
    "total_cinturon_usado = 858\n",
    "tamanio_muestra = 1086\n",
    "probabilidad_uso = total_cinturon_usado/tamanio_muestra \n",
    "if(probabilidad_uso >= 0.78):\n",
    "    print(\"El director se encuentra conforme\",round(probabilidad_uso,2))\n",
    "else:\n",
    "    print(\"El director se encuentra disconforme\",round(probabilidad_uso,2))\n"
   ]
  },
  {
   "cell_type": "markdown",
   "metadata": {},
   "source": [
    "* e) Cual es la probabilidad de que se use el cinturón en las distintas regiones del país? ¿En qué región se usa más el cinturón? "
   ]
  },
  {
   "cell_type": "code",
   "execution_count": 22,
   "metadata": {},
   "outputs": [
    {
     "name": "stdout",
     "output_type": "stream",
     "text": [
      "[['N', 0.13627992633517497], ['NOR', 0.14917127071823205], ['S', 0.27255985267034993], ['C', 0.23204419889502761]]\n",
      "['S', 0.27255985267034993]\n"
     ]
    }
   ],
   "source": [
    "muestra_total = 1086\n",
    "norte = 148/muestra_total\n",
    "noroeste = 162/muestra_total\n",
    "sur = 296/muestra_total\n",
    "centro = 252/muestra_total\n",
    "\n",
    "lista = [[\"N\",norte],[\"NOR\",noroeste],[\"S\",sur],[\"C\",centro]]\n",
    "print(lista)\n",
    "print(max(lista)) #Se usa más el cinturón\n"
   ]
  },
  {
   "cell_type": "markdown",
   "metadata": {},
   "source": [
    "4.- Crear una funcion que permita calcular la probabilidad de los siguientes eventos en una baraja de 52 cartas"
   ]
  },
  {
   "cell_type": "markdown",
   "metadata": {},
   "source": [
    "* Obtener una carta roja\n",
    "* Obtener una carta negra\n",
    "* Obtener una pica\n",
    "* Obtener un trébol\n",
    "* Obtener un corazón\n",
    "* Obtener un diamante"
   ]
  },
  {
   "cell_type": "code",
   "execution_count": 23,
   "metadata": {},
   "outputs": [],
   "source": [
    "def probabilidadCartas(categoria):\n",
    "    cant_cartas = 52\n",
    "    cant_cartas_por_color = cant_cartas/2\n",
    "    cant_cartas_por_palo = cant_cartas/4\n",
    "    if categoria == \"rojo\" or categoria == \"negro\":\n",
    "        return cant_cartas_por_color/cant_cartas\n",
    "    elif categoria in (\"pica\",\"trebol\",\"corazon\",\"diamante\"):\n",
    "        return cant_cartas_por_palo/cant_cartas\n",
    "    else: print(\"No se puede procesar el pedido\")"
   ]
  },
  {
   "cell_type": "code",
   "execution_count": 31,
   "metadata": {},
   "outputs": [
    {
     "data": {
      "text/plain": [
       "0.25"
      ]
     },
     "execution_count": 31,
     "metadata": {},
     "output_type": "execute_result"
    }
   ],
   "source": [
    "categoria = input(\"Ingrese la categoría de la cul desea obtener una probabilidad\")\n",
    "probabilidadCartas(categoria)"
   ]
  },
  {
   "cell_type": "markdown",
   "metadata": {},
   "source": [
    "* Probabilidad de que salga un 7 o un 8"
   ]
  },
  {
   "cell_type": "code",
   "execution_count": 33,
   "metadata": {},
   "outputs": [
    {
     "name": "stdout",
     "output_type": "stream",
     "text": [
      "0.15384615384615385\n"
     ]
    }
   ],
   "source": [
    "cant_cartas = 52\n",
    "cant_cartas_por_numero = 4\n",
    "prob_7 = cant_cartas_por_numero/cant_cartas\n",
    "print(prob_7*2)"
   ]
  },
  {
   "cell_type": "markdown",
   "metadata": {},
   "source": [
    "* La probabilidad de que tu país gane el mundial"
   ]
  },
  {
   "cell_type": "code",
   "execution_count": 34,
   "metadata": {},
   "outputs": [
    {
     "name": "stdout",
     "output_type": "stream",
     "text": [
      "En un caso ideal sera de:  0.03125\n"
     ]
    }
   ],
   "source": [
    "#Solo en condiciones ideales, mediante el método frecuentista...\n",
    "cantidad_equipos = 32\n",
    "prob_ganar = 1/cantidad_equipos\n",
    "print(\"En un caso ideal sera de: \",prob_ganar)"
   ]
  },
  {
   "cell_type": "markdown",
   "metadata": {},
   "source": [
    "* Un experimento que tiene tres resultados es repetido 50 veces y se ve que R1 aparece 20 veces, R2 aparece 13 veces, R3 17 veces. Asigne probabilidades a los resultados. "
   ]
  },
  {
   "cell_type": "code",
   "execution_count": 35,
   "metadata": {},
   "outputs": [
    {
     "name": "stdout",
     "output_type": "stream",
     "text": [
      "0.4 0.26 0.34\n"
     ]
    }
   ],
   "source": [
    "#Metodo Frecuentista. \n",
    "resultado1 = 20/50\n",
    "resultado2 = 13/50\n",
    "resultado3 = 17/50\n",
    "\n",
    "print(resultado1,resultado2,resultado3)"
   ]
  }
 ],
 "metadata": {
  "interpreter": {
   "hash": "afb734500600fd355917ca529030176ea0ca205570884b88f2f6f7d791fd3fbe"
  },
  "kernelspec": {
   "display_name": "Python 3.10.2 64-bit",
   "language": "python",
   "name": "python3"
  },
  "language_info": {
   "codemirror_mode": {
    "name": "ipython",
    "version": 3
   },
   "file_extension": ".py",
   "mimetype": "text/x-python",
   "name": "python",
   "nbconvert_exporter": "python",
   "pygments_lexer": "ipython3",
   "version": "3.10.2"
  },
  "orig_nbformat": 4
 },
 "nbformat": 4,
 "nbformat_minor": 2
}
