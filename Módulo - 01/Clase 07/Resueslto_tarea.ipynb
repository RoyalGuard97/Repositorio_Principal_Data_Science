{
 "cells": [
  {
   "cell_type": "code",
   "execution_count": 30,
   "metadata": {},
   "outputs": [],
   "source": [
    "class Nodo:\n",
    "    #Creamos un Nodo- El cual será la hoja\n",
    "    def __init__(self,dato):\n",
    "        #El valor real del nodo\n",
    "        self.dato = dato\n",
    "        #Es la hoja que tiene a la izquierda\n",
    "        self.izq = None\n",
    "        #Es la hoja que tiene a la derecha\n",
    "        self.der = None\n",
    "    \n",
    "    #Metodo Insertar Valores\n",
    "    def insertVal(self,dato):\n",
    "        #Propongo las reglas de la distribución de mis hojsa\n",
    "        if dato <self.dato: #Si el dato ingresado es menor al datoa actual\n",
    "            \n",
    "            if(self.izq == None): #Si el nodo actual a la izquierda esta vacío \n",
    "                self.izq = Nodo(dato)\n",
    "            else:\n",
    "                self.izq.insertVal(dato) #Volvemos a repetir el proceso\n",
    "        #Repetimos desde la misma forma que entramos\n",
    "        elif dato>self.dato : #Si dato fuera may al dato actual de la Hoja\n",
    "            \n",
    "            if(self.der == None): #Si el nodo derecha está vacío\n",
    "                self.der = Nodo(dato) #en la parte derecha se pone el nuevo dato\n",
    "            else:\n",
    "                self.der.insertVal(dato) #Sino repetimos el proceso.\n",
    "        #Repetimos desde la misma forma que entramos\n",
    "        else:\n",
    "            print(\"El valor Ingresado está repetido en el árbol\") #Validación.\n",
    "\n",
    "    def buscarVal(self,val_bus): #Parametro a buscar\n",
    "        if val_bus < self.dato: #si el valor es menor que el dato actual\n",
    "            if self.izq == None: #Y si a la izquierda no hay nada\n",
    "                return False #retorno False\n",
    "            return self.izq.buscarVal(val_bus)\n",
    "        elif val_bus > self.dato:\n",
    "            if self.der == None:\n",
    "                return False\n",
    "            return self.der.buscarVal(val_bus)\n",
    "        else:\n",
    "            return True\n",
    "\n",
    "    def verVal(self):\n",
    "        if self.der: self.der.verVal() \n",
    "        print(self.dato)\n",
    "        if self.izq: self.izq.verVal()\n"
   ]
  },
  {
   "cell_type": "code",
   "execution_count": 29,
   "metadata": {},
   "outputs": [
    {
     "name": "stdout",
     "output_type": "stream",
     "text": [
      "4\n",
      "5\n",
      "2\n",
      "3\n"
     ]
    }
   ],
   "source": [
    "#Testeo\n",
    "raiz = Nodo(3)\n",
    "raiz.insertVal(2)\n",
    "raiz.buscarVal(3)\n",
    "raiz.insertVal(5)\n",
    "raiz.insertVal(4)\n",
    "raiz.verVal()"
   ]
  },
  {
   "cell_type": "code",
   "execution_count": null,
   "metadata": {},
   "outputs": [],
   "source": []
  }
 ],
 "metadata": {
  "interpreter": {
   "hash": "afb734500600fd355917ca529030176ea0ca205570884b88f2f6f7d791fd3fbe"
  },
  "kernelspec": {
   "display_name": "Python 3.10.2 64-bit",
   "language": "python",
   "name": "python3"
  },
  "language_info": {
   "codemirror_mode": {
    "name": "ipython",
    "version": 3
   },
   "file_extension": ".py",
   "mimetype": "text/x-python",
   "name": "python",
   "nbconvert_exporter": "python",
   "pygments_lexer": "ipython3",
   "version": "3.10.2"
  },
  "orig_nbformat": 4
 },
 "nbformat": 4,
 "nbformat_minor": 2
}
