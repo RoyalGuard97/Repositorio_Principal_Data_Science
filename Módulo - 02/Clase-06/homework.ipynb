{
 "cells": [
  {
   "cell_type": "markdown",
   "metadata": {},
   "source": [
    "Homework Clase 06"
   ]
  },
  {
   "cell_type": "markdown",
   "metadata": {},
   "source": [
    "Tenemos probablidad de a = 0.5\n",
    "probabilidad de b = 0.6\n",
    "probabilidad de a intersección b = 0.4"
   ]
  },
  {
   "cell_type": "markdown",
   "metadata": {},
   "source": [
    "* Sucesos Independientes: P(A n B) = P(A) * P(B)\n",
    "* Sucesos Excluyentes P(A n B) = 0"
   ]
  },
  {
   "cell_type": "code",
   "execution_count": 1,
   "metadata": {},
   "outputs": [
    {
     "name": "stdout",
     "output_type": "stream",
     "text": [
      "Los sucesos no son independientes.\n"
     ]
    }
   ],
   "source": [
    "probabilidad_a = 0.5\n",
    "probabilidad_b = 0.6\n",
    "probabilidad_inter = 0.4\n",
    "\n",
    "if(probabilidad_inter == probabilidad_a*probabilidad_b):\n",
    "    print(\"Los sucesos son independientes\")\n",
    "else:\n",
    "    print(\"Los sucesos no son independientes.\")"
   ]
  },
  {
   "cell_type": "markdown",
   "metadata": {},
   "source": [
    "Hallar P(A|B)"
   ]
  },
  {
   "cell_type": "code",
   "execution_count": 3,
   "metadata": {},
   "outputs": [
    {
     "data": {
      "text/plain": [
       "0.6666666666666667"
      ]
     },
     "execution_count": 3,
     "metadata": {},
     "output_type": "execute_result"
    }
   ],
   "source": [
    "respuesta = probabilidad_inter/probabilidad_b\n",
    "respuesta"
   ]
  },
  {
   "cell_type": "markdown",
   "metadata": {},
   "source": [
    "Hallar P(B|A)"
   ]
  },
  {
   "cell_type": "code",
   "execution_count": 4,
   "metadata": {},
   "outputs": [
    {
     "data": {
      "text/plain": [
       "0.8"
      ]
     },
     "execution_count": 4,
     "metadata": {},
     "output_type": "execute_result"
    }
   ],
   "source": [
    "respuesta = probabilidad_inter/probabilidad_a\n",
    "respuesta"
   ]
  },
  {
   "cell_type": "markdown",
   "metadata": {},
   "source": [
    "* 2.- Suponga 2 eventos mutuamente excluyentes. Admita además que P(A) = 0.3 y P(B) = 0.4.\n"
   ]
  },
  {
   "cell_type": "markdown",
   "metadata": {},
   "source": [
    "Hallar P(AnB)"
   ]
  },
  {
   "cell_type": "code",
   "execution_count": 5,
   "metadata": {},
   "outputs": [
    {
     "name": "stdout",
     "output_type": "stream",
     "text": [
      "Los eventos son mutamente excluyentes, no existe intersección\n"
     ]
    }
   ],
   "source": [
    "print(\"Los eventos son mutamente excluyentes, no existe intersección\") #P(AnB) = 0"
   ]
  },
  {
   "cell_type": "markdown",
   "metadata": {},
   "source": [
    "Hallar P(A|B)"
   ]
  },
  {
   "cell_type": "code",
   "execution_count": 6,
   "metadata": {},
   "outputs": [
    {
     "name": "stdout",
     "output_type": "stream",
     "text": [
      "Igualmente la probabilidad de A sucedido B debe ser nula\n"
     ]
    }
   ],
   "source": [
    "print(\"Igualmente la probabilidad de A sucedido B debe ser nula\") #P(AnB)/P(B)"
   ]
  },
  {
   "cell_type": "markdown",
   "metadata": {},
   "source": [
    "3.- La concesionaria seleccciona dos ventas con reposicion (Los sucesos son independientes). Hallar la probabilidad de que las ventas sean"
   ]
  },
  {
   "cell_type": "markdown",
   "metadata": {},
   "source": [
    "* a.- La primera de un comprador de \"menos de 40\" años y la segunda de uno \"entre 40 y 50 años\""
   ]
  },
  {
   "cell_type": "code",
   "execution_count": 8,
   "metadata": {},
   "outputs": [
    {
     "data": {
      "text/plain": [
       "0.159375"
      ]
     },
     "execution_count": 8,
     "metadata": {},
     "output_type": "execute_result"
    }
   ],
   "source": [
    "#Respuesta la P(<40) * P(40 y 50)\n",
    "probabilidad_a = 30/80\n",
    "probabilidad_b = 34/80\n",
    "probabilidad_inter = probabilidad_a * probabilidad_b\n",
    "probabilidad_inter"
   ]
  },
  {
   "cell_type": "markdown",
   "metadata": {},
   "source": [
    "b.- Los dos sean autos nacionales"
   ]
  },
  {
   "cell_type": "code",
   "execution_count": 9,
   "metadata": {},
   "outputs": [
    {
     "data": {
      "text/plain": [
       "0.390625"
      ]
     },
     "execution_count": 9,
     "metadata": {},
     "output_type": "execute_result"
    }
   ],
   "source": [
    "#La probabilidad es de un auto nacional elevado al cuadrado\n",
    "probabilidad_a = 50/80\n",
    "respuesta = probabilidad_a ** 2\n",
    "respuesta"
   ]
  },
  {
   "cell_type": "markdown",
   "metadata": {},
   "source": [
    "* 4.- Sin la selección de las dos ventas se realiza sin reposición. Halar la probabilidad de que las ventas sean:\n"
   ]
  },
  {
   "cell_type": "markdown",
   "metadata": {},
   "source": [
    "a.- La primera de un comprador de \"menos de 40 años\" y la segunda de uno \"entre 40 y 50 años\""
   ]
  },
  {
   "cell_type": "code",
   "execution_count": 11,
   "metadata": {},
   "outputs": [
    {
     "data": {
      "text/plain": [
       "0.16139240506329114"
      ]
     },
     "execution_count": 11,
     "metadata": {},
     "output_type": "execute_result"
    }
   ],
   "source": [
    "probabilidad_a = 30/80\n",
    "probabilidad_b = 34/79\n",
    "probabilidad_inter = probabilidad_a * probabilidad_b\n",
    "probabilidad_inter"
   ]
  },
  {
   "cell_type": "markdown",
   "metadata": {},
   "source": [
    "b.- Las dos sean autos \"nacionales\""
   ]
  },
  {
   "cell_type": "code",
   "execution_count": 12,
   "metadata": {},
   "outputs": [
    {
     "data": {
      "text/plain": [
       "0.3876582278481012"
      ]
     },
     "execution_count": 12,
     "metadata": {},
     "output_type": "execute_result"
    }
   ],
   "source": [
    "probabilidad_a = 50/80\n",
    "probabilidad_b = 49/79\n",
    "respuesta = probabilidad_a * probabilidad_b\n",
    "respuesta"
   ]
  },
  {
   "cell_type": "markdown",
   "metadata": {},
   "source": [
    "* 5.- Sin la selección de las dos ventas se realiza sin reposición. Halar la probabilidad de que las ventas sean:\n"
   ]
  },
  {
   "cell_type": "markdown",
   "metadata": {},
   "source": [
    "*  a.- De un comprador de \"menos de 40 años\" y de uno entre 40 y 50 años"
   ]
  },
  {
   "cell_type": "code",
   "execution_count": 16,
   "metadata": {},
   "outputs": [
    {
     "data": {
      "text/plain": [
       "0.3227848101265823"
      ]
     },
     "execution_count": 16,
     "metadata": {},
     "output_type": "execute_result"
    }
   ],
   "source": [
    "proba_1 = (30/80) * (34/79)\n",
    "proba_2 = (34/80) * (30/79)\n",
    "respuesta = proba_1 + proba_2\n",
    "respuesta"
   ]
  },
  {
   "cell_type": "markdown",
   "metadata": {},
   "source": [
    "6.- Del siguiente cuadro del seguro médico"
   ]
  },
  {
   "cell_type": "code",
   "execution_count": null,
   "metadata": {},
   "outputs": [],
   "source": [
    "#No tiene seguro médico: 0.15\n",
    "#Si la persona tiene 18 entre 34, la probabilidad de que no lo tenga es de "
   ]
  }
 ],
 "metadata": {
  "interpreter": {
   "hash": "afb734500600fd355917ca529030176ea0ca205570884b88f2f6f7d791fd3fbe"
  },
  "kernelspec": {
   "display_name": "Python 3.10.2 64-bit",
   "language": "python",
   "name": "python3"
  },
  "language_info": {
   "codemirror_mode": {
    "name": "ipython",
    "version": 3
   },
   "file_extension": ".py",
   "mimetype": "text/x-python",
   "name": "python",
   "nbconvert_exporter": "python",
   "pygments_lexer": "ipython3",
   "version": "3.10.2"
  },
  "orig_nbformat": 4
 },
 "nbformat": 4,
 "nbformat_minor": 2
}
