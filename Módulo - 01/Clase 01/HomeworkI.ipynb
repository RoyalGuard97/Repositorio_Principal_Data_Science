{
 "cells": [
  {
   "cell_type": "markdown",
   "metadata": {},
   "source": [
    "# Práctica Clase 1 "
   ]
  },
  {
   "cell_type": "markdown",
   "metadata": {},
   "source": [
    "1) Crear una función capaz de convertir números enteros de base 10 a base 2. Debe recibir como parámetro el número a convertir<br>\n",
    "Consideraciones:<br> \n",
    "a. Tratar de resolverlo sin usar la función format(nro,\"b\")<br>\n",
    "b. El pdf \"conversion-de-decimal-a-binario.pdf\" puede servir de ayuda.\n"
   ]
  },
  {
   "cell_type": "code",
   "execution_count": 2,
   "metadata": {},
   "outputs": [],
   "source": [
    "#Numero Binario Empleando la funcion de Bin\n",
    "def NumeroBinario(numero):\n",
    "    if((type(numero) == int) and numero >= 0):\n",
    "       numero = str(bin(numero))\n",
    "       numero = numero.lstrip(\"0b\")\n",
    "       numero = int(numero)\n",
    "       return numero\n",
    "    else:\n",
    "        return None \n",
    "\n",
    "def NumeroBinario_Alter(numero):\n",
    "    #Creamos una lista y una cadena\n",
    "    modulos = []\n",
    "    cadena = \"\"\n",
    "    #Mientras numero no sea 0, el uno aun se admite ya que siempre sera el primer dígito [Izquierda a Derecha]\n",
    "    while numero != 0:\n",
    "        #vamos comprobado el residuo del numero entre 2 y lo colocamos en el indice [0]\n",
    "        modulos.insert(0,numero%2)\n",
    "        #Hacemos que nuestro numero sea numero//2 (division entera)\n",
    "        numero //= 2\n",
    "        #Cuando Numero es 1, aquí nos arrojará un division en 0 lo que romperá el bucle\n",
    "\n",
    "    #Como lo tenemos en una lista, cada dígito lo iremos colocando en una cadena\n",
    "    for digito in modulos:\n",
    "        cadena += str(digito)\n",
    "    \n",
    "    return cadena\n",
    "\n"
   ]
  },
  {
   "cell_type": "code",
   "execution_count": 26,
   "metadata": {},
   "outputs": [
    {
     "name": "stdout",
     "output_type": "stream",
     "text": [
      "101\n",
      "101\n",
      "0b1100\n"
     ]
    }
   ],
   "source": [
    "#Ejemplo:\n",
    "print(NumeroBinario(5))\n",
    "print(NumeroBinario_Alter(5))\n",
    "print(bin(12))\n"
   ]
  },
  {
   "cell_type": "markdown",
   "metadata": {},
   "source": [
    "2) Convertir de decimal a binario las fracciones 1/2, 1/3, 1/4, 1/5, 1/6, 1/7, 1/8, 1/9. Luego analizar los resultados y observar qué particularidad se encuentra en los mismos. Se puede usar Python o una calculadora, lo importante es ver si hay algo que podemos notar..."
   ]
  },
  {
   "cell_type": "markdown",
   "metadata": {},
   "source": [
    "Salida esperada:\n",
    "* Fraccion 1 / 2 :  0.5  y En binario:  0.1\n",
    "* Fraccion 1 / 3 :  0.3333333333333333  y En binario:  0.010101010101010101010101\n",
    "* Fraccion 1 / 4 :  0.25  y En binario:  0.01\n",
    "* Fraccion 1 / 5 :  0.2  y En binario:  0.001100110011001100110011\n",
    "* Fraccion 1 / 6 :  0.16666666666666666  y En binario:  0.001010101010101010101010\n",
    "* Fraccion 1 / 7 :  0.14285714285714285  y En binario:  0.001001001001001001001001\n",
    "* Fraccion 1 / 8 :  0.125  y En binario:  0.001\n",
    "* Fraccion 1 / 9 :  0.1111111111111111  y En binario:  0.000111000111000111000111"
   ]
  },
  {
   "cell_type": "code",
   "execution_count": 16,
   "metadata": {},
   "outputs": [],
   "source": [
    "def NumeroBinario_Fracción(numero):\n",
    "\n",
    "    modulos = [\".\"]\n",
    "    parte_entera = 0\n",
    "    cadena = \"\"\n",
    "    while True:\n",
    "        numero = numero * 2\n",
    "        parte_entera = int(numero)\n",
    "        modulos.append(parte_entera)\n",
    "        numero = numero - parte_entera\n",
    "        if(numero == 0):\n",
    "            break\n",
    "\n",
    "    for digito in modulos:\n",
    "        cadena += str(digito)\n",
    "    \n",
    "    return cadena\n"
   ]
  },
  {
   "cell_type": "code",
   "execution_count": 17,
   "metadata": {},
   "outputs": [
    {
     "data": {
      "text/plain": [
       "'.010101010101010101010101010101010101010101010101010101'"
      ]
     },
     "execution_count": 17,
     "metadata": {},
     "output_type": "execute_result"
    }
   ],
   "source": [
    "NumeroBinario_Fracción(1/3)"
   ]
  },
  {
   "cell_type": "code",
   "execution_count": 6,
   "metadata": {},
   "outputs": [],
   "source": [
    "#Acepta Parte Entera y Parte Decimal\n",
    "def NumeroBinarioCompleto(numero):\n",
    "    parte_entera = int(numero)\n",
    "    parte_fraccionaria = numero - parte_entera\n",
    "    \n",
    "    a = NumeroBinario_Alter(parte_entera)\n",
    "    b = NumeroBinario_Fracción(parte_fraccionaria)\n",
    "\n",
    "    return a+b\n",
    "    \n",
    "\n",
    "    "
   ]
  },
  {
   "cell_type": "code",
   "execution_count": 21,
   "metadata": {},
   "outputs": [
    {
     "data": {
      "text/plain": [
       "'1010.001110101110000101000111101011100001010001111011'"
      ]
     },
     "execution_count": 21,
     "metadata": {},
     "output_type": "execute_result"
    }
   ],
   "source": [
    "NumeroBinarioCompleto(10.23)"
   ]
  },
  {
   "cell_type": "code",
   "execution_count": 22,
   "metadata": {},
   "outputs": [
    {
     "data": {
      "text/plain": [
       "complex"
      ]
     },
     "execution_count": 22,
     "metadata": {},
     "output_type": "execute_result"
    }
   ],
   "source": [
    "#Eval Funciona para convertir de tipo de dato en una cadena\n",
    "c = \"0+3j\"\n",
    "type(eval(c))"
   ]
  }
 ],
 "metadata": {
  "interpreter": {
   "hash": "afb734500600fd355917ca529030176ea0ca205570884b88f2f6f7d791fd3fbe"
  },
  "kernelspec": {
   "display_name": "Python 3.10.2 64-bit",
   "language": "python",
   "name": "python3"
  },
  "language_info": {
   "codemirror_mode": {
    "name": "ipython",
    "version": 3
   },
   "file_extension": ".py",
   "mimetype": "text/x-python",
   "name": "python",
   "nbconvert_exporter": "python",
   "pygments_lexer": "ipython3",
   "version": "3.10.2"
  },
  "orig_nbformat": 4
 },
 "nbformat": 4,
 "nbformat_minor": 2
}
