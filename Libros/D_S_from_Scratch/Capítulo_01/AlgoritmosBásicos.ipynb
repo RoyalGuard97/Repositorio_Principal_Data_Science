{
 "cells": [
  {
   "cell_type": "markdown",
   "metadata": {},
   "source": [
    "# Capítulo 01"
   ]
  },
  {
   "cell_type": "markdown",
   "metadata": {},
   "source": [
    "* Algoritmo de Amistades e Intereses"
   ]
  },
  {
   "cell_type": "code",
   "execution_count": 12,
   "metadata": {},
   "outputs": [],
   "source": [
    "#Es una lista de diccionarios por cada usuario\n",
    "usuarios = [\n",
    "{ \"id\": 0, \"name\": \"Hero\" },\n",
    "{ \"id\": 1, \"name\": \"Dunn\" },\n",
    "{ \"id\": 2, \"name\": \"Sue\" },\n",
    "{ \"id\": 3, \"name\": \"Chi\" },\n",
    "{ \"id\": 4, \"name\": \"Thor\" },\n",
    "{ \"id\": 5, \"name\": \"Clive\" },\n",
    "{ \"id\": 6, \"name\": \"Hicks\" },\n",
    "{ \"id\": 7, \"name\": \"Devin\" },\n",
    "{ \"id\": 8, \"name\": \"Kate\" },\n",
    "{ \"id\": 9, \"name\": \"Klein\" }]"
   ]
  },
  {
   "cell_type": "markdown",
   "metadata": {},
   "source": [
    "* Apoyarse en la imagen \"Grafos01\""
   ]
  },
  {
   "cell_type": "code",
   "execution_count": 13,
   "metadata": {},
   "outputs": [],
   "source": [
    "parejas_amigos =  [(0, 1), (0, 2), (1, 2), (1, 3), (2, 3), (3, 4),(4, 5), (5, 6), (5, 7), (6, 8), (7, 8), (8, 9)]"
   ]
  },
  {
   "cell_type": "code",
   "execution_count": 14,
   "metadata": {},
   "outputs": [],
   "source": [
    "amistades = {usuario[\"id\"]:[] for usuario in usuarios}"
   ]
  },
  {
   "cell_type": "code",
   "execution_count": 15,
   "metadata": {},
   "outputs": [
    {
     "data": {
      "text/plain": [
       "{0: [], 1: [], 2: [], 3: [], 4: [], 5: [], 6: [], 7: [], 8: [], 9: []}"
      ]
     },
     "execution_count": 15,
     "metadata": {},
     "output_type": "execute_result"
    }
   ],
   "source": [
    "amistades"
   ]
  },
  {
   "cell_type": "markdown",
   "metadata": {},
   "source": [
    "* Recorrer tupla: (usuario,amigo)"
   ]
  },
  {
   "cell_type": "code",
   "execution_count": 16,
   "metadata": {},
   "outputs": [],
   "source": [
    "for usuario,amigo in parejas_amigos:\n",
    "    #Cada usuario esta emparejado con su amigo en el diccionario amistades\n",
    "    amistades[usuario].append(amigo)\n",
    "    #Como las amistades son bidireccionales, entonces también se considera. \n",
    "    amistades[amigo].append(usuario)"
   ]
  },
  {
   "cell_type": "code",
   "execution_count": 17,
   "metadata": {},
   "outputs": [
    {
     "data": {
      "text/plain": [
       "{0: [1, 2],\n",
       " 1: [0, 2, 3],\n",
       " 2: [0, 1, 3],\n",
       " 3: [1, 2, 4],\n",
       " 4: [3, 5],\n",
       " 5: [4, 6, 7],\n",
       " 6: [5, 8],\n",
       " 7: [5, 8],\n",
       " 8: [6, 7, 9],\n",
       " 9: [8]}"
      ]
     },
     "execution_count": 17,
     "metadata": {},
     "output_type": "execute_result"
    }
   ],
   "source": [
    "amistades"
   ]
  },
  {
   "cell_type": "code",
   "execution_count": 18,
   "metadata": {},
   "outputs": [],
   "source": [
    "#Recuerda que todo usuario es un diccionario. \n",
    "def numero_de_amigos(usuario):\n",
    "    id_amigos = amistades[usuario[\"id\"]]\n",
    "    return len(id_amigos)\n",
    "\n",
    "total_conexiones = sum(numero_de_amigos(usuario) for usuario in usuarios)"
   ]
  },
  {
   "cell_type": "code",
   "execution_count": 19,
   "metadata": {},
   "outputs": [
    {
     "data": {
      "text/plain": [
       "24"
      ]
     },
     "execution_count": 19,
     "metadata": {},
     "output_type": "execute_result"
    }
   ],
   "source": [
    "#Hay 12 conexiones pero también se consideran en visceversa. (1-9) (9-1)\n",
    "total_conexiones"
   ]
  },
  {
   "cell_type": "code",
   "execution_count": 27,
   "metadata": {},
   "outputs": [
    {
     "data": {
      "text/plain": [
       "10"
      ]
     },
     "execution_count": 27,
     "metadata": {},
     "output_type": "execute_result"
    }
   ],
   "source": [
    "numero_usuarios = len(usuarios)\n",
    "numero_usuarios"
   ]
  },
  {
   "cell_type": "code",
   "execution_count": 29,
   "metadata": {},
   "outputs": [
    {
     "data": {
      "text/plain": [
       "2.4"
      ]
     },
     "execution_count": 29,
     "metadata": {},
     "output_type": "execute_result"
    }
   ],
   "source": [
    "promedio_conexiones = total_conexiones/numero_usuarios\n",
    "promedio_conexiones"
   ]
  },
  {
   "cell_type": "code",
   "execution_count": 31,
   "metadata": {},
   "outputs": [],
   "source": [
    "numero_amigos_por_id = [(usuario[\"id\"],numero_de_amigos(usuario)) for usuario in usuarios]"
   ]
  },
  {
   "cell_type": "code",
   "execution_count": 34,
   "metadata": {},
   "outputs": [
    {
     "data": {
      "text/plain": [
       "[(0, 2),\n",
       " (1, 3),\n",
       " (2, 3),\n",
       " (3, 3),\n",
       " (4, 2),\n",
       " (5, 3),\n",
       " (6, 2),\n",
       " (7, 2),\n",
       " (8, 3),\n",
       " (9, 1)]"
      ]
     },
     "execution_count": 34,
     "metadata": {},
     "output_type": "execute_result"
    }
   ],
   "source": [
    "#Obtenemos una Tupla que nos revela cada usuario por ID y su cantidad de amigos. \n",
    "numero_amigos_por_id.sort()\n",
    "numero_amigos_por_id"
   ]
  },
  {
   "cell_type": "code",
   "execution_count": 35,
   "metadata": {},
   "outputs": [],
   "source": [
    "#Amigos de amigos\n",
    "def ada_id(usuario):\n",
    "    return [amigo_amigo_id for amigo_id in amistades[usuario[\"id\"]] for amigo_amigo_id in amistades[amigo_id]]"
   ]
  },
  {
   "cell_type": "code",
   "execution_count": 36,
   "metadata": {},
   "outputs": [
    {
     "data": {
      "text/plain": [
       "[0, 2, 3, 0, 1, 3]"
      ]
     },
     "execution_count": 36,
     "metadata": {},
     "output_type": "execute_result"
    }
   ],
   "source": [
    "ada_id(usuarios[0])"
   ]
  },
  {
   "cell_type": "code",
   "execution_count": 42,
   "metadata": {},
   "outputs": [],
   "source": [
    "from collections import Counter\n",
    "def amigos_de_amigos(usuario):\n",
    "    usuario_id = usuario[\"id\"]\n",
    "    return Counter(amigo_de_amigo_id \n",
    "    for amigo_id in amistades[usuario_id]\n",
    "    for amigo_de_amigo_id in amistades[amigo_id] \n",
    "    if amigo_de_amigo_id != usuario_id and amigo_de_amigo_id \n",
    "    not in amistades[usuario_id])"
   ]
  },
  {
   "cell_type": "code",
   "execution_count": 43,
   "metadata": {},
   "outputs": [
    {
     "data": {
      "text/plain": [
       "Counter({0: 2, 5: 1})"
      ]
     },
     "execution_count": 43,
     "metadata": {},
     "output_type": "execute_result"
    }
   ],
   "source": [
    "amigos_de_amigos(usuarios[3])"
   ]
  },
  {
   "cell_type": "code",
   "execution_count": 48,
   "metadata": {},
   "outputs": [],
   "source": [
    "intereses = [\n",
    " (0, \"Hadoop\"), (0, \"Big Data\"), (0, \"HBase\"), (0, \"Java\"),\n",
    " (0, \"Spark\"), (0, \"Storm\"), (0, \"Cassandra\"),\n",
    " (1, \"NoSQL\"), (1, \"MongoDB\"), (1, \"Cassandra\"), (1, \"HBase\"),\n",
    " (1, \"Postgres\"), (2, \"Python\"), (2, \"scikit-learn\"), (2,\n",
    "\"scipy\"),\n",
    " (2, \"numpy\"), (2, \"statsmodels\"), (2, \"pandas\"), (3, \"R\"),\n",
    "(3, \"Python\"),\n",
    " (3, \"statistics\"), (3, \"regression\"), (3, \"probability\"),\n",
    " (4, \"machine learning\"), (4, \"regression\"), (4, \"decisiontrees\"),\n",
    " (4, \"libsvm\"), (5, \"Python\"), (5, \"R\"), (5, \"Java\"), (5,\n",
    "\"C++\"),\n",
    " (5, \"Haskell\"), (5, \"programming languages\"), (6,\n",
    "\"statistics\"),\n",
    " (6, \"probability\"), (6, \"mathematics\"), (6, \"theory\"),\n",
    " (7, \"machine learning\"), (7, \"scikit-learn\"), (7, \"Mahout\"),\n",
    " (7, \"neural networks\"), (8, \"neural networks\"), (8, \"deeplearning\"),\n",
    " (8, \"Big Data\"), (8, \"artificial intelligence\"), (9,\n",
    "\"Hadoop\"),\n",
    " (9, \"Java\"), (9, \"MapReduce\"), (9, \"Big Data\")\n",
    "]\n"
   ]
  },
  {
   "cell_type": "code",
   "execution_count": 49,
   "metadata": {},
   "outputs": [],
   "source": [
    "def lo_que_gusta_data_science(objetivo_interes):\n",
    "    return [usuario_id for usuario_id,usuario_interes in intereses if usuario_interes == objetivo_interes]"
   ]
  },
  {
   "cell_type": "code",
   "execution_count": 52,
   "metadata": {},
   "outputs": [],
   "source": [
    "from collections import defaultdict\n",
    "usuarios_ids_por_interes = defaultdict(list)\n",
    "for usuario_id, interes in intereses:\n",
    "    usuarios_ids_por_interes[interes].append(usuario_id)"
   ]
  },
  {
   "cell_type": "code",
   "execution_count": 53,
   "metadata": {},
   "outputs": [],
   "source": [
    "interes_por_usuario_id = defaultdict(list)\n",
    "for usuario_id, interes in intereses:\n",
    " interes_por_usuario_id [usuario_id].append(interes)\n"
   ]
  },
  {
   "cell_type": "code",
   "execution_count": 56,
   "metadata": {},
   "outputs": [],
   "source": [
    "def interes_comun(usuario):\n",
    "    return Counter(\n",
    "        interes_usuario_id for interes in interes_por_usuario_id[usuario[\"id\"]] for interes_usuario_id in usuarios_ids_por_interes[interes]\n",
    "        if interes_usuario_id != usuario[\"id\"]\n",
    "    )"
   ]
  },
  {
   "cell_type": "code",
   "execution_count": null,
   "metadata": {},
   "outputs": [],
   "source": []
  },
  {
   "cell_type": "code",
   "execution_count": 58,
   "metadata": {},
   "outputs": [
    {
     "data": {
      "text/plain": [
       "Counter({3: 1, 5: 1, 7: 1})"
      ]
     },
     "execution_count": 58,
     "metadata": {},
     "output_type": "execute_result"
    }
   ],
   "source": [
    "#Te indica con que usuarios compartes intereses, y cuantos intereses compartes con el usuario seleccionado. \n",
    "interes_comun(usuarios[2])"
   ]
  },
  {
   "cell_type": "markdown",
   "metadata": {},
   "source": [
    "# Algoritmo de Salarios y Experiencia"
   ]
  },
  {
   "cell_type": "markdown",
   "metadata": {},
   "source": [
    "* Se nos otogra una lista de tuplas, que contiene información del Salario y el Tiempo en que un científico de datos prestó su servicio."
   ]
  },
  {
   "cell_type": "code",
   "execution_count": 62,
   "metadata": {},
   "outputs": [],
   "source": [
    "#Salarios (Dólares) y Permanencia (Años) de la Empresa\n",
    "salaries_and_tenures = [(83000, 8.7), (88000, 8.1),\n",
    " (48000, 0.7), (76000, 6),\n",
    " (69000, 6.5), (76000, 7.5),\n",
    " (60000, 2.5), (83000, 10),\n",
    " (48000, 1.9), (63000, 4.2)]"
   ]
  },
  {
   "cell_type": "markdown",
   "metadata": {},
   "source": [
    "* Procedemos a Graficar el Comportamiento de los Datos"
   ]
  },
  {
   "cell_type": "code",
   "execution_count": 74,
   "metadata": {},
   "outputs": [],
   "source": [
    "import pandas as pd\n",
    "import seaborn as sns\n",
    "import matplotlib.pyplot as plt\n",
    "df = pd.DataFrame(salaries_and_tenures,columns=[\"salario\",\"años\"])"
   ]
  },
  {
   "cell_type": "code",
   "execution_count": 88,
   "metadata": {},
   "outputs": [
    {
     "data": {
      "text/plain": [
       "<AxesSubplot:title={'center':'Años vs Salario - Data Scientist'}, xlabel='Años de Permanencia', ylabel='Salario Obtenido'>"
      ]
     },
     "execution_count": 88,
     "metadata": {},
     "output_type": "execute_result"
    },
    {
     "data": {
      "image/png": "[encoded data removed]",
      "text/plain": [
       "<Figure size 576x432 with 1 Axes>"
      ]
     },
     "metadata": {},
     "output_type": "display_data"
    }
   ],
   "source": [
    "#Graficamos la Data y los ejes\n",
    "plt.figure(figsize=(8,6),facecolor=\"Orange\")\n",
    "sns.set(font_scale = 1.5)\n",
    "sns.set_style(\"whitegrid\")\n",
    "plt.title(\"Años vs Salario - Data Scientist\")\n",
    "plt.xlabel(\"Años de Permanencia\")\n",
    "plt.ylabel(\"Salario Obtenido\")\n",
    "sns.scatterplot(data=df,x=\"años\",y=\"salario\")"
   ]
  },
  {
   "cell_type": "markdown",
   "metadata": {},
   "source": [
    "* Tal y como podemos intuir, mientras más uno posea años de experiencia, el salario que le corresponde es mayor."
   ]
  },
  {
   "cell_type": "code",
   "execution_count": 89,
   "metadata": {},
   "outputs": [],
   "source": [
    "salary_by_tenure = defaultdict(list)\n",
    "for salary, tenure in salaries_and_tenures:\n",
    " salary_by_tenure[tenure].append(salary)\n"
   ]
  },
  {
   "cell_type": "code",
   "execution_count": 90,
   "metadata": {},
   "outputs": [],
   "source": [
    "average_salary_by_tenure = {\n",
    " tenure: sum(salaries) / len(salaries)\n",
    " for tenure, salaries in salary_by_tenure.items()\n",
    "}"
   ]
  },
  {
   "cell_type": "code",
   "execution_count": 91,
   "metadata": {},
   "outputs": [
    {
     "data": {
      "text/plain": [
       "{8.7: 83000.0,\n",
       " 8.1: 88000.0,\n",
       " 0.7: 48000.0,\n",
       " 6: 76000.0,\n",
       " 6.5: 69000.0,\n",
       " 7.5: 76000.0,\n",
       " 2.5: 60000.0,\n",
       " 10: 83000.0,\n",
       " 1.9: 48000.0,\n",
       " 4.2: 63000.0}"
      ]
     },
     "execution_count": 91,
     "metadata": {},
     "output_type": "execute_result"
    }
   ],
   "source": [
    "average_salary_by_tenure"
   ]
  },
  {
   "cell_type": "markdown",
   "metadata": {},
   "source": [
    "* Emplear un intento de promedio es envano dado a que los años de experiencia no parecen coincidir, por lo que no es imposible agrupar a menos que sean de forma independiente."
   ]
  },
  {
   "cell_type": "markdown",
   "metadata": {},
   "source": [
    "Lo mejor en nuestro caso sería clasificar!"
   ]
  },
  {
   "cell_type": "code",
   "execution_count": 94,
   "metadata": {},
   "outputs": [],
   "source": [
    "def tenure_bucket(tenure):\n",
    "    #Menos de Dos años de Experiencia\n",
    "    if tenure < 2:\n",
    "        return \"less than two\"\n",
    "    #Menos de 5 años de experiencia\n",
    "    elif tenure < 5:\n",
    "        return \"between two and five\"\n",
    "    #Que no cumplan niguna de las condiciones + 5\n",
    "    else:\n",
    "        return \"more than five\""
   ]
  },
  {
   "cell_type": "markdown",
   "metadata": {},
   "source": [
    "* Clasificamos por Años Trabajados, empleando la función anterior"
   ]
  },
  {
   "cell_type": "code",
   "execution_count": 95,
   "metadata": {},
   "outputs": [],
   "source": [
    "salary_by_tenure_bucket = defaultdict(list)\n",
    "for salary, tenure in salaries_and_tenures:\n",
    " bucket = tenure_bucket(tenure)\n",
    " salary_by_tenure_bucket[bucket].append(salary)\n"
   ]
  },
  {
   "cell_type": "code",
   "execution_count": 100,
   "metadata": {},
   "outputs": [
    {
     "data": {
      "text/plain": [
       "defaultdict(list,\n",
       "            {'more than five': [83000, 88000, 76000, 69000, 76000, 83000],\n",
       "             'less than two': [48000, 48000],\n",
       "             'between two and five': [60000, 63000]})"
      ]
     },
     "execution_count": 100,
     "metadata": {},
     "output_type": "execute_result"
    }
   ],
   "source": [
    "salary_by_tenure_bucket"
   ]
  },
  {
   "cell_type": "markdown",
   "metadata": {},
   "source": [
    "* Obtenemos el Promedio"
   ]
  },
  {
   "cell_type": "code",
   "execution_count": 98,
   "metadata": {},
   "outputs": [],
   "source": [
    "average_salary_by_bucket = {\n",
    " tenure_bucket: sum(salaries) / len(salaries)\n",
    " for tenure_bucket, salaries in \n",
    " salary_by_tenure_bucket.items()\n",
    "}"
   ]
  },
  {
   "cell_type": "code",
   "execution_count": 99,
   "metadata": {},
   "outputs": [
    {
     "data": {
      "text/plain": [
       "{'more than five': 79166.66666666667,\n",
       " 'less than two': 48000.0,\n",
       " 'between two and five': 61500.0}"
      ]
     },
     "execution_count": 99,
     "metadata": {},
     "output_type": "execute_result"
    }
   ],
   "source": [
    "average_salary_by_bucket"
   ]
  },
  {
   "cell_type": "code",
   "execution_count": 101,
   "metadata": {},
   "outputs": [
    {
     "data": {
      "text/plain": [
       "31166.66666666667"
      ]
     },
     "execution_count": 101,
     "metadata": {},
     "output_type": "execute_result"
    }
   ],
   "source": [
    "average_salary_by_bucket[\"more than five\"] - average_salary_by_bucket[\"less than two\"]"
   ]
  },
  {
   "cell_type": "markdown",
   "metadata": {},
   "source": [
    "* En Promedio los que poseen mas de 5 años de experiencia ganan un 65% adicional de aquellos con poca o nula experiencia."
   ]
  },
  {
   "cell_type": "code",
   "execution_count": 102,
   "metadata": {},
   "outputs": [
    {
     "data": {
      "text/plain": [
       "0.6492916666666667"
      ]
     },
     "execution_count": 102,
     "metadata": {},
     "output_type": "execute_result"
    }
   ],
   "source": [
    "31166/average_salary_by_bucket[\"less than two\"]"
   ]
  },
  {
   "cell_type": "markdown",
   "metadata": {},
   "source": [
    "Algoritmo de Cuentas Pagadas"
   ]
  },
  {
   "cell_type": "markdown",
   "metadata": {},
   "source": [
    "* Se debe hallar la relación que existe entre los años de experiencia y las Cuentas Pagas"
   ]
  },
  {
   "cell_type": "markdown",
   "metadata": {},
   "source": [
    "0.7 paid\n",
    "1.9 unpaid\n",
    "2.5 paid\n",
    "4.2 unpaid\n",
    "6.0 unpaid\n",
    "6.5 unpaid\n",
    "7.5 unpaid\n",
    "8.1 unpaid\n",
    "8.7 paid\n",
    "10.0 paid"
   ]
  },
  {
   "cell_type": "code",
   "execution_count": 104,
   "metadata": {},
   "outputs": [],
   "source": [
    "dicc = dict(anios=[0.7,1.9,2.5,4.2,6.0,6.5,7.5,8.1,8.7,10.0],\n",
    "estado_pago = [\"paid\",\"unpaid\",\"paid\",\"unpaid\",\"unpaid\",\"unpaid\",\"unpaid\",\"unpaid\",\"paid\",\"paid\"])"
   ]
  },
  {
   "cell_type": "code",
   "execution_count": 107,
   "metadata": {},
   "outputs": [
    {
     "data": {
      "text/html": [
       "<div>\n",
       "<style scoped>\n",
       "    .dataframe tbody tr th:only-of-type {\n",
       "        vertical-align: middle;\n",
       "    }\n",
       "\n",
       "    .dataframe tbody tr th {\n",
       "        vertical-align: top;\n",
       "    }\n",
       "\n",
       "    .dataframe thead th {\n",
       "        text-align: right;\n",
       "    }\n",
       "</style>\n",
       "<table border=\"1\" class=\"dataframe\">\n",
       "  <thead>\n",
       "    <tr style=\"text-align: right;\">\n",
       "      <th></th>\n",
       "      <th>anios</th>\n",
       "      <th>estado_pago</th>\n",
       "    </tr>\n",
       "  </thead>\n",
       "  <tbody>\n",
       "    <tr>\n",
       "      <th>0</th>\n",
       "      <td>0.7</td>\n",
       "      <td>paid</td>\n",
       "    </tr>\n",
       "    <tr>\n",
       "      <th>1</th>\n",
       "      <td>1.9</td>\n",
       "      <td>unpaid</td>\n",
       "    </tr>\n",
       "    <tr>\n",
       "      <th>2</th>\n",
       "      <td>2.5</td>\n",
       "      <td>paid</td>\n",
       "    </tr>\n",
       "    <tr>\n",
       "      <th>3</th>\n",
       "      <td>4.2</td>\n",
       "      <td>unpaid</td>\n",
       "    </tr>\n",
       "    <tr>\n",
       "      <th>4</th>\n",
       "      <td>6.0</td>\n",
       "      <td>unpaid</td>\n",
       "    </tr>\n",
       "    <tr>\n",
       "      <th>5</th>\n",
       "      <td>6.5</td>\n",
       "      <td>unpaid</td>\n",
       "    </tr>\n",
       "    <tr>\n",
       "      <th>6</th>\n",
       "      <td>7.5</td>\n",
       "      <td>unpaid</td>\n",
       "    </tr>\n",
       "    <tr>\n",
       "      <th>7</th>\n",
       "      <td>8.1</td>\n",
       "      <td>unpaid</td>\n",
       "    </tr>\n",
       "    <tr>\n",
       "      <th>8</th>\n",
       "      <td>8.7</td>\n",
       "      <td>paid</td>\n",
       "    </tr>\n",
       "    <tr>\n",
       "      <th>9</th>\n",
       "      <td>10.0</td>\n",
       "      <td>paid</td>\n",
       "    </tr>\n",
       "  </tbody>\n",
       "</table>\n",
       "</div>"
      ],
      "text/plain": [
       "   anios estado_pago\n",
       "0    0.7        paid\n",
       "1    1.9      unpaid\n",
       "2    2.5        paid\n",
       "3    4.2      unpaid\n",
       "4    6.0      unpaid\n",
       "5    6.5      unpaid\n",
       "6    7.5      unpaid\n",
       "7    8.1      unpaid\n",
       "8    8.7        paid\n",
       "9   10.0        paid"
      ]
     },
     "execution_count": 107,
     "metadata": {},
     "output_type": "execute_result"
    }
   ],
   "source": [
    "df = pd.DataFrame(dicc)\n",
    "df"
   ]
  },
  {
   "cell_type": "markdown",
   "metadata": {},
   "source": [
    "* Como ejemplo didáctico se halla un patrón el cual nos menciona que usuarios con pocos o muchos años de experiencia suelen tener cuentas pagadas.\n",
    "* Mientras que con usuarios con experiencia mas cercanos al promedio tienen un tendecia a dejarla sin pagar "
   ]
  },
  {
   "cell_type": "code",
   "execution_count": 108,
   "metadata": {},
   "outputs": [],
   "source": [
    "def predict_paid_or_unpaid(years_experience):\n",
    "    if years_experience < 3.0:\n",
    "        return \"paid\"\n",
    "    elif years_experience < 8.5:\n",
    "        return \"unpaid\"\n",
    "    else:\n",
    "        return \"paid\""
   ]
  },
  {
   "cell_type": "code",
   "execution_count": 112,
   "metadata": {},
   "outputs": [
    {
     "name": "stdout",
     "output_type": "stream",
     "text": [
      "paid\n",
      "unpaid\n",
      "paid\n"
     ]
    }
   ],
   "source": [
    "print(predict_paid_or_unpaid(1.5))\n",
    "print(predict_paid_or_unpaid(5.5))\n",
    "print(predict_paid_or_unpaid(11.5))"
   ]
  },
  {
   "cell_type": "markdown",
   "metadata": {},
   "source": [
    "Algoritmo de Tópicos de Interés"
   ]
  },
  {
   "cell_type": "markdown",
   "metadata": {},
   "source": [
    "* Cómo podríamos priorizar que Tópico abordar de acuerdo al interés popular?"
   ]
  },
  {
   "cell_type": "code",
   "execution_count": 113,
   "metadata": {},
   "outputs": [],
   "source": [
    "interests = [\n",
    " (0, \"Hadoop\"), (0, \"Big Data\"), (0, \"HBase\"), (0, \"Java\"),\n",
    " (0, \"Spark\"), (0, \"Storm\"), (0, \"Cassandra\"),\n",
    " (1, \"NoSQL\"), (1, \"MongoDB\"), (1, \"Cassandra\"), (1, \"HBase\"),\n",
    " (1, \"Postgres\"), (2, \"Python\"), (2, \"scikit-learn\"), (2,\n",
    "\"scipy\"),\n",
    " (2, \"numpy\"), (2, \"statsmodels\"), (2, \"pandas\"), (3, \"R\"),\n",
    "(3, \"Python\"),\n",
    " (3, \"statistics\"), (3, \"regression\"), (3, \"probability\"),\n",
    " (4, \"machine learning\"), (4, \"regression\"), (4, \"decisiontrees\"),\n",
    " (4, \"libsvm\"), (5, \"Python\"), (5, \"R\"), (5, \"Java\"), (5,\n",
    "\"C++\"),\n",
    " (5, \"Haskell\"), (5, \"programming languages\"), (6,\n",
    "\"statistics\"),\n",
    " (6, \"probability\"), (6, \"mathematics\"), (6, \"theory\"),\n",
    " (7, \"machine learning\"), (7, \"scikit-learn\"), (7, \"Mahout\"),\n",
    " (7, \"neural networks\"), (8, \"neural networks\"), (8, \"deeplearning\"),\n",
    " (8, \"Big Data\"), (8, \"artificial intelligence\"), (9,\n",
    "\"Hadoop\"),\n",
    " (9, \"Java\"), (9, \"MapReduce\"), (9, \"Big Data\")\n",
    "]"
   ]
  },
  {
   "cell_type": "markdown",
   "metadata": {},
   "source": [
    "* La forma más sencilla sería contar las palabras"
   ]
  },
  {
   "cell_type": "code",
   "execution_count": 117,
   "metadata": {},
   "outputs": [
    {
     "data": {
      "text/plain": [
       "Counter({'hadoop': 2,\n",
       "         'big': 3,\n",
       "         'data': 3,\n",
       "         'hbase': 2,\n",
       "         'java': 3,\n",
       "         'spark': 1,\n",
       "         'storm': 1,\n",
       "         'cassandra': 2,\n",
       "         'nosql': 1,\n",
       "         'mongodb': 1,\n",
       "         'postgres': 1,\n",
       "         'python': 3,\n",
       "         'scikit-learn': 2,\n",
       "         'scipy': 1,\n",
       "         'numpy': 1,\n",
       "         'statsmodels': 1,\n",
       "         'pandas': 1,\n",
       "         'r': 2,\n",
       "         'statistics': 2,\n",
       "         'regression': 2,\n",
       "         'probability': 2,\n",
       "         'machine': 2,\n",
       "         'learning': 2,\n",
       "         'decisiontrees': 1,\n",
       "         'libsvm': 1,\n",
       "         'c++': 1,\n",
       "         'haskell': 1,\n",
       "         'programming': 1,\n",
       "         'languages': 1,\n",
       "         'mathematics': 1,\n",
       "         'theory': 1,\n",
       "         'mahout': 1,\n",
       "         'neural': 2,\n",
       "         'networks': 2,\n",
       "         'deeplearning': 1,\n",
       "         'artificial': 1,\n",
       "         'intelligence': 1,\n",
       "         'mapreduce': 1})"
      ]
     },
     "execution_count": 117,
     "metadata": {},
     "output_type": "execute_result"
    }
   ],
   "source": [
    "words_and_counts = Counter(word for user, interest in interests\n",
    " for word in interest.lower().split())\n",
    "words_and_counts"
   ]
  },
  {
   "cell_type": "code",
   "execution_count": 120,
   "metadata": {},
   "outputs": [
    {
     "name": "stdout",
     "output_type": "stream",
     "text": [
      "big 3\n",
      "data 3\n",
      "java 3\n",
      "python 3\n",
      "hadoop 2\n",
      "hbase 2\n",
      "cassandra 2\n",
      "scikit-learn 2\n",
      "r 2\n",
      "statistics 2\n",
      "regression 2\n",
      "probability 2\n",
      "machine 2\n",
      "learning 2\n",
      "neural 2\n",
      "networks 2\n"
     ]
    }
   ],
   "source": [
    "#Most coomon sirve para encontrar los elementos mas comunes de una lista\n",
    "for word, count in words_and_counts.most_common():\n",
    " if count > 1:\n",
    "    print(word, count)"
   ]
  }
 ],
 "metadata": {
  "kernelspec": {
   "display_name": "Python 3.10.2 64-bit",
   "language": "python",
   "name": "python3"
  },
  "language_info": {
   "codemirror_mode": {
    "name": "ipython",
    "version": 3
   },
   "file_extension": ".py",
   "mimetype": "text/x-python",
   "name": "python",
   "nbconvert_exporter": "python",
   "pygments_lexer": "ipython3",
   "version": "3.10.2"
  },
  "orig_nbformat": 4,
  "vscode": {
   "interpreter": {
    "hash": "afb734500600fd355917ca529030176ea0ca205570884b88f2f6f7d791fd3fbe"
   }
  }
 },
 "nbformat": 4,
 "nbformat_minor": 2
}
