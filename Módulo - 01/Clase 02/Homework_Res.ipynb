{
 "cells": [
  {
   "cell_type": "markdown",
   "metadata": {},
   "source": [
    "# Práctica Clase 2"
   ]
  },
  {
   "cell_type": "markdown",
   "metadata": {},
   "source": [
    "1) Abrir el archivo \"Emisiones_CO2.csv\" y cargar sus datos en un diccionario."
   ]
  },
  {
   "cell_type": "code",
   "execution_count": 6,
   "metadata": {},
   "outputs": [
    {
     "name": "stdout",
     "output_type": "stream",
     "text": [
      "Código de país|Nombre del país|Región|Año|CO2 (kt)|CO2 per cápita (toneladas métricas)\n",
      "\n",
      "ABW|Aruba|América Latina y Caribe|1960||\n",
      "\n",
      "ABW|Aruba|América Latina y Caribe|1961||\n",
      "\n"
     ]
    }
   ],
   "source": [
    "#El enconding se puede cambiar abajo en el csv\n",
    "archivo = open(\"Emisiones_CO2.csv\")\n",
    "#append para agregar información\n",
    "#Relativ Path, \n",
    "#Nose recomienda emplear estas cosas con objetos online, csv, se usa de manera local\n",
    "\n"
   ]
  },
  {
   "cell_type": "markdown",
   "metadata": {},
   "source": [
    "2) a) ¿Cuántas variables hay? <br>\n",
    "b) ¿Qué tipos de datos usar para cada una? <br>\n",
    "c) ¿Qué tipo de variables son? <br>\n",
    "d) ¿Hay valores faltantes? <br>\n",
    "e) ¿Cuál es el total de emisiones de CO2 para 'América Latina y Caribe' en el año 2010?"
   ]
  },
  {
   "cell_type": "code",
   "execution_count": 44,
   "metadata": {},
   "outputs": [],
   "source": [
    "dicc_emisiones = {  'cod_pais' : [],'nom_pais' : [],'region' : [],'anio' : [],'co2' : [],'co2_percapita' : []}"
   ]
  },
  {
   "cell_type": "code",
   "execution_count": 45,
   "metadata": {},
   "outputs": [],
   "source": [
    "#Abrimos el Archivo\n",
    "archivo = open(\"Emisiones_CO2.csv\") \n",
    "#Saltamos la primera linea\n",
    "next(archivo)\n",
    "#Cada linea del archivo es un string\n",
    "for linea in archivo:\n",
    "    #Sirve para eliminar el salto de linea\n",
    "    linea = linea.strip()\n",
    "    #Creamos una lista separando la linea con el separador especifico\n",
    "    campos = linea.split(\"|\")\n",
    "    for i,e in enumerate(dicc_emisiones):\n",
    "        dicc_emisiones[e].append(campos[i])\n",
    "\n",
    "#Es recomendable cerrar el archivo\n",
    "archivo.close()"
   ]
  },
  {
   "cell_type": "code",
   "execution_count": 46,
   "metadata": {},
   "outputs": [],
   "source": [
    "#Castear año como Integer /Modifica todos los valores de una \"columna\"\n",
    "#Vamos a recorrer por indice\n",
    "for i in range(len(dicc_emisiones[\"anio\"])):\n",
    "    dicc_emisiones[\"anio\"][i] = int(dicc_emisiones[\"anio\"][i])"
   ]
  },
  {
   "cell_type": "code",
   "execution_count": 47,
   "metadata": {},
   "outputs": [],
   "source": [
    "#Accedemos a la lista de los co2, donde hay datos faltantes y un mal formato\n",
    "for i,e in enumerate(dicc_emisiones[\"co2\"]):\n",
    "    #Lo modificamos a nuestro gusto y le damos formato\n",
    "    e = e.replace(\".\",\"\").replace(\",\",\".\")\n",
    "    #Si el elemento es vacio, hacemos que sea None, sino lo casteamos a float\n",
    "    if e == \"\":\n",
    "        e = None\n",
    "    else:\n",
    "        e = float(e)\n",
    "    #Actualizamos el diccionario según el indice por el elemento (e)\n",
    "    dicc_emisiones[\"co2\"][i] = e\n"
   ]
  },
  {
   "cell_type": "code",
   "execution_count": 60,
   "metadata": {},
   "outputs": [
    {
     "data": {
      "text/plain": [
       "539.049"
      ]
     },
     "execution_count": 60,
     "metadata": {},
     "output_type": "execute_result"
    }
   ],
   "source": [
    "#Prueba Diccionario Emisiones\n",
    "dicc_emisiones[\"co2\"][100]"
   ]
  },
  {
   "cell_type": "code",
   "execution_count": 49,
   "metadata": {},
   "outputs": [],
   "source": [
    "#Accedemos a la lista de los co2_p, donde hay datos faltantes y un mal formato\n",
    "for i,e in enumerate(dicc_emisiones[\"co2_percapita\"]):\n",
    "    #Lo modificamos a nuestro gusto y le damos formato\n",
    "    e = e.replace(\".\",\"\").replace(\",\",\".\")\n",
    "    #Si el elemento es vacio, hacemos que sea None, sino lo casteamos a float\n",
    "    if e == \"\":\n",
    "        e = None\n",
    "    else:\n",
    "        e = float(e)\n",
    "    #Actualizamos el diccionario según el indice por el elemento (e)\n",
    "    dicc_emisiones[\"co2_percapita\"][i] = e"
   ]
  },
  {
   "cell_type": "code",
   "execution_count": 50,
   "metadata": {},
   "outputs": [],
   "source": [
    "#Prueba Diccionario Emisiones\n",
    "dicc_emisiones[\"co2_percapita\"][0]"
   ]
  },
  {
   "cell_type": "code",
   "execution_count": 52,
   "metadata": {},
   "outputs": [
    {
     "data": {
      "text/plain": [
       "1691635"
      ]
     },
     "execution_count": 52,
     "metadata": {},
     "output_type": "execute_result"
    }
   ],
   "source": [
    "#Sumatoria de datos por filtros con enumerate\n",
    "filtro_region = \"América Latina y Caribe\"\n",
    "filtro_anio = 2010\n",
    "total_emisiones = 0\n",
    "\n",
    "for indice,elemento in enumerate(dicc_emisiones[\"region\"]):\n",
    "    if dicc_emisiones[\"region\"][indice] == filtro_region and dicc_emisiones[\"anio\"][indice] == filtro_anio and dicc_emisiones[\"co2\"][indice] != None:\n",
    "        total_emisiones += dicc_emisiones[\"co2\"][indice]\n",
    "\n",
    "round(total_emisiones)"
   ]
  },
  {
   "cell_type": "code",
   "execution_count": 54,
   "metadata": {},
   "outputs": [
    {
     "name": "stdout",
     "output_type": "stream",
     "text": [
      "2e.-El total de emisiones es: 1691634.8009999995\n"
     ]
    }
   ],
   "source": [
    "#Sumatoria de datos por filtros pero con range(largo de la lista diccionario)\n",
    "#Usamos en sí la lista de la que deseamos obtener los datos\n",
    "Emisiones_ALC_2010 = []\n",
    "#Para un i a lo largo de la lista hasta el largo de la lista dicc[\"co2\"]\n",
    "for i in range(len(dicc_emisiones[\"co2\"])):\n",
    "    #Creo mis condiciones, la región correspondicnete, el año y que mi dato en CO2 no sea vacío. \n",
    "    c1 = dicc_emisiones[\"region\"][i] == \"América Latina y Caribe\"\n",
    "    c2 = dicc_emisiones[\"anio\"][i] == 2010\n",
    "    c3 = dicc_emisiones[\"co2\"][i] != None\n",
    "    \n",
    "    if c1 and c2 and c3:\n",
    "        Emisiones_ALC_2010.append(dicc_emisiones[\"co2\"][i])\n",
    "    \n",
    "print(\"2e.-El total de emisiones es:\", sum(Emisiones_ALC_2010))\n"
   ]
  },
  {
   "cell_type": "code",
   "execution_count": 58,
   "metadata": {},
   "outputs": [
    {
     "data": {
      "text/plain": [
       "'[hola'"
      ]
     },
     "execution_count": 58,
     "metadata": {},
     "output_type": "execute_result"
    }
   ],
   "source": []
  }
 ],
 "metadata": {
  "interpreter": {
   "hash": "afb734500600fd355917ca529030176ea0ca205570884b88f2f6f7d791fd3fbe"
  },
  "kernelspec": {
   "display_name": "Python 3.10.2 64-bit",
   "language": "python",
   "name": "python3"
  },
  "language_info": {
   "codemirror_mode": {
    "name": "ipython",
    "version": 3
   },
   "file_extension": ".py",
   "mimetype": "text/x-python",
   "name": "python",
   "nbconvert_exporter": "python",
   "pygments_lexer": "ipython3",
   "version": "3.10.2"
  },
  "orig_nbformat": 4
 },
 "nbformat": 4,
 "nbformat_minor": 2
}
